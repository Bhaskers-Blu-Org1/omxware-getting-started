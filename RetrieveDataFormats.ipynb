{
 "cells": [
  {
   "cell_type": "markdown",
   "metadata": {},
   "source": [
    "\n",
    "## Overview:   \n",
    "This notebook demonstrates how to leverage different data formats for OMXWare results for downstream analysis.\n"
   ]
  },
  {
   "cell_type": "code",
   "execution_count": 11,
   "metadata": {},
   "outputs": [],
   "source": [
    "%matplotlib inline\n",
    "\n",
    "import json\n",
    "from IPython.display import display\n",
    "\n",
    "import omxware\n",
    "\n",
    "\n",
    "# --- Authentication options --- #\n",
    "# generate token with OMXWare user name and password (likely done once and then stored in file, see usage below)\n",
    "# token = omxware.get_token('harsha', '<pwd>') # fill in password to initiate token\n",
    "\n",
    "# or\n",
    "\n",
    "# use previously generated token loaded from file\n",
    "token_path = \"./omxware_collaborative_work/super_awesome_token\"  # update for your path to the token file you create\n",
    "f = open(token_path)\n",
    "token = f.readline()\n",
    "\n",
    "# provide your token to authenticate with OMXWare\n",
    "omx = omxware.omxware(token)"
   ]
  },
  {
   "cell_type": "markdown",
   "metadata": {},
   "source": [
    "### Retrieve gene data from OMXWare as a Pandas Dataframe"
   ]
  },
  {
   "cell_type": "code",
   "execution_count": 14,
   "metadata": {},
   "outputs": [
    {
     "data": {
      "text/html": [
       "<div>\n",
       "<style scoped>\n",
       "    .dataframe tbody tr th:only-of-type {\n",
       "        vertical-align: middle;\n",
       "    }\n",
       "\n",
       "    .dataframe tbody tr th {\n",
       "        vertical-align: top;\n",
       "    }\n",
       "\n",
       "    .dataframe thead th {\n",
       "        text-align: right;\n",
       "    }\n",
       "</style>\n",
       "<table border=\"1\" class=\"dataframe\">\n",
       "  <thead>\n",
       "    <tr style=\"text-align: right;\">\n",
       "      <th></th>\n",
       "      <th>genera</th>\n",
       "      <th>genomes</th>\n",
       "      <th>id</th>\n",
       "      <th>name</th>\n",
       "      <th>omx_creation_ts</th>\n",
       "      <th>omx_modified_ts</th>\n",
       "      <th>sequence_length</th>\n",
       "      <th>type</th>\n",
       "    </tr>\n",
       "  </thead>\n",
       "  <tbody>\n",
       "    <tr>\n",
       "      <th>0</th>\n",
       "      <td>[staphylococcus]</td>\n",
       "      <td>[ERR178812]</td>\n",
       "      <td>7a3321662f4a3d9615854543ec8dbe21</td>\n",
       "      <td>sporulation regulator WhiA</td>\n",
       "      <td>2018-02-16T17:18:22.748Z</td>\n",
       "      <td>2018-07-26T03:53:57.308Z</td>\n",
       "      <td>945</td>\n",
       "      <td>gene</td>\n",
       "    </tr>\n",
       "    <tr>\n",
       "      <th>1</th>\n",
       "      <td>[flavobacterium]</td>\n",
       "      <td>[SRR4237026]</td>\n",
       "      <td>426a6724c2cec6990cc484be406423ba</td>\n",
       "      <td>Sporulation kinase E</td>\n",
       "      <td>2018-02-28T18:15:43.542Z</td>\n",
       "      <td>2018-02-28T18:15:43.542Z</td>\n",
       "      <td>1149</td>\n",
       "      <td>gene</td>\n",
       "    </tr>\n",
       "    <tr>\n",
       "      <th>2</th>\n",
       "      <td>[bacillus]</td>\n",
       "      <td>[GCF_001518875.1]</td>\n",
       "      <td>e09aabef4f22b5798e3c9262e1aa5147</td>\n",
       "      <td>Sporulation kinase E</td>\n",
       "      <td>2018-01-27T02:57:27.528Z</td>\n",
       "      <td>2018-01-27T02:57:27.528Z</td>\n",
       "      <td>2406</td>\n",
       "      <td>gene</td>\n",
       "    </tr>\n",
       "    <tr>\n",
       "      <th>3</th>\n",
       "      <td>[bacillus]</td>\n",
       "      <td>[GCF_000493375.1]</td>\n",
       "      <td>b4db0386d303a215e06a3a99a9371d6a</td>\n",
       "      <td>Sporulation protein YjcA</td>\n",
       "      <td>2018-02-04T21:54:23.741Z</td>\n",
       "      <td>2018-02-04T21:54:23.741Z</td>\n",
       "      <td>381</td>\n",
       "      <td>gene</td>\n",
       "    </tr>\n",
       "    <tr>\n",
       "      <th>4</th>\n",
       "      <td>[pseudomonas]</td>\n",
       "      <td>[ERR1189827, GCF_000481405.1, GCF_000795925.1,...</td>\n",
       "      <td>2219008d73665bf11880459a1224ffac</td>\n",
       "      <td>Sporulation kinase A</td>\n",
       "      <td>2018-02-02T00:00:58.119Z</td>\n",
       "      <td>2018-02-02T00:00:58.119Z</td>\n",
       "      <td>1593</td>\n",
       "      <td>gene</td>\n",
       "    </tr>\n",
       "  </tbody>\n",
       "</table>\n",
       "</div>"
      ],
      "text/plain": [
       "             genera                                            genomes  \\\n",
       "0  [staphylococcus]                                        [ERR178812]   \n",
       "1  [flavobacterium]                                       [SRR4237026]   \n",
       "2        [bacillus]                                  [GCF_001518875.1]   \n",
       "3        [bacillus]                                  [GCF_000493375.1]   \n",
       "4     [pseudomonas]  [ERR1189827, GCF_000481405.1, GCF_000795925.1,...   \n",
       "\n",
       "                                 id                        name  \\\n",
       "0  7a3321662f4a3d9615854543ec8dbe21  sporulation regulator WhiA   \n",
       "1  426a6724c2cec6990cc484be406423ba        Sporulation kinase E   \n",
       "2  e09aabef4f22b5798e3c9262e1aa5147        Sporulation kinase E   \n",
       "3  b4db0386d303a215e06a3a99a9371d6a    Sporulation protein YjcA   \n",
       "4  2219008d73665bf11880459a1224ffac        Sporulation kinase A   \n",
       "\n",
       "            omx_creation_ts           omx_modified_ts  sequence_length  type  \n",
       "0  2018-02-16T17:18:22.748Z  2018-07-26T03:53:57.308Z              945  gene  \n",
       "1  2018-02-28T18:15:43.542Z  2018-02-28T18:15:43.542Z             1149  gene  \n",
       "2  2018-01-27T02:57:27.528Z  2018-01-27T02:57:27.528Z             2406  gene  \n",
       "3  2018-02-04T21:54:23.741Z  2018-02-04T21:54:23.741Z              381  gene  \n",
       "4  2018-02-02T00:00:58.119Z  2018-02-02T00:00:58.119Z             1593  gene  "
      ]
     },
     "execution_count": 14,
     "metadata": {},
     "output_type": "execute_result"
    }
   ],
   "source": [
    "search_string = 'sporulation'\n",
    "response = omx.genes(gene_name=search_string, page_size=25)\n",
    "\n",
    "#total_results = response.total_results()\n",
    "#print(total_results)\n",
    "\n",
    "results_df = response.results(type='df')\n",
    "results_df.head()"
   ]
  },
  {
   "cell_type": "markdown",
   "metadata": {},
   "source": [
    "### Distribution of Genes by Genera"
   ]
  },
  {
   "cell_type": "code",
   "execution_count": 15,
   "metadata": {},
   "outputs": [
    {
     "data": {
      "image/png": "[encoded data removed]",
      "text/plain": [
       "<Figure size 432x288 with 1 Axes>"
      ]
     },
     "metadata": {},
     "output_type": "display_data"
    }
   ],
   "source": [
    "response.show_facets(name='genera', topN=7)"
   ]
  },
  {
   "cell_type": "markdown",
   "metadata": {},
   "source": [
    "### Retrieve gene data from OMXWare as JSON"
   ]
  },
  {
   "cell_type": "code",
   "execution_count": 16,
   "metadata": {},
   "outputs": [
    {
     "name": "stdout",
     "output_type": "stream",
     "text": [
      "[\n",
      "    {\n",
      "        \"genera\": [\n",
      "            \"staphylococcus\"\n",
      "        ],\n",
      "        \"genomes\": [\n",
      "            \"ERR178812\"\n",
      "        ],\n",
      "        \"id\": \"7a3321662f4a3d9615854543ec8dbe21\",\n",
      "        \"name\": \"sporulation regulator WhiA\",\n",
      "        \"omx_creation_ts\": \"2018-02-16T17:18:22.748Z\",\n",
      "        \"omx_modified_ts\": \"2018-07-26T03:53:57.308Z\",\n",
      "        \"sequence_length\": 945,\n",
      "        \"type\": \"gene\"\n",
      "    },\n",
      "    {\n",
      "        \"genera\": [\n",
      "            \"flavobacterium\"\n",
      "        ],\n",
      "        \"genomes\": [\n",
      "            \"SRR4237026\"\n",
      "        ],\n",
      "        \"id\": \"426a6724c2cec6990cc484be406423ba\",\n",
      "        \"name\": \"Sporulation kinase E\",\n",
      "        \"omx_creation_ts\": \"2018-02-28T18:15:43.542Z\",\n",
      "        \"omx_modified_ts\": \"2018-02-28T18:15:43.542Z\",\n",
      "        \"sequence_length\": 1149,\n",
      "        \"type\": \"gene\"\n",
      "    },\n",
      "    {\n",
      "        \"genera\": [\n",
      "            \"bacillus\"\n",
      "        ],\n",
      "        \"genomes\": [\n",
      "            \"GCF_001518875.1\"\n",
      "        ],\n",
      "        \"id\": \"e09aabef4f22b5798e3c9262e1aa5147\",\n",
      "        \"name\": \"Sporulation kinase E\",\n",
      "        \"omx_creation_ts\": \"2018-01-27T02:57:27.528Z\",\n",
      "        \"omx_modified_ts\": \"2018-01-27T02:57:27.528Z\",\n",
      "        \"sequence_length\": 2406,\n",
      "        \"type\": \"gene\"\n",
      "    }\n",
      "]\n"
     ]
    }
   ],
   "source": [
    "results_json = response.results(type='json')\n",
    "print(json.dumps(results_json[:3], indent=4, sort_keys=True))"
   ]
  },
  {
   "cell_type": "markdown",
   "metadata": {},
   "source": [
    "### Retrieve gene data from OMXWare as an Object"
   ]
  },
  {
   "cell_type": "code",
   "execution_count": 17,
   "metadata": {},
   "outputs": [
    {
     "name": "stdout",
     "output_type": "stream",
     "text": [
      "Returns: List of gene objects \n",
      "Results: 70686\n",
      "\n",
      "Id  \t\t=> 7a3321662f4a3d9615854543ec8dbe21\n",
      "Name   \t\t=> sporulation regulator WhiA\n",
      "Sequence   \t=> ATGAGCTTTGCATCAGAAATGAAAAATGAATTAACTAGAATAGACGTCGATGAAATGAATGCAAAGGCAGAGCTCAGTGCACTGATTCGAATGAATGGTG...\n",
      "Sequence length => 945\n",
      "\n",
      "\n",
      " JSON:\n",
      "{'id': '7a3321662f4a3d9615854543ec8dbe21', 'name': 'sporulation regulator WhiA', 'type': 'gene', 'genera': ['staphylococcus'], 'genomes': ['ERR178812'], 'sequence_length': 945, 'omx_creation_ts': '2018-02-16T17:18:22.748Z', 'omx_modified_ts': '2018-07-26T03:53:57.308Z'}\n"
     ]
    }
   ],
   "source": [
    "results_list = response.results(type='list')\n",
    "\n",
    "# By default, the API returns a `list`\n",
    "print(\"Returns: List of {} objects \\nResults: {}\\n\".format(response.type(), response.total_results()) )\n",
    "    \n",
    "gene = results_list[0]\n",
    "print(\"Id  \\t\\t=> \" + gene.id())\n",
    "print(\"Name   \\t\\t=> \" + gene.name())\n",
    "print(\"Sequence   \\t=> \" + gene.sequence()[:100] + \"...\")\n",
    "print(\"Sequence length => \" + str(gene.sequence_length()))\n",
    "\n",
    "print(\"\\n\\n JSON:\")\n",
    "print(gene.json())"
   ]
  },
  {
   "cell_type": "markdown",
   "metadata": {},
   "source": [
    "### Retrieve gene data from OMXWare as FASTA"
   ]
  },
  {
   "cell_type": "code",
   "execution_count": 18,
   "metadata": {},
   "outputs": [
    {
     "name": "stdout",
     "output_type": "stream",
     "text": [
      ">OMX_gene_00054a98f8ddd95e3f46d9d757137284|Sensor histidine kinase RcsC\n",
      "ATGAACGAGAAGGTGCTGCTGGTTGACGACGACGAGGCCATCCGCGAAGTCCTCAGCCTCTCCATCGCCGACCTGGGCTACGACGTGGAAACCGCCCCCGGCGGCCGCGAAGCCCTGGAGCTGTGCGCCACCTTCAAACCGTCCATCGTGCTCACCGACATCAAGATGCCCGGCATGGACGGCATCGAACTGCTCTCGCGCGTCAAAGCCCTCGATCCCGAGATCGAGGTCATCATGATTTCCGGCCATGGCGACATGGAACTGGCCATCGAGAGCCTCAAGCGCCAGGCCCTGGATTTCCTCACCAAGCCCGTGCGCGACGAACTGCTCACAGCCTCCCTCCACCGGGCCGCCGACCGCGTGTCCATGCGCCGCCAGATCACCGAACACACCCGCAATCTCGAACGGCTGGTGCGCGAAAAATCCGCCCGCCTGGTCGAGATGGAGCGCCGCATGGCCGTGGGGCAGGCCGTGGAGGGCGTGGCCAGCGCCATCGAGGGGCTCATTGCCTCCTTCGACCAGGGACCCAGCTATTTCAACCAGATGCCCTGCTGCATCGTCATCCACAACCGCTACCTCGAAATCGTGGCCGTAAACACCCTGGGCCGGCAGCGCCTGGGCGAGGTGGTGGGCAAGATGAGCTGGGAACTCTACGCCGACCGTCAGGGCAGCGGCAACGCCTGCCCGGTCTGGCGCACCGTGGAACAAGGCCAGGGCCAGCGCGGCCGCGAGACCTTCCGCGACAAGGACGGCCGCGAGATTCCGGTGCTGATCCATACCGCCCCGGTCTTCGGCACGGACGGCCAGGTGGAGCTGGTCATCGAGATCGCCGCCGACGTGGCCGAGGTGGGCCGGCTCCAGGAAGAGCTGCGGGCCGTGCGCGAGAAATTCCAGCGCCTGTTCGACGCCGTGCCCTGCGCCATCGCCGTGCTGGACCAGGACTTCACCGTGGTCGAAGCCAACCGCCAATGGCGCGCCGACTTCGGCGAGGCCGAAACCGGCCCCTGCCACAAACTGTTTGCCCACCGCGACGACCCCTGCGAACACTGCCCGGCCGAAAGCTCCTTCCACGACGGCGCGCCCCACGAAGGCGAAACTGTCGTGTCCACCCGCTGCGGCGCGGCCAAAAACATGTGGCTTCGCACCGCCCCCATCCCCGACGCCACAGGCGAAACCAGCCAGGTCATCGAAATCGCCGCCGACATCACCCCCATCCGGGCCCTGCAAGACCACCTCGCATCGCTTGGGCTCATGCTCGGCTCCATGTCCCACGGCGTCAAAGGCCTGCTCACCTCCCTCGACGGCGGCATGTTCAAGGTCGAAACCGGACTGTCCCGCGAGGACTGGACCCGCGTGCGCGACGGTTGGGGCGTGGTGTCCGACAAGATCGGACGCATCCGCAACATGGTGCTCGACATCCTGTGGTACGCCAAATCGCGCGAACCCGAGCTCTCCCCCGTCTCCATCGAAACCTTCGCCCGCGATCTGGCCGGCATCGTCGAACCCAAGGCCCAAAGCCGCGACGTGGCCTTCATCCTGCGCCTGGGCGAGGCCGCAGGCACGCTGCCCATGGACGAGACGGCGCTCACCTCGGCCATGGTCAACCTGCTCGAAAACGCCGTGGATGCCTGCGCCGAGGACAAGGCCAAGGCCTTCCACGAAGTGACCCTGACCGTGGAAGCCACGGCCGAGGCCGTGACCTTCGTGGTCGCCGACAACGGCGTCGGCATGGACCAGTCCACCCGGGAACGCATGTTTACGCTCTTTTTCTCCTCCAAAGGCTCGCGCGGCACCGGACTGGGGCTTTTCATCGCCAACCAGATCGTGGCCCAGCACGGAGGCTCCATCGCCGTGACCTCCGAACCCGGCGTCGGCAGCGCCATCGCCGTGCGCCTGCCGCGCGGCGCTAGCGTTTGCAGTTAG\n"
     ]
    }
   ],
   "source": [
    "new_gene_object = omx.genes(ids='00054a98f8ddd95e3f46d9d757137284').results(type='fasta')\n",
    "print(new_gene_object)"
   ]
  },
  {
   "cell_type": "markdown",
   "metadata": {},
   "source": [
    "### Retrieve Gene query results as fasta"
   ]
  },
  {
   "cell_type": "code",
   "execution_count": 19,
   "metadata": {},
   "outputs": [
    {
     "name": "stdout",
     "output_type": "stream",
     "text": [
      ">OMX_gene_7a3321662f4a3d9615854543ec8dbe21|sporulation regulator WhiA\n",
      "ATGAGCTTTGCATCAGAAATGAAAAATGAATTAACTAGAATAGACGTCGATGAAATGAATGCAAAGGCAGAGCTCAGTGCACTGATTCGAATGAATGGTGCACTTAGTCTTTCAAATCAACAATTTGTTATAAATGTTCAAACGGAAAATGCAACAACGGCAAGACGTATTTATTCGTTGATTAAACGTGTCTTTAATGTGGAAGTTGAAATATTAGTCCGTAAAAAAATGAAACTTAAAAAAAATAATATTTATATTTGTCGTACAAAGATGAAAGCGAAAGAAATTCTTGATGAATTAGGAATTTTAAAAGACGGCATTTTTACGCATGAAATTGATCATTCAATGATTCAAGATGACGAAATGAGACGTAGTTACTTGAGAGGAGCTTTTCTCGCAGGTGGCTCTGTGAATAACCCTGAAACATCTTCATACCATTTGGAAATTTTTTCTCAAAATGAGAGTCATGCAGAAGGCTTAACGAAACTAATGAATAGTTATGAGTTGAATGCCAAACATTTAGAGCGAAAAAAAGGAAGTATTACGTATTTAAAAGAAGCGGAAAAAATTTCGGATTTTCTTAGTTTGATAGGTGGTTATCAAGCGTTATTAAAATTTGAAGACGTACGTATTGTAAGAGATATGCGTAATTCTGTTAACCGACTCGTTAATTGTGAAACGGCAAATCTAAATAAAACAGTTAGTGCTGCGATGAAACAAGTTGAGAGCATTAAATTGATTGATAAAGAAATTGGTATTGAAAATTTACCAGACAGGTTGAGAGAGATTGCTAGAATTCGAGTAGAACATCAAGAAATTTCGTTGAAAGAGCTTGGAGAAATGGTATCAACTGGTCCAATTTCAAAATCAGGTGTAAATCATCGATTAAGAAAACTTAATGATTTAGCCGATAAGATTAGAAATGGTGAACAAATAGAATTATAA\n",
      ">OMX_gene_426a6724c2cec6990cc484be406423ba|Sporulation kinase E\n",
      "ATGCAATTCTCTGAAAAAAGAAATCTTACGCGTTGGGTCATTATTGTTTCCTCGTTTTTAATTGCTACTTTCATTTTATGGAATACCTATTTACTTTTTCAAATTTTTAAAGAAGAAGAACGTAGTAAAGTAGAACTTTGGGCAAAAGCATTAAAAAATATTAGAAATTCAGATATTGATGCAGACATTTCTTTACCTACTTTTATCATTGAAAACAATAAAAATATTCCGCTAATTCTTACCGATAAAAAAGGTGTCATTTTAAGTAATTTGAATTTAGGTACGATAGAAAATGATTCCCTAAAAGTCAAAGCGTTTTTAAATACGATTAAAAATCAAAACAATCCTATAAAAGTTCAATTTGCACCAAACGATTATAATTTGGTTTATTATGGTGATTCGCCAATGTTAAATAAACTAAAATATTATCCAATTGCATTATTATTAGTAGCGTTCTTATTTGGCGGTGTGGTATATAATTTTTATCGTGCAACCAAAATGGCAACCCAAAACAAACTTTGGGCGGGTATGGCGAAAGAAACGGCGCATCAAATTGGTACACCTTTGTCGTCTTTAATTGGTTGGTTGGAGTTGTTAAAATTGGAAAATATTGATGAAACTACCATTACAGAAATTGAAAAAGACATCAATCGCTTACAAACTATTACCGATCGTTTTTCTAAAATTGGAAGTGAGCCCATTCTGGAAAAAATGAATATTGTAGAGCAAACAAAAGCATCTTTTGAATATTTACAATCGAGAGTTTCTAAACAAGTTTTATTTGAGTTTAGAGCGCCCGAAAAACCAATTTATGCTTTAATTAATCCGACCTTACACAGTTGGACAATTGAAAATTTAGTAAAAAATGCCATCGATGCGATGAAAGGAAAAGGGAAACTATCTATTGAAATTGTTGAAGGCGATAATAATGTATACATCACTATTGTTGATACAGGAGTTGGTATTCCTAAAAATAAATTTAAAACGGTTTTTGAGCCCGGTTATACTTCTAAAAAAAGAGGTTGGGGATTAGGGTTGTCGCTTACGAAAAGAATTGTACAAGAATATCATAAAGGTAAAATTCGAGTGGTGCATTCCGAATTAGGAAAAGGAACAACCATGCAAATGAGTTTTAGAAAAGAAAATTAA\n",
      ">OMX_gene_e09aabef4f22b5798e3c9262e1aa5147|Sporulation kinase E\n",
      "ATGATTATTAAAGATTATTTCATCAACCTTTCTATTTTTTCTTTATTAGTTAGCGCAGCAATATTTATTCAAGTGTTTACAATTAATTCTAGTCGATATTTCGAAAAGCTCTATGGAGGGATTATTGCAGTTACGTTAATGTTCTTTTCTTTTCCATACATGGGATTTTCTTACGATCTTCGAGTTGTTCCTCTTATTCTATCTTTTATTTACTTTGGTCGTATTGCTGGTTGGATTACGCTAATTAGCATAATATTAATGCGTATTTTTTACATTGGAGAGTATTGGGAACCTCCTGTGATTGCTTATTTATGTATGGGGATTCTATTTTCTACTTTTAAAACTTATTTTAAAAAACTACATCCTTTTAAAAGTGCATCGTTATATTTTTCTGTTTTTATTGGAATAAAGTGGTTAGTTGGCGTATTATTTAATACTACATTACTTTACACAGGAGGCCTATTATATATAGCGTTAGGACTTTTAATTGGGCTATTTCTTATGGAAGCCTACCAGAGATTGTATTATTTAACACAGGACTTATCTAAAATGAATCGAGAATTAAAAAAATCGAAGCAAGAACTTGCAGATACCGTACATGAGCTTCAAGGAGGAATTTTTAAATTTAAAAAAGTGGATAAGCACTTTATACACACTTTATGTGATGGACAGTTTTATTATCAAAACGGATTTTATTCTGAACAGGTGGTAGGAAAAAGCTTACGTACTATTGATGCTTCTATTGTTCCTCCACATTTAGTTCCACAATTGATGAAGTACTATCTTCAGGCATGGGAAGGAAAAGAAATTATATTTGAATTACCTTGGCCAAATGATAAAACTATTATTCTTATTGCGCTTAGGCCGATTAAACGAAATGGACAAGTTATTGAAGTTGTTGGTTCTACAGTTGATATAACCGAAAGAAAAAAGGTAGAATCAGAATTAAGCGCTACCAAAGAATTATTGGAATCATTTATAAAGCACAATCTAGATGCTATTACCATTTCTGATCGAGAAGGGCATATTTTACAAGCCAACAAAGCTTATGAAAAGATATTTGGGTGGTCATCACAAGAAATCATAGGTAAGAGATTACCTTGTGTACCAGATTTTTTAATGGAAGAATCACTTGAAAATATTCAGAAAATTCTAACAGGAGAATCGGTGGTTACTAGATTAGAAACTGTTAGACAACGGAGCGATGGGAGTCTTCTTGATATCAGTCTGACAGTTTCTCCTATACTAGATGTAAGAGGAAATGTGATAGCTTTATCAGCAATATGTAGAGACATCTCTGAAAGAAAACAAGCAGAAAGAGAACGGCATCAATTACACCAGCAATTAAGAGATAGTGAAATGAAGTACCGTGCACTAATCGAACAAGCAACTGATGCGGTATATGTAGTAGAGCTGAATGAAGATAATACTCCAAGTCGATTTATTGAGGTAAACCCTGTTGGGTGTAGAAGATTTGGATATAGTAGAGAAGAGTTGCTTTCATTATCATTTTCAAATATAGTACCACAAGATTCTCAAATAATCGTAAGGTTATTAGAAAAAATTAAAAAAGGACAAACTTCCTTCACTTTGCAAGATGAATATGTTTTTCCAACAGGAAAAGTAATAACAACTGAGTTTAGTGTTCGTGTTTTTAACTTAAATGGTAAAAAAGTTTTTCTAAGTATTTCTCGTGATATCACTGAACGGCTAAAAACAGAAGAATTATTACGAAAATCTGAAAAACTTGCTGTTGTAGGACAATTAGCGACTGTAATGGCTCATGAGATTAATAATCCATTAACTGCAATGAAAGGGTTCATGCAATTACTAAAATCAACGGAAAATGAGAATAATCAGGGTTATATTAATATAGTATCATCAGAGATTGAGCGTATAGAGAGCATAACAACTGAATTTATGGCGGTAGCCAAACCACAGGTAGTAAAAATGCAACCTAATAACATTAGTGTGCTAATGGATCAAGTTTTAATGCTACTACAACCTCAAGCAATGATGCATAATATAAAATTTAGAATCGATCTTAACCCTGGTATTCCATTGATTTCATGTGAAGGAAATCAATTAAAACAAGTATTTGTTAATATATTAAAAAATGCAATTGAATCTATGCCGATGGGAGGGGAAATTCTGATTCAAATAAATATACTTGATAATAATCAAGTAAGCATTCGTTTTATCGATCAAGGGTGTGGGATTCCAAAAGAACGTATACCATACCTCGGAGAACCTTTTTATAGTATTAAAGAAGAGGGGATTGGCTTAGGATTAATGATCTGTTATAAAATCATTGAAACACATCAGGGAAAGATATTTATTAAGAGTGAAATGAATAAGGGGACTACAGTTGAAGTCACTCTCCCTATTTGTACACTTCAAAATTAA\n",
      ">OMX_gene_b4db0386d303a215e06a3a99a9371d6a|Sporulation protein YjcA\n",
      "ATGACGAACCTATCTTGGCTTACGTATGTAATGATTATTCTTGCCAGCTACCGGCTGACCCATTTGATCGTATTTGATAAGATTACGGAATTCATAAGAAAACCCTTTATAAAGCAAGAAAAAACCGTCGATCAAAACGGGCGCGCCGTCCNNNNNNNNGTCCCTTCCTCCGCATTCGGTTATATGCTGCAATGTTATTGGTGTGCGGGCGTCTGGTGCGCGATATTGATCGGCATCTGCTACTTGGTCTGGCCCCGCTATGCACATCCGGTTATTTTCATTTTGTCCATCGCCGGAGCGCAGGCCATTCTTGAAACTTGTGTCGGCGTCGGAACGAAGATCATTGACGTGCTCGCCGCCATGAAACATAAAAAGTCCTGA\n",
      ">OMX_gene_2219008d73665bf11880459a1224ffac|Sporulation kinase A\n",
      "GTGCGCGCTGAACGGCTACGGCTGAGCGAGGAGCAGGGGCAACGCATCCTCCGTCTGTACCACCTGTACCGCCTGACCATCGGCCTGGTACTGGTCCTGCTGATCTCCAGCGAACTGGAAGATCAGGTCCTCAAGCTCGTCCACCCTGAACTGTTCCATGTCGGCAGTTGGTGCTACCTGGTCTTCAACATCCTGGTCGCGCTGTTCCTGCCGCCGTCGCGGCAATTGCTGCCGATCTTCATCCTCGCGCTCACCGACGTGCTGATGCTTTGCGGCCTGTTCTACGCAGGTGGCGGCGTGCCCAGCGGCATCGGCAGCCTGCTGGTGGTGGCGGTGGCCATTGCCAACATCCTGCTGCGCGGGCGCATCGGCCTGGTCATCGCGGCGGCGGCCAGCCTCGGCCTGCTCTACCTGACCTTCTTCCTCAGCCTGAGCAGTCCGGACGCCACCAACCACTACGTCCAGGCCGGCGGCCTCGGCACCCTGTGCTTCGCCGCCGCGCTGGTGATCCAGGCTCTGGTGCGGCGCCAGGAGCAGACCGAAACGCTGGCCGAAGAACGCGCCGAGACGGTCGCCAACCTGGAGGAACTCAACGCATTGATCCTGCAGCGCATGCGCACCGGCATCCTCGTGGTCGATAGCCGTCAGGCCATCCTCCTCGCCAACCAGGCCGCCCTCGGCCTGCTCAGGCAGGACGACGTACAGGGCGCCAGCCTGGGCCGCCACAGCCCGATGCTGATGCACTGCATGAAGCAATGGCGCCTGAATCCCAGCCTCCGTCCGCCGACGCTCAAGGTGGTGCCGGATGGCCCGACGGTGCAACCCAGCTTTATCAGCCTCAACCGCGAAGACGACCAGCACGTGCTGATCTTCCTCGAAGACATTTCGCAGATCGCCCAGCAGGCGCAGCAGATGAAGCTGGCCGGTCTCGGCCGCCTGACCGCCGGCATCGCCCATGAGATCCGCAACCCGCTGGGCGCGATCAGCCACGCCGCCCAACTGCTGCAGGAGTCAGAGGAACTGGATGCCCCGGACCGACGCCTGACGCAGATCATCCAGGACCAGTCGAAGCGGATGAACCTGGTCATCGAGAACGTCCTGCAGCTCTCCCGTCGCCGCCAGGCCGAACCGCAGCAGCTCGACCTGAAGGAGTGGCTTCAGCGGTTCGTCGACGAATACCCCGGCAGGCTGCGCAACGACAGCCAACTGCACCTGCAGCTCGGTGCCGGCGACATCCAGACCCGCATGGACCCACATCAGTTGAACCAGGTGCTGAGCAACCTGGTGCAGAACGGTCTTCGCTACAGCGCCCAGGCGCACGGGCGCGGCCAGGTCTGGCTGAGCCTCGCGCGCGACCCGGAGAGCGACCTGCCGGTGCTGGAAATCATCGACGACGGTCCCGGCGTACCGGCGGACAAACTGAACAACCTGTTCGAACCCTTCTTTACTACAGAAAGCAAAGGCACCGGCCTGGGCCTCTATCTCTCCCGCGAGCTCTGCGAGAGCAACCAGGCACGGATCGACTACCGCAATCGCGAGGAAGGCGGCGGCTGCTTCCGCATCACCTTCGCCCACCCGCGCAAACTCAGCTGA\n",
      ">OMX_gene_85711728dcf577848fcd1ea1557ce566|Sporulation protein YkvU\n",
      "ATGAATCGATTTGTGAAAGGGATCATTCTTTTATCCATTGCCGCCTTTTTCGCTGAATGCCTTGAATTTGTGGTGAATATGATTTTGGCACGGGAACTTGGCGAGCATGGGATGGGGCTTTACATGAGTATTTTGCCCACGATTTTTTTAATTATTGTCATCGCAAGCCTGGAACTGCCGATCTCGATTTCTAAATTCATTGCTGAATCAAATCCTAAGCTTCATGAAAGCATGCTGAGGCACGCTTTCAGAATGACAGCCATATTTACAGCGTTTTCTACTGCCGCCGCCAGCATTGCGCTTCCGTTTATTCCGGTATTTGATACATACCACCCGTTTATTAAAGGGATTGTCATCGGCTTAATTCCTGTTGTGGCCTTTACTTCAATCGCCAGGGGTTACTTTATGGGTGTGCAAAAAATGGGGAAGATCGCAATCGCCAATGCGCTGAAAAAAATCATCCAGCTCTTGTGCTTATTCCTCTTTTTTCAATGGTACTCATTTGAATTGGACATGGCTGTGCTGATTTCCTTGTTTGTCCTAGTCGTGAGTGATGTGGTCGTGCTTGTTTATTTATATTCACAATTTATCATGGCGAGGCGGGCTATGTCCGGCCAGCAGCACATTCATTTGCGCGGAAAGGATGTAAGAAAAAGACTGCTTGCCGTTTCAATTCCTACAACAGGACTGCGCATTTTTCATGCCGTTGTCAACGCCATAGAACCCTTTTTAGTAAAAGGAGCGCTTTTGGCAGCGGGCGTTGCCGGAACGGCAGCGATCGATCAATACGGAATGCTGGCCGGAGTGGCTGTGACGATAGGATCGTTTCCTGCTTTCATTGCCCACTCGCTAATGGTTGTCATGATTCCGAGTATTTCTGAAGCCTATGCGCTCTCACAATATGACATCGTATTAAAAAGGCTGAAGCAGTCGATTTTCATTACATTTGGTTACGGTATACCGGCTGTTTGGATCATGTTCCAGTTTGCGGAGCCTCTGACCCACCTGTTTTTTCACTCTCCTGAAGCGCAGTATTACTTGCAGCTGTTATGGCCTTACTTTCTCTTTCATCTGTTTGTCATGCCGCTGCAGGCGTGTTTAATCGGGATGGGCTTTGTGAAAGAAGCGTTTTATCACAATGTGTGGAGCCATATCGTTGCCCTAAGTATGATGTATGTGCTGGGATCAATGGAGAATCTGCAAATGCTCGGGATCATCCTGGGGATGAACACCGGCATGATTTTGCTGACGAGCCTTCACTATACACAGATTTGCAAAGCGCTGGGGGTATCAGTTTTCCTTACGGGAGGAAACAGAACGCCGCGAATTGAAGGATGA\n",
      ">OMX_gene_f8b3f8289930ce3ab11d8446c1722062|Sporulation kinase D\n",
      "TTGAAATTCAAATTCCACAACATAGTTTTATATATATTGCTTGTTATCCTACCAACGATCGGTATTGGTGCTACATTTTATTCATATCATTCGTATAAAATGAAACAGGAAAACAAACGAATTGCTCATACGGTGCTCTTTTTATATAGAGACTATTTAGATCACCATCTTGGCGAAGCAATTTCTGCCTTAGAAATGCTCTCAAAGGTCGTAGGAACCGAGACTGGAAATATTAATGGAATAAAAGAAATTGTACATGATACTGATGGAAACGATGCACGTTTTTCTGGTCTATATTACACTACACCAGAAGGTATCATTACAATCGCATCGGAAGGCGACCGACCACCTGTTGATGTCTCAGATCGTAAATATATTCAAAACGCATTACAAACTAAGAAAACAACTGTATCATCCGTCATTACAGATCGTGTTCTTGGCCATCAAGCTATTATGATTGCTTCTCCCATTTTCAATAAACAGAAGGAACTCTCAGGCTTATTGTTAGCAAGTTTACGCTTTGACTACATTTCATCATCTTTAAATGCCATTAAACCGCAATACCATTTTGAAGTAACTGATAAGTATGATGTAGTTTTTCTAACCGATGATAATAACGAAACAAGTGATGCGCATTCTAATATGCTTACTACTCCACTCCAAAGATTAGATTGGAAGGTCTCTGTTTCTCCTTTACCTATTCATCAAAAAACTTTAAACCAGTGGGTTGCCGTAGAATGTATAGCTACTTTATTTTTAATGTCAATTTTATTTTTACTCGCTCAATATATGTTGTTAAAACGACAAACAAAACTGGAAAGACAACAAAATGAACTACAAAAAATTGAATTAGTTGGAACTTTTGCAGCTAGTACAGCCCACGAAATCCGTAATCCACTTACCGGAATTAAAGGGCTCGTCGCTCTATTAAAAGAGAAATATAAAGATGAACAAGATCAGTTCTATTTTTCCATCATCGAACAAGAAATAAAACGAATTAATGAAATTGTAAGTGAATTTCTTATTCTTGGAAAGCCAACTGCAACCATTGAACAAACATATGATGTGAGAAGCATTCTAAATGAGGTAGCATTAATTATTCAATCTGAGGCGAATCTACATAACATTGTATTCCATTTACATTTACCAGACCATCCTGTTCATATCCGGTGCTCAAAAGACCATATGAAACAAGTGGTTTTAAACATTACAAAAAATGCAATTGAAGCTATGACTTCTGGTGATACACTAACTATTTCCGTAACAAGCAATGAAACACGCGCACAATTGCAAATTATAGATACTGGAAAAGGGATTCCAAAACATATTCAAAAACACCTCTTTCATCCGTTCTTTACTAATAAAGATACTGGAACAGGTCTTGGACTTGTCATATGTAAACGAATTGTAGAGATGTATAATGGGCACCTTTTTATTGACAGTATAGAAAACGAAGGAACGACAGTTCATGTCGAAATTCCATTACACATAGTATAA\n",
      ">OMX_gene_6c6df3595be192ef0a7c95ba430ec787|Sporulation kinase A\n",
      "ATGAACTTTGTGTATATCAATCAACACGTGTTAAATAATCTTTTATACATTTTAAGTAGTATATTTATTTTTTATTTTATATATGATAGCGGACGCTATGTGAAGAAATATAAAAAACTACTTATTATACTTTGTACAAGTATCCCTCTTATTTTATGTATGCGTTATCCTATCTATATGGATGAGAGTTGTATTCATGATTTAAGACAAATACCAGTTATAATAGGTACGCTTTATGGTGGCTTCCCTGTCGGTATCATATTACTTACTATTTTATTAATTATAAGATTTTCATTTTATGGATTTAGCATGTTAACAATGCTAGTTTATGGCATAATGTTTATCATTACAGCACTCGCATCCGCAAAATTTAATACGTATAATAGAAAAATTAAAGTAGCTTATGCAATGTTTTTAACATTTTTCTTAGCAATATTTACAACTGTAATTGTATTAACTTTATCAGATTTTGAAGTGAATAATTTGTACATCATTTATTTCATAATATTACCAACTGTTTTAATGTTGTTTGTAGTTTATTTTAATGAAGTTTTAAAAGATGCAGTATGTATGCGATCGAAGTTAATTAAAATGGAAAAAATGGAGATTGTTAGCCAACTCGCTGCTAGTATATCGCACGAAGTAAGAAATCCCTTAACTGTTGTAAAAGGATTTACACAACTTTTAAAAACACCAAATTTAACTCCAGAATCAAGAGACGAGTATATTAAGCATATACTGGAAGAATTACATCATGCCCAAGGGATTATTGATGATTATTTAACGTTTGCCAAACCTGCTTCAGAAAAGTTAGATGAGATTTCAGTAGAACAAGAGTTAAATCGAGTTATTAATATGATCTTACCTTTATGTAATATGAATACGATCCATATTACAAAAGATTTCTCTACGGCAACAATAGTTGGTAATAAACAGCACTTTCAGCAATGTTTTTTAAACTTATTAAAAAATGGTATTGAAGCAATGCCTAATGGCGGTACTTTAAATATCTCCTCTTCTATTAGTAATAATAAAGTTATCATACGAATTGAAGATAGCGGAATTGGTATGTCACAAGAACAAATAAATCGATTTGGCGAACCGTATTTTAGTACAAAAACGAAAGGTACAGGTTTAGGTACAATGGTTGCTGTGAAAATCATTGAAACGATGCAAGGTAGTTTAAAAATCCGAAGCGTTATTAATAAAGGAACTACTTTGACAATTACATTCCCGAAATGTAATAAAAACTCATCTAACAACAAATAA\n",
      ">OMX_gene_4729d7d9a838909743a37b306bcd7289|Sporulation kinase A\n",
      "ATGGAAATGTTCAAGGATTTTCTGCTCCATGTATCTTTTATTCTATTTCCAATCTTTTTATATCATGCACTATGGCTAAGCCGGACCCCTGCTCATTTCCCTAAAACGAATAAACTACTCATCACCATATTTGCATCCATTTCATCAGCACTATGTATTATGTATCCAGTTGGTTCGATTTTAGATTTGCAGACTGGGCTTCAATCGATTCCCCTTGTACTGGCTATTTTATACGGGGGATATACCGCCGGAATCGTCGCTATCTTGGTTAGTTCAACCGTAAAGTTCGTGATGTATGGCTCTTTTTTATGGGTTGGATTGATTGTTGTACCGATTTACTTTTTCATTCCTTTCCTGCTTTACCGGAAATGGCGCCAATATTCTAAGCAGAGAAAACTGTTATACGGAGTCATGATTGCGTTATCAAAAGGGATGTTTATTTACATTGGACTGCTTGTGGTCAGCTTAATAGAGTACAGCCCTGCATTCATTATGCAACAAAAGTTGCTCGAATTATTTTTCTCAACTCTTTACTACATATTCTTTCTTGTGCTGAGTATTTATTCCATTGAGTTTGTGAAAGAGAATGCGCAAATGAGAACACAGCTTGTCCAATCAGAGAAACTGACGATTGTGAGTGAACTTGCAGCAAGTGTCGCCCATGAAGTCCGCAATCCGCTGACGGTGGTGAGAGGATTTATCCAACTGCTCTTTTCAAGTGACAATACGAAAGAGCCGTCAACCAATAAAGATTATAAAAATCTCGTTTTATCTGAACTTGACCGTGCGCAGGATATTATTACGAGCTATCTTGATATTGCGAAACAAAATTATTATCAAATTGAGTCTCTCAATTTATCTAAATTACTTGAAGAATGTGCATCGCTGATGACATCCTATGCGAATTTTAAGTCGGTCACGATTCATCAATCGATTGAACCAGACTTATACATCCAAGGTGATGAAACGAAAATCAAACAAGTCATGATTAATTTAATCAAAAATGCAATCGAAGCAGCGCCCGAACACGAAGGTAAAATCGAACTGTTTGCTTCAAAAGAAAATCATCGAATCTGCCTTTATTTCGTTGATAACGGTGTAGGCATGTCAGAAAGTCAAATGAAAAAGCTTGGTGAACCCTATTACACATTGAAAAATAAAGGAACAGGGCTTGGGTTGACAGTGACATTTTCCATCATTGAAAATCATCATGGAACGATTCGTTTCAAAAGCTCATTGCAGTCTGGTACAACAGTCACCGTGAAGTTTCCTGAAGATACAAGAAGAAAATGA\n",
      ">OMX_gene_9bb82df1fcafa6e23d785638803427cf|Sporulation kinase E\n",
      "ATGGAGCTAATCCGTGACTTAATGATCCAAGTTGCTATCATTATTCTGCCACTGTTTTTATATGAAGCGATTCGTCTAAATCGCTATCAAGATATGCTTCCAAAGCCCAATCGCTACTTTATTATGTTTTTATCTAGTATTACGCTTGTTCTTTCTGTGACGTATCCGATTTGCTTTGGTGATTTGTGTGGTTATAATTTCTATCCGATTCCAATTATTAGTGCTTTTTTGTATGGTGGGATTGCAGGGGTTATCCCAGCTTTTATCTTTGTTATATACGAATGGTTTTTGAATGGTTTACAGTGGTTTCGGATAATAGAAGTTTTATGTATTGCGATTATTCCTTTATTATTATCAAAAAAGTGGTCTGTTTTCCCAAGAGAGAAAAAACTCATTTTAGCTCTTATTATTTCATCTTTGTACGCTCTGATCAGTTTAGCATGTAGTATGTTTGGAATTTTACTGAGAGTAGGCTTTACGCCACCTATGTCGCATTTATATAGTGGATACATATTTGCTTCCCTTATTATGGTTATGACAATGGTATTTCAAGTGTATTTAACAGAGTATTTAAACGAAAATGCATTGTTACGTACAGAAATGCAAAAATCTGAAAAGCTAAACATTGTAAGTGAGCTAGCGGCAAGTGTAGCGCATGAAGTTCGAAATCCACTTACAGTTGTTCGTGGTTTTATTCAGCTATTAGAGAGTACAGAAGATATGAAGAATAAAGAATATATGCGTCTTGTACTAGCTGAACTTGATCGGGCTGAACAAATTATTTCAGATTACTTAAATTTAGCTAGGCCGCAAATTGAAACAAAGGAACGTATATGTTTATCAGCGCAACTCATAGAAATGACTACTTTAATGTCTTCATTTGCGGCTATGCAGGGCGTTTATTTACAAGTTGAAATTTCTGAGAACCTATATACAATTGGCGATAAGACAAAGTTAAAACAAGCAATTATGAATATCGTTAAAAATGGAATCGAAGCAATTCAAGAAAACAAAGGGTATTTAAAAGTAACCGCCATTCAAAAAGATAGTGTCATTATGGTACGAGTAAAAGATAGTGGCGTGGGAATGACGAAGGAACAGTTAGCTAGGCTTGGACAACCATATTATTCATTAAAAGAAAAAGGAACAGGCCTAGGGCTTATGGTTACTTTTAGTATTTTACAAGCACATAATGGTACGCTGGAATATAAAAGTGAGAGTGGAAAAGGAACAGAAGCAATTATTACATTACCAGCAGCTAGAAATAAGGAATGA\n",
      ">OMX_gene_49d994d6013279911354a52fbf5be0e7|Sporulation protein YpeB\n",
      "ATGTACAGAAGAATGAGTGCCGTATTGTTCCCGATAACCGCAGTGCTGCTCATTGGAGCGCTTGTGTGGGGCTACCAGGAGAACCAGGAGAAGAACGCGGTCCTGCTGAAAGCAGAGAACCAGTATCAGCGTGCCTTCCATGACCTGTCTTATCATATGGAGCGGCTGCATGGCGAACTCGGCAATGCGCTTGCCGTAAGTTCCACCTCCGACGGAATGCACCGTAAAAGTCTTACAAATGTGTGGCGTTTGACGAGCGAAGCGCAGAATGAAATCAACCAGCTCCCCCTGACGCTGCTGCCATTCAGCAAGACCGAAGAATTCCTCTCCAAAATATCGAACTTCTCCTACAAGGCGGCGGTGCGGGATTTCAAGACCAAGCCTTTGAGCGAAGGCGAAATGAACAACATGAAGGCCCTGTATAAAAATTCGGGAGAAATCTCGAAGGATCTTCAGGAGGTTCAGCACAAGGTAATCACGAACCGTCTCCGCTGGATGGATGTCGAGTCGGCACTGGCATCGGAGAAAAAGGCCGAGGACAACACCATTATCGACGGCTTCAAGACCGTGGACAAACGGGTAAGCGCCTATCCGGAGCTAGATTGGGGTCCTTCTGTTGCCAGCGTGTATGATAAGCGTTCCGTCCGCAAGCTGAGCGGTCCCCCGGTTTCGGTGGATGATATCCGCCGCAAGGCGCTGAAATACGCGGATGTCGGCAGCGGAGCGAAGGTGCATATTACCGAGAACGGAAAAGGGACGGAATGGGCTTCGTATACGGCGACGGTCATTGGGACGAAAGAAACGGTCAGCATGGATTTCACCACAAAAGGCGGGCTGCTGATTTCTTTTAATAATAACCGCGAGGTCGGAAAGGCGAAGGTATCTATGGATGAGGCTGAAAGCAAGGCCCGCCAATTTCTGGAGCGAAAGGGTTATTCGAACATGGTGCCGGTCAGCGCCGACCGGTTCGACAACCTGGGGAACTTCACTTTTGTAACCGAACAGGACGGCGTGCTGATCTATCCCGAAAAAATAACGGTCCGCTCCGGACTCGATACCGGCGACGTTACCGGATTTCAGTCTAGCGACTACGTGGTCCAGCACCAGACTAACCGCAAAATTCCGAAGCCGGGAATCAGTGTTGACGAAGCGCGTAAAAAGCTGAATCCCGAGTTCCGTGAATTGTATCACCGTCTCGCCTGGATCGAGAATGATGACGGGGAAGAGGTGCTCACTTACGAGTTCGGGGGCCGGATCAACGGATCGCAATACCGCATCTACGAAAACGCGAATACCGGCATCGAAGAATCGGTGGAGGAGATCCGGACCGCTTCGGGCGCGCAGAAACAGTGA\n",
      ">OMX_gene_d8dc87ded322ebb2de77969d9eec21db|Sporulation kinase E\n",
      "ATGAATATTTATCAGAACCGTTCACGTTTTAAAATTGGTATTGTATTGCTGGCCGCCCTGATTGGTTCGGTGTCGGTGCTCTATACCAACCGTTTGGCCAAACAACTCTCTGAGCGTGAAAAAAAACTCATCGACCTGTACGCCAAAGCCTTTGAATCCATTAATAATTCAAACTTAACGGACGACGTAACATTTCTTACCCACGAAATTATCGCCGCCAACAACACCATTCCCGTCATTCTGACTGATGCGGAAGGCAATATTTCGGCTACGGCCAACATCGACATCCCAAAATTCAAAAACGATGCCAAGCGAAAAGAATGGTTTGACAACGAAATTGCCCTGATGAAAGGCCAACACGAACCCATAATCATCACTTACGAAGGCACGGTTACCAATTATATTTATTACGAAAACTCCATGCTGCTCAGGCAGTTGCGTTATTATCCGTACATACAACTCTCGGTCATTGGGATTTTGGGCTTAATCGCGTATTTGGCATTTAGCTATTCGCGCCGCGCCGAACAAAACCGCGTTTGGGTGGGGCTGGCCAAAGAAACAGCGCACCAGTTAGGCACGCCGATTTCGGCACTCATGGCATGGGTAGAATATTTGCGCACCGACCCGCGTTTTGATGGCGAAAACGACGAGATTCTCAACGAACTGGACAAAGACATTAAGCGACTGGAAACCGTAACGGCGCGTTTCTCTAATATTGGTTCGGTGCCAGCCTTTCAGGAAGCAGTGGTGTATGACCTTATTAATCAAAATGTTGAGTATCTGCGCAAACGCGTTTCCAGCAAAGTAAGCATCAATTTGGTAGCCGAAGGGCGCGTACAAGAATCTACTTCGATGATAAGCCCGCCGCTACTGGATTGGGTGGTGGAGAATATTTGTAAAAACGCCGTTGATGCCATGAACGGCACAGGCCGCATTGATATAGTGCTTACGCGCATTCCCGACGACAAAATCGCCATAGACATCAGCGACACGGGTAAAGGCTTACCCAAAAATATGCTTAAAAAGGTGTTTGAACCAGGTGTAACCAGCAAAAAACGCGGTTGGGGCTTGGGGCTTACACTGGCCAAACGCATTATAGAGGAGTATCACAAAGGCAAAATTTTCATCAAACATTCCGAAATAGGCAAAGGCACTACGTTTCGTATCATTCTAAAAGAATAG\n",
      ">OMX_gene_be239e054a59f84fa16ca00197803849|Sporulation kinase E\n",
      "GTGAAAAGAAACTTTATCTCATTTCAAGAAGAAAAGAAAAATGCCCGCCTCTTTTTATGGGTATTGAATATTGTATGGGTTATATATGAAATAGTTTATTCTATTATGCTAGGAGATTCTGTATCACTTATAAGATTAGATGTTCAAGTTCCAAAGTTTTTGTATGGAGCTTGCTTAATCGCAGGCAGTATGTATCTGATAAAAAGAGAACAGGCATATCGTGTTAAGTACATATGTTTAATAGCTTATATGTTTTCGGAAGGCTTTAATTTGTATTGGTATGCAATTCACAATAAGGTAGCATTTGATGATAGGAATATACTTGAATTTGTGTTTATTTTATTTGTGCCTATTTTTATGAGTAAAAGGTATTTACTGTGGCTATTTTTGATTGTTATGGGAAAGTATAGTGCATTTTTGGCCCTGGGGGAAAAAGAGGCATTTATGCGGTTAGTTATGTATAGTCTTTTATTATTTGTAACGTATCTCCTATTGAATCGATTTCTACAGTATCTTTCTACTGTAAATAATGTGATGATAGAAAAAAGAGAGTCTGAAAAGCTTGTAGTTATTGGAAAAATGGCAGCATCTGTTGGACATGAAATTAAAAATCCACTTTCATCATTAAGGGGATTTACACAATTGCAGAAAGAGAAATATGTAGATGATAAAGTGTATGAACATATGATTGATGAAATTGAGCATATAAACAATATGATAAGTGAGCTTATGGTAATGGCAACTTATAAACCCTCTACCTACAGTAGTTATTTAATAGAAGAAATTGTATCAAATGCGTTGAAAGAAATGAGTGCAGAAATCAATAGGAAACAGCTGTATCTCATTTATGATGTTGCACCTGATCAAATAAAAATAGATTGTGATCATCGTAAATTAAAAGGAGTATTTCTATACATAATAAAGAACGCAATTGAAGCGATGGAACATGGCGGAACACTTCAAATACATATAAACAAAAGAAATGAAGATGGTGCAATAGTAAGTATTGTAGATAATGGGTGCGGTGTGCAGGAAGAGAATTTGCAGCGTATAACAGAAGCTTTTTATACGACAAAGAAAAATGGCATCGGTTTAGGGCTTACTGTTGCTTGCAAGATTATTGAAGAACATGATGGGAAAATACACATTACGAGTAAAAGAAACGTAGGAACGAAAGTAGACATTATTTTACCTATATAA\n",
      ">OMX_gene_1298cbf856b1ef42db52d56444a82585|Sporulation kinase A\n",
      "TTGAACAAAACATATCAAGTGCGGATTGTGTTATCTGTTCTTGCATTTATCTTAATCATAAGCTGGGATTTCTTTTATTATCTAGGCGGCTATCAAATTAATTGGCCGCTCGATCTAGCCTTTACAGTCGTTGTGTTAGCAGGGATCTGGATTGTCTCAGGATATGTAGACCGCTTGAATTTACTTGTGTCAGATCTAAATAAGAGAGAAAAAGAAGCACACGAACTGACAGAGCGGCTGAATCGAATTACAGATAACTTGCAAGAAATTGTCTTTGAAACAGATGAAAAAGGGCACATCATCTTCTTAAATCAAGCATGGAAACAAATGACCGGCTATGACATAGATGAATGTCTAGGTACGATGTACAATCAGTACTTTGATCAAGAAGAAAGAGTTATTCAGCATTTGTCATCTGTCATCAAAGAGCATAAAGATTCAGGGCGGATCGAGCTGCAGCTTCTTCATAAAGAGGGAAAGAAAGTATGGGGAGACGTTCATTATAAGCTCTACTTTGATGAGCAGCACCAGTTTACTGGAGGTATTGGAACAGTTGCAGATATTACAAAACAAAAGCTGGCAAAGCTTGAACTTGAAAGATCAAATCAACAAGTGCAAATGCAGGCGCAAAAGTTAGCCGTTGCAGGACAAATAGCCGCTGGAATCGCCCATGAAGTCAGAAATCCGCTGACCTCAGTAAACGGCTTTTTGCAGCTGATGAAAACACAATATCCTGAAAGAACCGATTATTTTGACATTATCTTTTCCGAAATTAAACGGATTGATTTTGTTTTAAGTGAGCTGCTTGTGCTGGCAAAGCCGCAGTCGGTCCATTTTCAAGAAGTTCAGCTTCATGGACTGTTAGAGCAGGTCATTACATTGCTGAAAACCAATGCAGTCCTTGCGAATATTGATCTCAAACAGCCATTTAAAAAGCAGGATGCCGGCGCTATATTAGCAGACGCTAATCAAATGAAGCAGCTGTTCATTAATTTAATCAAAAATGCCATTGAGGCAATGCCCGAAGGCGGCACCATATACATATCAACAGAAAAAGTGATGAACGAATGGAAAATTACCATTCAAGATGAAGGAAAAGGGATGTCTGAAGAGGATATTCAGAAAATATATGATCCTTTCTTCTCCACGAAAACAGAAGGGACGGGACTTGGCCTCACCATCTGTGCAGCGATTTTAAAAGATCATCACGGTAGGATGGATGTGGTCAGTGAGCTGGGAAAAGGTACAGCTTTTCATATCTACTTACCTGTGTGGCAAAAATGCAGACAGCAGAAAGGCGAGAGGACGTGA\n",
      ">OMX_gene_65a6bff8ee53a3526e3d07ffb195b0a8|Sporulation kinase A\n",
      "TTGAGCGTGCCGCAACGGGCCGATGCCCGGATCTTCGAGGTGATGCAGGCCCGACAGGCGTGGGGCACGCTCGCGCTCGACCGCGACGGCGCGATCGTCGCGGCCACCGAGCGCGCGCACGCGCTGTTCGGCCGCACGCTGCCGGCCGGGCTGCCGCTCGCCGCCGTGCTCGGCGATGCGGCGCACGCGGCGCTCGCGGACCCCGCCGCGCTGTTCGACACGCTCGAACAAGGATTCGAATTCGAAACCGACGATGCGATCCTGTGGCTCACGCTGCAGCCGGTCGAGGACGATCCGGTGCTCGCGGCGACGGTCACGGTCGCCGACGTCACGCCGCTGCGCCGCGCGCTCGACGAGCGCGTCGCGTCGCTGCGCTTTCTTGCGCACGACCTGCGTTCGCCGCAGAATTCGATCCTCGCGCTGACCCAGCTGCACGACGCCGATCCCGACGCGTTCGCCGCCTGCGGCGGCCTCGAACGGGTCGCGCAGCTCGCGCGGCACGCGCTGCTGCTCGGCCAGGACTACCTCGTCGCGTCGGCGGCGGACGATCTCCGGCAGCGCCATTTCGTGCGCTTCGACCTGCGCAAGATGCTGCGCGAGCTCGTGCCGAAGCTCGAAGTGGGCGCCGTCTATCGCGGCGTCTCCCTGCAGCTCTGGCTCGACGACGCCGCGCCGCTGTGGTTGCGCGGCGCGCGCGTGTTCGTCGCCCGCGCGCTGCAGAACCTGATCGACAACGCGGTGCAGGCGTCGCGGCAGGGCGCGCGCGTCGAGATCCGGCTGCACGTGCGCGACGCGCACGCGGAACTGACGATCCGCGACTGGGCGGGCGGCCTGCCCGGCCTCGCGACGGACGCCCGGATGACGGATTTCGCGCCGCTCGCCAGGCGCGGCTCGATGGGCTTCGGCCTCGGGCTGCAGCTCGCCGCGCAGGTGGTGGCCGCGCATGCGGGCGCGCTGTACGCCGAATCGAATCGCGGCGTCGGCACGACGTTCGTGATGCGTCTGCCGATGCTCGCGCCGGCGGCCGGCGCGGCGCCGCCGGCCGTGCCCGAAGGCATCGCGCGCTGGCGCGCGAGCGTCGCGGCGGACGGCTGA\n",
      ">OMX_gene_ac2f71c476ca929e2dbeb0afcfffa682|Sporulation kinase E\n",
      "GTGAATCGTTATGCTGTGTTGTGTCTCGACAACAACCCAATCAGTGCTGAACAGTTTCGATTGGAGCTGTCTGCCTTCTCAAGTAAGTTTGATATTTTTTCTGTCGAATCGATAGAAGAGGCTCAAAGCGCTTTAGAGTATCTAGAAGAAAGAGAACAGACTGTTGCTTTAGTTATAGCGAGCCATCACGCTCATTTTAACGGCGTGGATTTTCTTATTGGTTTAGACCGGATGCCACATACCGAGCAAGCAAGAAAAATTCTTATTAGCTGCTCGTCTGATATAGAGGCAATTCTCACTGCCGTTAATGAGGGCAGGCTCGACCACTGCCTCACTAAACCTTTGCCAGATCACGTCTTATTTAACACAGTGCAAAAAGAGCTGACCCAATTTATCTTGCGAAATGGCAAAGAAGACCTGCTAAGTTACAGTCAGATATTGGATCATCACAGCTTGTTGCGAGCGCACATCAATAACCAGATGAGCCATTATCAAGCCGGATTCTTACACGACTACCACTCGATGTCTGATGCCGAGTTAGCCGAGCAAGTGATCTCCGCTCTCCAGCAATTTTTCAAAGATAATGACGAAACAAGAGCGTGCCGTACATACTCACCTGAACACTTATTAACCGTGGAAGGCGAGCCAAATTGCTTTTTGTGGTTTATCACCGAAGGTGAAGTGGCTCTGTACAAGCGCGATGAGCAAGGCATGCAGCGAGAGGTTGTACGCCATAACAAAGGGAATATTGTCGGAGGCATGTCGTTTGTTACTGGGGAATGTTCTTTCTCGACAGCTCTAACACTAACCAAAACAGAAGTTATCAAACTCGATCGCAACGTATTCAATAAAGTGATGCAAAGCGACTCAAACTTACTGCCTCTTTTTACAAACTTGCTTTTACGCCACTTCAACCGCCGATTGCAAAGAAGCATCAACACCAAACTGCAACTTCAAAAAACGCTCGAATCTTTAGAATCAGCCCACCAGCAGCTCATTGAAAGAGAAAAAATGGCGATGCTTGGCCAATTGGTTGCGGGAGTGGCACACGAACTAAACAATCCAGTAGCCGCGATATTGAGGGGCGTAGAGAATTTAACGCATACGCTAGAACGATTACTTAACGATGCGCCCAGTTCCGATATACAAAGCAAAGGCATTGAATTACTGAGCAAAGCGCAAACCTCAAAACCCGCTTCAACCGCCGAGCTCAGATCACGCGTAAAAGCGCTTAGCCATACTCTTCCAGACCGAGCATTGGCNNNNNNNGTGGTGAGCCTTGGATTAGAGTCCGATCAAGAGCTACTTACCCAACTAACGAGAAAGCAGAAAGCGTCTTATCATGCTCTCAATACACTAGAGCAATACCACAAAGCAGGTTCTACACTTCGCTCAATTAATGTCTGTGCAGCACGAATTGCTGATATGGTAAAAAGCCTGAAAGGATATGCTCGGTCAGATGATGAGACCCTGCACTATGCCGATATTCATGAGGGCATTGAAGACACCTTGGTGATTTTCGAGAACAAATTAAAAATGCACCAAGTTTCAACCGACTATGCAAACTTGCCTTCCATCCTTTGTCAACCGATCGCACTCCAACAGGTGTGGACGAACTTGGTCTCTAACGCCATTGACGCATTTCCAGAGAAAGGTGTGTTAAACATACAAACACGCCTTATAGAAAAAGAGCACACACATTATGCCGTTATCTCCTTTGAAGATAATGGATGTGGCATTCCTGAATCGCAAAGAGACGCCATTTTCGAGCTGAACTTCACCACNNNNNNNGAAGGTAATTTTGGCTTAGGCATCGGGCTGTCCATCTGCCAGCAAATCGTAACAGCACACAGAGGGTGGATTGACGTCGAATCAGAGATCGGCCAGTTCACACGAATGACCGTCTGGTTACCAGTCATCGAAGAAGGAGATGAAACATGA\n",
      ">OMX_gene_42ca2d37d7162b106df02b86ff911076|Sporulation kinase E\n",
      "ATGAATGCTGAAAAATTTCATTTAATCGGAGAAATGGCCGCTTCCATCTCTCATGAAATTCGTAACCCTTTAACTTCAACGAAAGGGTTTTTGCAACTTCTACAGTCGGATACATGTTCTGAAGAAGAGCGAAAATTATATATCGACATAGCCATCAATGGTATCGAACAAGCAAATCATGTCCTTACCGACTACTTAACTTTTGCAAAGCCGAGTATTGAGAAAGAACAAACATTACAGCTAGAGGAAGAATTACTGCATGCATTATCTTTAATTACACCTCTTGCCAATTTGACAAATGTTCGTATACATTACATCAAACAAAGTACCTCTTTCTTTATAGCTGGTGAAAAGCAAAAGCTGAACCAATGCTTATTAAATATTTTTAAAAACTGTATTGAGGCAATGCCTAACGGCGGTGACCTTATTCTTACAGTAGTTCCAGACCATAAACATATACAATTATATATAAAAGATACAGGCGTTGGTATGGATCAAGAACAAGTAAAACGTCTCGGGTCACCTTTCTACTCGACGAAAGAAAAAGGGACCGGACTCGGAATGATGGTCGTCTTCAGTGTCATTCAAGTAATGAATGGAAAGGTTGATATTATTAGTGAAAAAGGAACAGGTACAACATTTTTATTAACTTTCCCAATCATACAAAAAACGTGA\n",
      ">OMX_gene_2497a553a24cb447d17bea3f688d78d3|Sporulation kinase E\n",
      "ATGGGAATATCTACTCTTTTATTAAATACCTTTATAATAATAATTTGTATCCTTAGCTACCACGTATTTTGGCTAGAATTTAAAGAAAAAATAACATGTAATAATATATTGATTTCTATCCTTTCCTCCATTGCTATTATTTTTTGCATGACTTTTCCTTTTCAGTTACATGCTGGATTTATTTATGATTTACGTTTTATTCCTATCATATTAGTTTTTCTATATGGAAATACAAAAAATATTATTTTTATAGGAATTTTATATCTTTCTTATCGATTTTACTTAGGCGGAAATGGCGTTCTTCCATCATTTATTATCTTTACTATTATTTCTGTTATAGCAATTCTCTTCCATTACTTATTACCTCTATATGTTAAAGAAAAAAAGATATTATTGAGCTTGCTTCTTATTTTAGTATGTACAACTTCACTTTCTATCTGCGGTATTGTAACTCAAATACATACAGGCAGTAAAATAGACTCTACTCTCATAGAATTTTTATTAAATTATATAATCATTAATATTTTCACAGGATTATTATCAGTATATTTAATAGAGGGAATGATTGAGAAATATAAAATGAAAGAAAAGCTGCAACGGGCTGAAAAATTTTATATAGCTAGCGAACTAGCGGCGTCCATTGCACACGAAATTCACAATCCACTAACTACAGTACATGGATTCACTCAATTGTTAAATGAAAAACATGCCTCTAAGCTACCTCAGGATCAGTACTTAGAAATCATGTTAATTGAAATGCAGCAAATACAATCTACTATTAATAACTATTTATCTTTAACAAAACCACAGAACATCCTAAAGGAGAAAATAGATATTAATCATATTTTAAATCAAGTGAAAGACACTATTTCACCACTAGCTCTATCATACAAAGTTGAAATAAAACAAAATAGCACAGATTCCTTTTATATAAATGGAGACCCCGAAAAATTCAGACTCTGTCTAAACAACATCATACAAAACGGAATTGAGGCCATGATAAATGGTGGAGTATTACAAATAAATATACAGAAAATAAAAGGGAATATTATAATCGATATTATTGATTCAGGGATTGGAATGTCTTCTCAGCAAATAAAGCGGATTGCTTTGCCATTCTACTCAACAACAGAAAAAGGGACTGGGCTTGGTACCATGATCGCTTATAGTGTTATTAAAGAGTTAAATGGTGATATAGAGATAGAGAGTGAATTAGGTAAGGGGACACGCTTTTCTATTAGTATCCCATGCTGA\n",
      ">OMX_gene_a632144b903370119f46171479ead680|Sporulation kinase A\n",
      "ATGGTTTCCTCTTCCACCCCACCGCCCGAAACACTGCCGGTGGCCGCCGACAGTCTGGTGGTGCGCCCCTTTCGCCCGCTGGCGATTCTGGGGGTGCTGCTGATCATCCTGTGTGGTGGCGGGCTGAGCTGGATGCAGTATCGCGCCAATCTCGACCGGGTGACCGATCAGGCGCAGCGGCTGGCGGAGACGCTGGCAGCGTCGCTGGCCTCCTGGCCGGTTGAAAGCTCGCTGACCTCGGCGGAGGTCACCCTGCCGCGCCTGCTGAGCGAAACCCCGGTGCTGCCGCTGGAGGTCCAGCGTCGGCTGGAGGCCCGCTTGCGGCTGGTCTCCGAAGCAACGCCGCTGTTGCAGCTTTCCCTGTATGATCCCCACGGAAAGATCATTTTTTCCACCGACGACAGTTTGACCGCCATCACCGAGGGGGTGATGATCACCAAACCGCCGTCTGCGCTGTCCCCCCCTCCCCAGCAACTGACAGAGGGTATCCGCACCACCGGGCAGCCCGGCTTCAGCGCGCGCAAGACCTTTGTGCTGGCCGGGCGGACGCTGAGCAGCACTGCCGCCTATCGTGTTTTCACCCCGCTGGCCATGCCCGAGGGGGAGGAAAGCGTGGCGGATCTGGAACTGTATGTCGATCTGCAGGCCCCGATGGAGCAGCTGGAGGCCGAAATGCCGCGCCTGTACCTGCTGACGGCAGCCGGGTTGCTGGGGCTCTATGGCGGACTGCTGTTCCTGCTGCATCGTCTGGGGCGGTTTGCCGTCGACTGCCAGCGGCGCAGTGTGGTGACCATGGCGACCTTGCAGGAAAGCGAGGCCCATCTCGGCCGGGTGCAGGACGCAATGGAAAACACCATTGCCGAACGCACGCTGCGCCTGAAACAGAGCGAGGCCCGGTTTCGCGAATTTGCCGAATCCGCCTCTGACTGGCTGTGGGAATGCGACGAAAACGCACGGGTTACCTATATTTCCGAGGGCTTCACCCGCATCATGGGCATCGACCGCTCGCTGGTGATCGGGCGATTCCGCTGGGACATGTCGGACCTGCCTGCCGATGATGAAAAGTGGCAGCACCATCGCGCGCTGATTTCCGGCATGAAGCCGTTCCGTGATTTCACCTATACCTTTCGGCTGCCGAACAACAAACGGCGGGTGGTCTCGCTGAACGGGACGCCGATCTTTGATGAACGGGCCCGTTTTCAGGGTTTCCGGGGTACGGGTGCCGACATTACCGTACAGTACGAAGCCGAACAGACCATCCTGCATCTGGGCCGCATCCTCGAACAGTCGGCCAACGACGTGCTGGTGTTCGAAGACGGAGCCTTGCGCATCCTGCAGGCCAACCGCGGAGCCCGGCACAATCTGGGCTATGCGATGGACGAGCTGGCCGAGATGACCGCGCTGGATATCCTGTCGACCGAAACACGCACCAGTCTGGAAAACAGGCTGGGACGGTTGCGCCTGTACCCTGCCGAAGTGGCGGTCTATGAGTCGGTGTTCCAGCGCAAGGACGGCTCGTGCTATCCGGTCGAAGCCCGCATCCAGTACATGGAAGAAGAAAAGCCGCCGGTGTTCGTGGCGGTGGTGCAAAACATCACCGCCCGCAAACAGGCCGAACAGGCGCTGGCCGAAAGCGAGGAACGCTATCGGTCGGTGGCAGAGATGAGTCTGGATGCGATTCTGGTTCATGTGGACGGCATCATCGTGTTTGCCAACCAGCAGGCGACGGTGATGGCCCATGCCGATCAGGCCACGGCACTGGTCGGGCATCCGATCAGTGCCTTTGTGGTTCCCGACCCGGATCGCCCGCCGGGGGACCGGCTGCCGAATCTGACCGCCCTGTTCCTGCCCCAGCCGCGTGAAGCGGCGGCGGACGGGGCGATCAGCTATCAGCGACTGGATGTCCGGCTGCAACGGCTGGACGGGTCATCCTTTGATGCCGAGGTCTCATCGTCACCGATTGCCTTTGGCGGACGGCCAGCGGTCCAGACCATCCTGCGCGACATCACCCAGAGCAAGGTGGTGCAGGGGCAACTGATCCAGACCGCCAAGCTGGCCACTCTGGGGGAAATGGCGGCGGGCATGGCGCATGAACTGAGCCAGCCGATGAACGTCATCCGCATGGCAGCGGAAGGGGCGATGCTGGATCGCCCGGACGGGTCGCATGTGGACCCGGCGGGCCGGGCGGCGCTGGAAATCATCTCGGGGCAGGCGGCCCGGATGGGCGAAATCATCGACCACATGCGCATCTTCTCGCGCAAGCAAAGCGATGAGGTCGAACTGTTCGACCCGCTGCAGGCAATCGAGCAATCGGTTTCGATGCTGGAAAGTCAATTGCGCGCCGAAGACATCCAGCTGGAGGTGGTGGACCAGACGGCAGACGATCAGGTGTTGCTGGTGCGCGGGCGCACGGTTCATCTGGAACAGGTGTTGTTGAACCTGCTGACCAATGCCCGTCATGCCCTGCGATCCCGCTTGCGGGCCGATGACCAGCATCACCGCTATGGCGAGGTCGGGGAGGATCAGAACTGGCGGGCGACCATCACCATGACCCTGTCATGCGATGGCGAGGGGCAGGACAGTGGCGGGCTGGATGGCAGCGAGGCCGCCAGTCCGGTGCAATGGCTGGTGATTGCCGTGCAGGACAGTGGCGGCGGCATCGCGCCCGAGCATCTTGATCGCATCTTCGAGCCGTTTTACACCACCAAGGAGGTCGGCACCGGGACCGGTCTGGGGCTGTCGGTCAGCTTCAGCCTGATTACGGCGATGGGCGGAACCATTGATGCCGCCAACCGCGAGGGCGGGGCCTGCTTTACCATCCGGTTGCCCTTGAGCGCCGACAGCCCTTCCGGCACGCCAGAGGTCGGGGCGCGCAGTTTTGCGCTGCCTGCGGGCACCGACCTGCCGACGCCCCTGCCGGATGGACACCCGCCGGGGTGGGCGGCGACCGGCACGGCAGAGGAGCGGGCCGATGGGAGGGGCTGTGGTCAGCACGAAGATGATGAGGACTATTCCGCCCTGATCCCGCATGTGATGGTGGTGGATGATGAACCCTATGCGGCCTCGCTGGTGCGTGACCATCTGCTCCGTCTCGGCTATCGGGTCAGCACCGCCGAGGATGGGGAACAGGCCTATGGGCTGTTTCTGGATGATCCTCCCGATCTGATCATCACCGATTTGCGCATGCCCCGCTGTGGGGGAGACGAATTGATCGCCCGGGTTCATCAGCATGTCCCCGACTTGCCGGTCATCGTGGCGACCGGTCATCTGGGGCATCTGGAAACGGCCGCCGCAGCCTTGCAGGAGGTAACGGTGGCGGTGATCAAAAAGCCGATCAGCCTCGCCGAGCTGGCTGATCTGGTCCGGCGGTATGCTCCGTTGTCCTGA\n",
      ">OMX_gene_766a32b63afd66bb87c49dabbb09023f|Sporulation kinase E\n",
      "TTGGAACAAATCGAAGGATTGAATGAAGGTACTGTAGAGAGATTGCTGAAAAGTATTTTGGATAGTGCCTTTAATGGTATCATGACCTTGAAGGCTATACGAGGCCAAGACAAAAAAATCATCAATTTTGAGTGGCAATTTGTCAATGATGTAGCAGAGGAAATTCTCGGATTTGATTCGGATGATTTGCTTGAGCATAAACTGCTCGACATCCTGCCTCATAACAAATCCGATGGTTTATTCGAAAGTTACAAGACTGTAGTTGAAACTGGGCAGTTGATGACTTTTGAACAGCACTACGCTGGCAACAATACTGACAAGTGGTACAAAATTGCTATAGTCAAAATGGGAGATGGTGTCACAGTCACCTTTCAGGATGTATCTGATTTGAAAGAAGCGATTTTGGAAGTAGAGGCTAGAGAGAAAAAATATCAAAAACTGTTTGACGAGTCTATAGACGCTATTTTTCAAGCAGACGCCCGATTTCGCTTTTTAGATGCAAACAATTCTCTACAACATCTATTCAGATATTCATTAGATCAGCTGATGGATCTCACGCTCAGGGACTTGATTTTGGATTCAATAGCATATCGAGATTTTAAAAAGACCTTAACAGATCAAAAGCGGGTAGAGGAATATGAGGTGGAAATGCACGATGCAGCAGGTTACAAAAAGATTTGTATTGTCAATTGTGTATTGCTAATAGACCCTGAGAGCAAAGAGAAGAGTTACATAGGCGTGATCCGAGACATGACCAAAAGAAGGCAAGCAGATAAAGAGCTTGTTCAGGCGGAAAAGCTTTCCATGACAGGAAAAATTGCGCGTACCATCGCTCACGAAGTGCGTAATCCATTGACCAACCTTACACTAGCACTAGACCAGCTCAGAGATGAAGTGACGGATGAAATTGAGGATGCAAATCTCTACTTCAGTATAATCAAAAGAAACTCAGACCGGATTGGTCAGCTCATTACTGACTTGCTCAATTCCTCCAAACCCAAAGACTTAAAGCTTGTGAGGCAGCCGCTCAATGACGTGGTGAATCAATCAATTGGTTTAGTCAGGGATCGTCTGAACCTTCAGAATATGGAGTTCCACGAAAATCTGGGACAAGACCTGCCAGAAATTGCACTAGATGCAGATCAGATGAATATAGCCCTACTCAATTTATTTATCAATGCGATAGAAGCAATGAAACCTGATCAAGGCCAGCTAAAAGTCTCTACCGCACTGGAAGGAGACCGAGTGGTGGTACATGTATCTGATAATGGCAAGGGGTTGAATAAGGAGGATTTGAGTAAATTATTTGAGCCTTTCTTTACAGGAAAGACTGAAGGGACCGGATTGGGACTCACTACCGTTCAAAATATCATTCGAAGTCATAAAGGAAATATACGGGCAGAAAGTGAGGTAGGTAAAGGCACCACCTTTACGATAAGCTTTCCTTTGTGA\n",
      ">OMX_gene_4af41c32111304b2582f90bb0d481388|Sporulation kinase E\n",
      "GTGAATCGTTACGCTGTATTGTGTCTCGACAATAATCCAATCAGTGCAGAGCAGTTTCGATTGGAACTGTCGGCTTTCTCTAGCAAGTTTGATATTTTTTCTGTCGAGTCGATAGAAGAAGCGCAAAGCGCGTTGGAATATCTTGAAGAAAGAGAACAAACTGTCGCGTTAGTGATCGCCAGCCATCACGCGCACTTTAATGGTGTGGATTTTCTCATTGGGCTGGACAAAACACCGCACACCGAGCGCGCTCGTAAAATTCTCATCAGTTGCTCTTCAGATATTGACGCGATACTCACGGCCGTCAATGAAGGTCGTTTGGATCATTGTTTGACCAAGCCTCTACCAGATAACGTCCTTTTTAATACGGCTCAAAAAGAGCTGACGCAGTTTATCTTACGTAATTGCAAAGAAGACTTGCTCAGTTATAGCCAAATCTTGGACCAGCACAAATTGCTACGTGCTCATATCGAAAATCAGATGAGCAATTACCAAGCAGGTTTCTTACACGACTATCACTCGATGTCTGATAATGAACTGGCAGAACAAGTAATCTCTGCCTTGCAACAGTTTTTCAAAGAAAATGACGAAACAAAAGCTTGTCGAACCTACTCTCCTGAGCATTTGCTGACGGTTGAAGGGGAACCTAACAGCTTTTTATGGTTCATAACCAGCGGAGAAGTGGCGCTTTACAAAAGAGACGAACAAGGTATGCAACGAGAAGTGGTTCGCCATACCAAAGGGAACATTGTCGGCGGCATGTCATTTGTAACTGGGGAATGCTCCTTTTCTACTGCACTTACGCTTACCGAAACAGAAGTAATTAAACTTGATAGAAATGTGTTCCGTAAAGTAATGCAGAGTGACTCAAACCTTCTCCCCCTATTTACGAACTTACTTCTTCGTCATTTCAATCGCCGATTACAGAGAAGCATCAACACAAAATTACAATTGCAGAAAACACTCGAGTCACTTGAATCTGCTCATCAACAACTGATTGAAAGAGAAAAAATGGCCATGCTCGGCCAGTTGGTTGCAGGCGTGGCCCATGAACTGAACAACCCAATAGCTGCGATTTTGCGTGGTGTAGAAAACCTCACTCATACCCTCGAAGGGCTATTAACTCAACTTCCGACAGCAGAAGTACAAATCAAAGGCGTTCAGCTTCTAACCAGAGCTCAAACCGCCAAGCCAGCCTCGACTGCCGAACTGCGCTCACGCGTCAAAGAACTCAACAGTACGTTACCTGACCGCGCCATTGCCAAAAAAGTCGTCAATTTAGGCTTAGAGAGCGATTCCGAACTCGTTTCCCAACTCGCCAAGAAGAAAGACAACGCCTCCTCTACCCTAGAGACGTTAGAACAATACCACCAAGCAGGTGCTTCTCTCCGTTCTATCAATGTTTGTGCCGCTCGTATTGCTGACATGGTGAAGAGCCTAAAAGGCTACGCGAGATCTGATGATGAACGCATGCACTACGCCGATATCCATGAAGGCATCGAAGACACTTTAGTGATTTTCGAAAACAAGCTAAAAGTGCATCAAGTCTCAACAGATTACGCCCCACTTCCGCGTATGCTTTGCCAACCTATTGCATTGCAACAAGTGTGGACCAACCTAATTTCTAATGCGATTGACGCCTTTCCTGATAAAGGATCGTTAAAAATACAAACGAGAGAAGTTGAAAAAAACCAACAGCGTTATGCCGTGATTTCATTTGAAGATAATGGATGCGGTATTCCGGATTCGCAGAAAAAAGCAATTTTTGAACTCAACTTTACAACCAAAAAAGAAGGCAACTTTGGCTTAGGTATTGGACTGTCTATTTGCCAACAAATCGTTGCAGCACATAAAGGCTGGATTGATGTTCAATCGGAACTCAATGCCTTTACTTGTATGACCGTCTGGTTACCAGTCATTGAAGAAGGAGATGAAACATGA\n",
      ">OMX_gene_7e3437478648543dbc03c976e1bd1c24|Sporulation kinase E\n",
      "ATGCTCGTATATCATTTATTTTGGAATCAAAAAGGGAAACGCTCTCCTAAATTAAATTCAGCTATATTCATTGTACTCTGTTGCCTCGCTACCGTACTCTGTATTACATTTGCAGCAAAAACAAATAATGGTTTTCAATTTGATATGCGCCATATTGTATTAATTGTCGGTACATTAACGGGAGGGCCTATTGCTGGTGGTTCTATCTTAGTTGTATTAAACATATATCGCTTATTATTAGGTGGGGTAGGTGTTTTCCCATCTCTTATCGGTTCTGTTCTTCTATTTATTGTTCTATTATTAACATATAAATTTTTCAATCGAACTTCTAATCGTATAAAAATAACACTTGCTATTATCTACAGTCTCACATACGGATTTAGTTGGATACCCTTCTTCCTTTCAAAGGTTACAAATAAGACTGATTATATACCGCATATTATTGTGTATGAATTATGTTCAATGCTTGGTACGATTCTAATTTTATATTTACTACACATATTACAAACTCAAGTTCGTCTCCAAAATGAACTTATAAATGCTGAAAAGTTTCATTTAATTGGTGAAATGGCAGCGTCTATCTCTCATGAAATTCGCAATCCATTAACTTCAACGAAAGGTTTTTTACAACTGTTACAATCAGATACATGCACTGAGCAGGAACGAAAATTATATATCGACATTGCCATTAATGGCATCGAACAAGCAAATCATGTTCTTACAGATTATTTAACCTTTGCTAAACCAAGCATTGAAAAAGAACAAATATTACAGTTAGAAGAAGAATTACTACATGCATTGTCGCTAATTACACCGCTTGCTAATTTAACAAATGTACGTACTCATTATATAAAGCAAAGCACTTCNNNNNNNATCGCTGGAGAAAAGCAAAAACTAAATCAATGTTTATTAAATATTTTAAAAAATTGCATTGAGGCTATGCCAAAAGGCGGTGATCTTTATTTCACATTAGTTCCTGATCATAAGCATATTCAGTTATATATAAAAGATACAGGAGTCGGTATGGATTCAGAACAAGTAAAACGTCTTGGTTCGCCCTTTTATTCAACGAAAGAAAAAGGTACTGGACTTGGAATGATGGTCGTATTCAGTGTTGTTCAAGCTATGAATGGAAAAATTGATATTATAAGTGAAAAAGGAATCGGTACAACCTTTTTATTAACTTTTCCACTCATACAAAAAACGTGA\n",
      ">OMX_gene_d11fe04ef801d8e5203c9f6be3415e94|Sporulation kinase E\n",
      "ATGCTCGTATATCATTTATTTTGGAATCAAAAAGGGAAACGCTCTCCTAAATTAAATTCAGCTATATTCATTGTACTCTGTTGCCTCGCTACCGTACTCTGTATTACATTTGCAGCAAAAACAAATAATGGTTTTCAATTTGATATGCGCCATATTGTATTAATTGTCGGTACATTAACGGGAGGGCCTATTGCTGGTGGTTCTATCTTAGTTGTATTAAACATATATCGCTTATTATTAGGTGGGGTAGGTGTTTTCCCATCTCTTATCGGTTCTGTTCTTCTATTTATTGTTCTATTATTAACATATAAATTTTTCAATCGAACTTCTAATCGTATAAAAATAACACTTGCTATTATCTACAGTCTCACATACGGATTTAGTTGGATACCCTTCTTCCTTTCAAAGGTTACAAATAAGACTGATTATATACCGCATATTATTGTGTATGAATTATGTTCAATGCTTGGTACGATTCTAATTTTATATTTACTACACATATTACAAACTCAAGTTCGTCTCCAAAATGAACTTATAAATGCTGAAAAGTTTCATTTAATTGGTGAAATGGCAGCGTCTATCTCTCATGAAATTCGCAATCCATTAACTTCAACGAAAGGTTTTTTACAACTGTTACAATCAGATACATGCACTGAGCAGGAACGAAAATTATATATCGACATTGCCATTAATGGCATCGAACAAGCAAATCATGTTCTTACAGATTATTTAACCTTTGCTAAACCAAGCATTGAAAAAGAACAAATATTACAGTTAGAAGAAGAATTACTACATGCATTGTCGCTAATTACACCACTTGCTAATTTAACAAATGTACGTACTCATTATATAAAGCAAAGCACTTCTTTTTTTATCGCTGGAGAAAAGCAAAAACTAAATCAATGTTTATTAAATATTTTAAAAAATTGCATTGAGGCTATGCCAAAAGGCGGTGATCTTTATTTCACATTAGTTCCTGATCATAAGCATATTCAGTTATATATAAAAGATACAGGAGTCGGTATGGATTCAGAACAAGTAAAACGTCTTGGTTCGCCCTTTTATTCAACGAAAGAAAAAGGTACTGGACTTGGAATGATGGTCGTATTCAGTGTTGTTCAAGCTATGAATGGAAAAATTGATATTATAAGTGAAAAAGGAATCGGTACAACCTTTTTATTAACTTTTCCACTCATACAAAAAACGTGA\n",
      ">OMX_gene_8e31deb018d4b51a0ad5ada9addc1b8c|Sporulation kinase D\n",
      "GTGGCCATCAATGTAATGTGCACTTTGTACGTCGTTTCCGTGACAGTGTCCTCCATATGGATGGATCTGTCACGCAATCAAGCCGTTCTGATGTGGTTCGCTTGCCTATTTTTGTGCAGCTTGTTCTTTGAAGATAAGGTTCCCGTTCTCCGTTACGTGCAAATTGCTTTCTTGGCACTTTTTCACTGGAACAGTCAGTTGAATTGGTGCCAGCCCCTTTACATGTTTCTCGCTTTTAAGGAATGTTACCGCATTCAACATTTAACGCGCTCCATCGCACTTGCGTTTTTTATCGTCTCCATTTATTCGCTCATCCGTATCAGTTATGTTCCGGACACCCTTTACAACGTCTTAGTGACGTTTTTTGATGTCGTCAATGTCCTCGTGATCGTGTTTGCCGTTCATTACGTTGTCAAAGTAGAACAGGAAAAACGGTCATTGTTCAGAGAGAAAAAGCACCTCTCCACTCACGATCCTTTGACAGGCCTGTTAAACTACCAAGAATATCACAGACAGCTGGCGACACTCTTNNNNNNNGGCGAACGCTTTGTCCTGCTCATCATCGACTGTATCGACTTAAAGTCGATGAACGACCAACAAGGATACCAGGGAGGCAACCGCATTTTGATCAAAATGGCGAATTACTTGCGGACCTTCTTTTCAGAGGCGTACATTATGGCCCACTATGGAGGGGATGAATTTGCTGTGGTCATAAGTGTGAAGGATCGGCGAAATCCGGTCGATGAGCTGACCCGACTGCTCGTCCACCAGCTTCCGAGGGAGTTAAAGATTGGGGTAACATATGGATACGCCGTATATCCCGAGGACGGTGAAACGAAAGATGCGCTAATTTCGGCAGCGGAGCAAAAACTGTTTAATATGAAGCGGGAGATGTGGCTGAAGAAAGAGGAACAAGAGTTACGTGCCGAAAAGCTCCGCGTGGTGGGGGAACTGGCAGCCGGACTTGCACACGAAATACGCAACCCTCTGACGACGCTGCGCGGCTTTCTGCAACTGTCCNNNNNNNNCAACTTCGACATTTCACCGTACTATGAGTTGATGATGCAGGAAACAGAACGCGTCAGCGAGTTAACAGCAGAGTTTTTACAGTTTTCCNNNNNNNNTGCTGCTGAATTCAAAGTTCAGGCCTTACAGGATTGCATTCAGCGCGTGGTTCACTTGCTGGAATCAGAGGCGACGTACCTGGGCCACGAATTGCATTGCACCTTAGTTCCGACGCCAGTCCTGGTGCTCATTGACAAGGATAAAATGGTCCAGCTTTTCATCAATTTGGTGCGCAATGCCTTTGATGCGATGGTGCAGCCGGGGACGGTGACGATCCGGCTGAGGCGGGACGGGGAGCACGGAGTAATCGAAGTGTGTGATACAGGCAGTGGCATTCCAGAAGAGCGGTTAAACGACATTTTTAATCCGTTTTATACGACGAAAGAGACGGGGACAGGATTGGGGTTGTCTATTTGCTACCAGATTGTACACCATCACAACGGAGCGATTGAAGTTGAGAGCAAAGTGGGGGAAGGGAGCACTTTTACGGTGAAGCTTCCCCTCGCGCAAAACGAACAGAGGCCACAGGCGCAGTCAAGCTAG\n",
      ">OMX_gene_661d9096a59ebf56e99b7965aef70ab7|Sporulation protein YhaL\n",
      "GTGGAAACTTTACCATGGTGGGTGTATCTTGTAATCGTTGGAATCGTATTAAGTGGCTACATGGTTTTATATACTTCNNNNNNNGAGCAAGAGATGGATAATGAGTTTATCGAAAAAGAAGGCGAAGTGTATATGAAGCGTTTAGCAGAAGAGAGAGAAAAACGTAATCAGGATAGTGATAAGGATTCAGTTTTATTATAA\n"
     ]
    }
   ],
   "source": [
    "results_fasta = response.results(type='fasta')\n",
    "print(results_fasta)"
   ]
  },
  {
   "cell_type": "code",
   "execution_count": null,
   "metadata": {},
   "outputs": [],
   "source": []
  }
 ],
 "metadata": {
  "kernelspec": {
   "display_name": "Python 3",
   "language": "python",
   "name": "python3"
  },
  "language_info": {
   "codemirror_mode": {
    "name": "ipython",
    "version": 3
   },
   "file_extension": ".py",
   "mimetype": "text/x-python",
   "name": "python",
   "nbconvert_exporter": "python",
   "pygments_lexer": "ipython3",
   "version": "3.7.1"
  },
  "pycharm": {
   "stem_cell": {
    "cell_type": "raw",
    "metadata": {
     "collapsed": false
    },
    "source": []
   }
  }
 },
 "nbformat": 4,
 "nbformat_minor": 2
}
