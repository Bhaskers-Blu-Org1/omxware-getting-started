{
 "cells": [
  {
   "cell_type": "markdown",
   "metadata": {},
   "source": [
    "### COVID-19 Quick Start Notebook  \n",
    "- If this is your first time using the IBM Functional Genomics Platform SDK, please see our [installation documentation](https://ibm.github.io/omxware-pypi-docs/build/html/installation.html) and [Getting Started Notebook](https://github.com/IBM/omxware-getting-started/blob/master/GettingStarted.ipynb) or [Getting Started Documentation](https://ibm.github.io/omxware-pypi-docs/build/html/usage.html). \n",
    "- If you have any questions, please feel free to reach out to us via our forums http://ibm.biz/functional-genomics-forum."
   ]
  },
  {
   "cell_type": "markdown",
   "metadata": {},
   "source": [
    "**Verify Python 3**"
   ]
  },
  {
   "cell_type": "code",
   "execution_count": 18,
   "metadata": {},
   "outputs": [
    {
     "name": "stdout",
     "output_type": "stream",
     "text": [
      "Alrite! We are using Python 3\n"
     ]
    }
   ],
   "source": [
    "import sys\n",
    "\n",
    "if sys.version_info[0] < 3:\n",
    "    raise \"Must be using Python 3\"\n",
    "else:\n",
    "    print(\"Alrite! We are using Python \"+str(sys.version_info[0]))"
   ]
  },
  {
   "cell_type": "markdown",
   "metadata": {},
   "source": [
    "**Install or Update the OMXWare Package (if needed)**"
   ]
  },
  {
   "cell_type": "code",
   "execution_count": 19,
   "metadata": {
    "scrolled": true
   },
   "outputs": [],
   "source": [
    "# !echo 'y' | pip uninstall omxware\n",
    "\n",
    "# #Install OMXWare client\n",
    "# !pip install --no-cache-dir omxware\n",
    "\n",
    "# #Install PrettyPrint\n",
    "# !pip install --no-cache-dir pprint\n",
    "\n",
    "# #Install py4j to use Dynamic forms\n",
    "# !pip install --no-cache-dir py4j\n",
    "\n",
    "# #Install panda\n",
    "# !pip install --no-cache-dir pandas"
   ]
  },
  {
   "cell_type": "code",
   "execution_count": 20,
   "metadata": {},
   "outputs": [
    {
     "name": "stdout",
     "output_type": "stream",
     "text": [
      "Name: omxware\r\n",
      "Version: 0.1.37\r\n",
      "Summary: IBM Functional Genomics Platform SDK to explore data.\r\n",
      "Home-page: https://github.ibm.com/GrandChallenge-Almaden/omxware-pypi\r\n",
      "Author: Harsha Krishnareddy\r\n",
      "Author-email: hvkrishn@us.ibm.com\r\n",
      "License: IBM\r\n",
      "Location: /Users/kristenbeck/miniconda3/lib/python3.7/site-packages\r\n",
      "Requires: simplejson, IPython, urllib3, pprint, requests, python-keycloak, matplotlib, pycrypto, pandas, configparser\r\n",
      "Required-by: \r\n"
     ]
    }
   ],
   "source": [
    "!pip show omxware"
   ]
  },
  {
   "cell_type": "markdown",
   "metadata": {},
   "source": [
    "**Import OMXWare and initialize**"
   ]
  },
  {
   "cell_type": "code",
   "execution_count": 21,
   "metadata": {},
   "outputs": [],
   "source": [
    "%matplotlib inline\n",
    "\n",
    "import json\n",
    "import pprint\n",
    "import math\n",
    "pp = pprint.PrettyPrinter(indent=4)\n",
    "\n",
    "from IPython.display import display\n",
    "\n",
    "import omxware\n",
    "\n",
    "# --- Authentication options --- #\n",
    "# generate token with OMXWare user name and password (likely done once and then stored in file, see usage below)\n",
    "# token = omxware.get_token('username', 'password') # fill in password to initiate token\n",
    "\n",
    "# or\n",
    "\n",
    "# use previously generated token loaded from file\n",
    "token_path = \"./omxware_collaborative_work/super_awesome_token\"  # update for your path to the token file you create\n",
    "f = open(token_path)\n",
    "token = f.readline()\n",
    "\n",
    "\n",
    "# provide your token to authenticate\n",
    "omx = omxware.omxware(token)\n"
   ]
  },
  {
   "cell_type": "markdown",
   "metadata": {},
   "source": [
    "**Access OMXWare Help**"
   ]
  },
  {
   "cell_type": "code",
   "execution_count": 22,
   "metadata": {},
   "outputs": [
    {
     "name": "stdout",
     "output_type": "stream",
     "text": [
      "Help on omxware in module omxware.omxware object:\n",
      "\n",
      "class omxware(builtins.object)\n",
      " |  omxware(omxware_token, env='public')\n",
      " |  \n",
      " |  Methods defined here:\n",
      " |  \n",
      " |  __init__(self, omxware_token, env='public')\n",
      " |      Initialize a session.\n",
      " |      \n",
      " |      Parameters:\n",
      " |          :param omxware_token: OMXWare Token. use\n",
      " |          :type omxware_token: str\n",
      " |      \n",
      " |          :param env: OMXWare `env` type. Must be one of ['master', 'dev', 'dev_search', 'local']\n",
      " |          :type env: str\n",
      " |  \n",
      " |  domains(self, ids=None, sequence=None, genus_names=None, protein_ids=None, go_terms=None, ipr_ids=None, sequence_length=None, classification=None, collection=None, page_size=25, page_number=1)\n",
      " |      Get OMXWare Domains.\n",
      " |      \n",
      " |      Parameters:\n",
      " |      \n",
      " |          :param ids: List of domain ids\n",
      " |          :type ids: [str]\n",
      " |      \n",
      " |          :param sequence: Domain sequence\n",
      " |          :type sequence: str\n",
      " |      \n",
      " |          :param genus_names: List of Genus names\n",
      " |          :type genus_names: [str]\n",
      " |      \n",
      " |          :param protein_ids: List of Protein ids\n",
      " |          :type protein_ids: [str]\n",
      " |      \n",
      " |          :param go_terms:\n",
      " |          :type go_terms: [str]\n",
      " |      \n",
      " |          :param ipr_ids:\n",
      " |          :type ipr_ids: [str]\n",
      " |      \n",
      " |          :param sequence_length:\n",
      " |          :type sequence_length: str\n",
      " |      \n",
      " |          :param classification: Must only be one of {'bacteria', 'virus', 'all'}\n",
      " |          :type classification: str\n",
      " |      \n",
      " |          :param collection: List of Collection names. e.g: 'covid19' (collections is a pre-defined set of data tagged by the platform team)\n",
      " |          :type collection: [str]\n",
      " |      \n",
      " |          :param page_number: (int): Page Number\n",
      " |          :type page_number: int\n",
      " |      \n",
      " |          :param page_size: (int): Results page size\n",
      " |          :type page_size: int\n",
      " |      \n",
      " |      Returns:\n",
      " |          :return:    OmxResponse: Domain\n",
      " |  \n",
      " |  genes(self, ids=None, sequence=None, gene_name=None, genome_ids=None, genus_names=None, go_terms=None, ipr_ids=None, sequence_length=None, classification=None, collection=None, page_size=25, page_number=1)\n",
      " |      Get Genes.\n",
      " |      \n",
      " |      Parameters:\n",
      " |          :param ids: List of gene ids\n",
      " |          :type ids: [str]\n",
      " |      \n",
      " |          :param sequence: Gene sequence\n",
      " |          :type sequence: str\n",
      " |      \n",
      " |          :param gene_name:\n",
      " |          :type gene_name: str\n",
      " |      \n",
      " |          :param genome_ids: List of Genome IDs\n",
      " |          :type genome_ids: [str]\n",
      " |      \n",
      " |          :param genus_names: List of Genus names\n",
      " |          :type genus_names: [str]\n",
      " |      \n",
      " |          :param go_terms:\n",
      " |          :type go_terms: [str]\n",
      " |      \n",
      " |          :param ipr_ids:\n",
      " |          :type ipr_ids: [str]\n",
      " |      \n",
      " |          :param sequence_length:\n",
      " |          :type sequence_length: str\n",
      " |      \n",
      " |          :param classification: Must only be one of {'bacteria', 'virus', 'all'}\n",
      " |          :type classification: str\n",
      " |      \n",
      " |          :param collection: List of Collection names. e.g: 'covid19' (collections is a pre-defined set of data tagged by the platform team)\n",
      " |          :type collection: [str]\n",
      " |      \n",
      " |          :param page_number: (int): Page Number\n",
      " |          :type page_number: int\n",
      " |      \n",
      " |          :param page_size: (int): Results page size\n",
      " |          :type page_size: int\n",
      " |      \n",
      " |      Returns:\n",
      " |          :return:    OmxResponse: Gene\n",
      " |  \n",
      " |  genomes(self, ids=None, genus_names=None, genome_type=None, genome_taxid=None, classification=None, collection=None, created_before=None, created_after=None, modified_before=None, modified_after=None, page_size=25, page_number=1)\n",
      " |      Get Genomes by List of Genome ID(s) and/or Genus name(s) .\n",
      " |      \n",
      " |      Parameters:\n",
      " |          :param ids: List of Genome IDs\n",
      " |          :type ids: [str]\n",
      " |      \n",
      " |          :param genus_names: List of Genus names\n",
      " |          :type genus_names: [str]\n",
      " |      \n",
      " |          :param genome_type: List of Genome Types. Must be one of { 'REFSEQ’, 'SRA’, ‘GENBANK’ }\n",
      " |          :type genome_type: [str]\n",
      " |      \n",
      " |          :param genome_taxid: List of Genome Tax ids\n",
      " |          :type genome_taxid: [str]\n",
      " |      \n",
      " |          :param classification: Must only be one of {'bacteria', 'virus', 'all'}\n",
      " |          :type classification: str\n",
      " |      \n",
      " |          :param collection: List of Collection names. e.g: 'covid19' (collections is a pre-defined set of data tagged by the platform team)\n",
      " |          :type collection: [str]\n",
      " |      \n",
      " |          :param created_before: Date - Created / Imported before. Must be in YYYY-MM-DD format. Can also be YYYY-MM or Just YYYY\n",
      " |          :type created_before: [str]\n",
      " |      \n",
      " |          :param created_after: Date - Created / Imported after. Must be in YYYY-MM-DD format. Can also be YYYY-MM or Just YYYY\n",
      " |          :type created_after: [str]\n",
      " |      \n",
      " |          :param modified_before: Date - Modified before. Must be in YYYY-MM-DD format. Can also be YYYY-MM or Just YYYY\n",
      " |          :type modified_before: [str]\n",
      " |      \n",
      " |          :param modified_after: Date - Modified after. Must be in YYYY-MM-DD format. Can also be YYYY-MM or Just YYYY\n",
      " |          :type modified_after: [str]\n",
      " |      \n",
      " |          :param page_number: Page Number\n",
      " |          :type page_number: int\n",
      " |      \n",
      " |          :param page_size: Results page size\n",
      " |          :type page_size: int\n",
      " |      \n",
      " |      Returns:\n",
      " |          :return:    OmxResponse: Genome\n",
      " |  \n",
      " |  genus(self, genus_names=None, page_size=25, page_number=1)\n",
      " |      Get Genera by names .\n",
      " |      \n",
      " |      Parameters:\n",
      " |          :param genus_names: List of Genus names\n",
      " |          :type genus_names: [str]\n",
      " |      \n",
      " |          :param page_number: Page Number\n",
      " |          :type page_number: int\n",
      " |      \n",
      " |          :param page_size: Results page size\n",
      " |          :type page_size: int\n",
      " |      \n",
      " |      Returns:\n",
      " |          :return:    OmxResponse: Genus\n",
      " |  \n",
      " |  go(self, ids=None, categories=None, classification=None, collection=None, page_size=25, page_number=1)\n",
      " |      Get OMXWare GO Terms by List of GO ID(s) and/or Category name(s) .\n",
      " |      \n",
      " |      Parameters:\n",
      " |          :param ids: List of GO Term IDs\n",
      " |          :type ids: [str]\n",
      " |      \n",
      " |          :param categories: List of GO Term Categories. Must be one of { 'MOLECULAR_FUNCTION', 'BIOLOGICAL_PROCESS', 'CELLULAR_COMPONENT' }\n",
      " |          :type categories: [str]\n",
      " |      \n",
      " |          :param classification: Must only be one of {'bacteria', 'virus', 'all'}\n",
      " |          :type classification: str\n",
      " |      \n",
      " |          :param collection: List of Collection names. e.g: 'covid19' (collections is a pre-defined set of data tagged by the platform team)\n",
      " |          :type collection: [str]\n",
      " |      \n",
      " |          :param page_number: Page Number\n",
      " |          :type page_number: int\n",
      " |      \n",
      " |          :param page_size: Results page size\n",
      " |          :type page_size: int\n",
      " |      \n",
      " |      Returns:\n",
      " |          :return:    OmxResponse: Go\n",
      " |  \n",
      " |  ipr(self, ids=None, categories=None, classification=None, collection=None, page_size=25, page_number=1)\n",
      " |      Get OMXWare IPRs by List of IPR Code(s) and/or Category name(s) .\n",
      " |      \n",
      " |      Parameters:\n",
      " |          :param ids: List of IPR IDs\n",
      " |          :type ids: [str]\n",
      " |      \n",
      " |          :param categories: List of IPR Categories.\n",
      " |          :type categories: [str]\n",
      " |      \n",
      " |          :param classification: Must only be one of {'bacteria', 'virus', 'all'}\n",
      " |          :type classification: str\n",
      " |      \n",
      " |          :param collection: List of Collection names. e.g: 'covid19' (collections is a pre-defined set of data tagged by the platform team)\n",
      " |          :type collection: [str]\n",
      " |      \n",
      " |          :param page_number: Page Number\n",
      " |          :type page_number: int\n",
      " |      \n",
      " |          :param page_size: Results page size\n",
      " |          :type page_size: int\n",
      " |      \n",
      " |      Returns:\n",
      " |          :return:    OmxResponse: Ipr\n",
      " |  \n",
      " |  proteins(self, ids=None, sequence=None, protein_name=None, genome_ids=None, genus_names=None, domain_ids=None, go_terms=None, ipr_ids=None, sequence_length=None, classification=None, collection=None, page_size=25, page_number=1)\n",
      " |      Get Proteins.\n",
      " |      \n",
      " |      Parameters:\n",
      " |      \n",
      " |          :param ids: List of Protein ids\n",
      " |          :type ids: [str]\n",
      " |      \n",
      " |          :param sequence: Protein sequence\n",
      " |          :type sequence: str\n",
      " |      \n",
      " |          :param protein_name:\n",
      " |          :type protein_name: str\n",
      " |      \n",
      " |          :param genome_ids: List of Genome IDs\n",
      " |          :type genome_ids: [str]\n",
      " |      \n",
      " |          :param genus_names: List of Genus names\n",
      " |          :type genus_names: [str]\n",
      " |      \n",
      " |          :param domain_ids:\n",
      " |          :type domain_ids: [str]\n",
      " |      \n",
      " |          :param go_terms:\n",
      " |          :type go_terms: [str]\n",
      " |      \n",
      " |          :param ipr_ids:\n",
      " |          :type ipr_ids: [str]\n",
      " |      \n",
      " |          :param sequence_length:\n",
      " |          :type sequence_length: str\n",
      " |      \n",
      " |          :param page_number: (int): Page Number\n",
      " |          :type page_number: int\n",
      " |      \n",
      " |          :param page_size: (int): Results page size\n",
      " |          :type page_size: int\n",
      " |      \n",
      " |      Returns:\n",
      " |          :return:    OmxResponse: Protein\n",
      " |  \n",
      " |  ----------------------------------------------------------------------\n",
      " |  Data descriptors defined here:\n",
      " |  \n",
      " |  __dict__\n",
      " |      dictionary for instance variables (if defined)\n",
      " |  \n",
      " |  __weakref__\n",
      " |      list of weak references to the object (if defined)\n",
      " |  \n",
      " |  ----------------------------------------------------------------------\n",
      " |  Data and other attributes defined here:\n",
      " |  \n",
      " |  PAGE_INDEX_DEFAULT = 1\n",
      " |  \n",
      " |  PAGE_SIZE_DEFAULT = 25\n",
      "\n"
     ]
    }
   ],
   "source": [
    "help(omx)"
   ]
  },
  {
   "cell_type": "markdown",
   "metadata": {},
   "source": [
    "**Search for Details About a Specific Gene Sequence**  \n",
    "- Since the IBM Functional Genomics Platform has pre-computed millions of genes, proteins, etc. and stored all of the unique sequences, we can access the data with a simple retrieval to see if a sequence already exists. If that sequence exists, you can then just connect out to other related biological entities e.g. query a gene then find the relevant domains for its protein sequences.  \n",
    "- If you're interested in a fuzzy search, this can be accomplished by retrieving sequences of interest and using your aligner/classifier of choice. Those sequences of interest can be retrieved as a dataframe, JSON, or FASTA format.\n",
    "- Alternatively, you can complete a fuzzy search using our [BLAST application](http://ibm.biz/functional-genomics-blast)"
   ]
  },
  {
   "cell_type": "code",
   "execution_count": 23,
   "metadata": {},
   "outputs": [
    {
     "name": "stdout",
     "output_type": "stream",
     "text": [
      "Total Number of Results: 1\n",
      "Gene Name: Oligopeptide transport ATP-binding protein OppF\n",
      "Gene UID: 000002b370e57ecc5b92dec8cae249cf\n",
      "Number of Genomes this sequence is found in: 5\n"
     ]
    }
   ],
   "source": [
    "search_term = \"ATGATCGAGATACAACACCTTAACCTGACGTTTGGCGAGGGCGAGAAGCGTAATCAGGTGCTGGACGATGTGAATATCAGCGTGAGGGAGGGGGAGATTTACGGCCTGGTGGGGGAGTCCGGTTCGGGCAAAACCACGGTGCTGAAATGCCTTGCCGGGCTGTTTACCCACTGGGAGGGCGAGCTGGCGATTAACGGCAAGCGGCTGGAAAAACGTATCAGCCAGGAACGCTGCCGCCGGGTGCAGATGGTATTTCAGGATCCGTACGGCTCTTTGCATCCGCGTCACACCATCGGCGATATTCTGGAAGAGCCGCTGCACATTCACCGCATAAAAGATCGGGAGCGGCGCGTTCACGCCCTGCTGGATAAAGTTGGGCTTAATCGGGCGTTTCGCGATCGCTATCCGCACCAGCTTTCCGGCGGGCAGCGCCAGCGCGTGGCGATTGCCAGGGCGCTGATTCTGGAGCCGCAGGTGCTGCTGCTGGATGAACCTACCTCGGCGCTGGACGTCTCGGTGCAGGCGGAAATCCTCAACCTGCTGGCGGAACTTCAGCGTGAGTCGAACCTGACCTACCTGATGGTCACCCACGATCTGGGCGTGATTGCCCATCTGTGTCAGAAGGTGGCGGTAATGCAGTATGGCAAAATCCTTGAAAGCCTGACGGTGGACGAACTGGTCGCCGGGCAGGCCAAAACCGACTATACGCGGATGCTGGTCAATGCCTCACAGCAGTATTCCCGCGAGATGGCGCGGGAGGTGGCGGTGTATTAG\"\n",
    "\n",
    "genes = omx.genes(sequence = search_term,page_size=25)\n",
    "#search for sequence is an exact string search and is case insensitive\n",
    "\n",
    "total_results = genes.total_results()\n",
    "#search will only return one result since we are looking for a specific sequence\n",
    "\n",
    "print('Total Number of Results: %d' % total_results)\n",
    "\n",
    "for each_gene in genes.results():\n",
    "    print('Gene Name:',each_gene.name())\n",
    "    print('Gene UID:',each_gene.id())\n",
    "    genomes = each_gene.genomes()\n",
    "    print('Number of Genomes this sequence is found in:',genomes.total_results())"
   ]
  },
  {
   "cell_type": "markdown",
   "metadata": {},
   "source": [
    "**Search for Details About a Specific Gene By Name**\n",
    "- Here we provide an example of how to search a gene name to a specific classification of data e.g. bacteria, virus, or all as well as layering on a limitation to data only associated with SARS-CoV-2"
   ]
  },
  {
   "cell_type": "code",
   "execution_count": 24,
   "metadata": {},
   "outputs": [
    {
     "name": "stdout",
     "output_type": "stream",
     "text": [
      "Total Unique Sequences for (Bacteria) Spike Glycoprotein: 1263\n",
      "Total Unique Sequences for (Virus) Spike Glycoprotein: 5929\n",
      "Total Unique Sequences for (All) Spike Glycoprotein: 7194\n",
      "Total Unique Sequences for (SARS-COV-2) Spike Glycoprotein: 268\n"
     ]
    }
   ],
   "source": [
    "search_term = 'Spike Glycoprotein'\n",
    "\n",
    "genes_bacteria = omx.genes(gene_name=search_term, page_size=25,classification='bacteria')\n",
    "#default classification is 'bacteria'\n",
    "\n",
    "genes_virus = omx.genes(gene_name=search_term, page_size=25,classification='virus')\n",
    "genes_all = omx.genes(gene_name=search_term, page_size=25,classification='all')\n",
    "genes_sars_cov2 = omx.genes(gene_name=search_term,page_size=25,collection=['covid19'],classification='virus')\n",
    "# search is case insensitive and will match partial strings\n",
    "\n",
    "print('Total Unique Sequences for (Bacteria) %s: %d' % (search_term, genes_bacteria.total_results()))\n",
    "print('Total Unique Sequences for (Virus) %s: %d' % (search_term, genes_virus.total_results()))\n",
    "print('Total Unique Sequences for (All) %s: %d' % (search_term, genes_all.total_results()))\n",
    "print('Total Unique Sequences for (SARS-COV-2) %s: %d' % (search_term, genes_sars_cov2.total_results()))"
   ]
  },
  {
   "cell_type": "markdown",
   "metadata": {},
   "source": [
    "**Getting all Results for a query**"
   ]
  },
  {
   "cell_type": "code",
   "execution_count": 25,
   "metadata": {},
   "outputs": [
    {
     "name": "stdout",
     "output_type": "stream",
     "text": [
      "Total Number of Results should be: 268\n",
      "Total Number of Pages to be queried: 11\n",
      "Total Final Results: 268\n",
      "Total Final Unique Results: 268\n",
      "Total Gene UID returned: 268\n",
      "Total Unique Gene UID returned: 208\n"
     ]
    }
   ],
   "source": [
    "search_term = 'Spike Glycoprotein'\n",
    "genes_sars_cov2 = omx.genes(gene_name=search_term,page_size=25,collection=['covid19'],classification='virus')\n",
    "total = genes_sars_cov2.total_results()\n",
    "print('Total Number of Results should be:',total)\n",
    "pages = math.ceil(total/25)\n",
    "print('Total Number of Pages to be queried:',pages)\n",
    "final_results = []\n",
    "list_uid = []\n",
    "for counter in range(1,pages+1):\n",
    "    results = omx.genes(gene_name=search_term,page_size=25,collection=['covid19'],classification='virus',page_number=counter)\n",
    "    results = results.results(type='list')\n",
    "    for item in results:\n",
    "        final_results.append(item)\n",
    "        list_uid.append(item.id())\n",
    "print('Total Final Results:',len(final_results))\n",
    "print('Total Final Unique Results:',len(set(final_results)))\n",
    "print('Total Gene UID returned:',len(list_uid))\n",
    "print('Total Unique Gene UID returned:',len(set(list_uid)))"
   ]
  },
  {
   "cell_type": "markdown",
   "metadata": {},
   "source": [
    "**Get results in a dataframe** *to get results in other formats, see: https://github.com/IBM/omxware-getting-started/blob/master/RetrieveDataFormats.ipynb*"
   ]
  },
  {
   "cell_type": "code",
   "execution_count": 26,
   "metadata": {},
   "outputs": [
    {
     "data": {
      "text/html": [
       "<div>\n",
       "<style scoped>\n",
       "    .dataframe tbody tr th:only-of-type {\n",
       "        vertical-align: middle;\n",
       "    }\n",
       "\n",
       "    .dataframe tbody tr th {\n",
       "        vertical-align: top;\n",
       "    }\n",
       "\n",
       "    .dataframe thead th {\n",
       "        text-align: right;\n",
       "    }\n",
       "</style>\n",
       "<table border=\"1\" class=\"dataframe\">\n",
       "  <thead>\n",
       "    <tr style=\"text-align: right;\">\n",
       "      <th></th>\n",
       "      <th>classification</th>\n",
       "      <th>collection</th>\n",
       "      <th>genera</th>\n",
       "      <th>genomes</th>\n",
       "      <th>id</th>\n",
       "      <th>name</th>\n",
       "      <th>omx_creation_ts</th>\n",
       "      <th>omx_modified_ts</th>\n",
       "      <th>sequence_length</th>\n",
       "      <th>type</th>\n",
       "    </tr>\n",
       "  </thead>\n",
       "  <tbody>\n",
       "    <tr>\n",
       "      <th>0</th>\n",
       "      <td>[virus]</td>\n",
       "      <td>NaN</td>\n",
       "      <td>[alphacoronavirus]</td>\n",
       "      <td>[GCA_900197095.1]</td>\n",
       "      <td>a6502bdee522336906f0a9a2a78de120</td>\n",
       "      <td>Spike glycoprotein</td>\n",
       "      <td>2020-03-14T22:07:15.370Z</td>\n",
       "      <td>2020-03-14T22:07:15.370Z</td>\n",
       "      <td>4152</td>\n",
       "      <td>gene</td>\n",
       "    </tr>\n",
       "    <tr>\n",
       "      <th>1</th>\n",
       "      <td>[virus]</td>\n",
       "      <td>NaN</td>\n",
       "      <td>[alphacoronavirus]</td>\n",
       "      <td>[GCA_001500975.1]</td>\n",
       "      <td>fa8eb4e5a368b8a9ebec9db4ed54890c</td>\n",
       "      <td>Spike glycoprotein</td>\n",
       "      <td>2020-03-14T01:09:01.990Z</td>\n",
       "      <td>2020-03-14T01:09:01.990Z</td>\n",
       "      <td>3510</td>\n",
       "      <td>gene</td>\n",
       "    </tr>\n",
       "    <tr>\n",
       "      <th>2</th>\n",
       "      <td>[virus]</td>\n",
       "      <td>[sars cov 2, sars-cov-2, sars cov2, covid-19, ...</td>\n",
       "      <td>[betacoronavirus]</td>\n",
       "      <td>[EPI_ISL_412972, EPI_ISL_416388]</td>\n",
       "      <td>5972ceb23f77b0ca67ea06f74d0b05d0</td>\n",
       "      <td>Spike glycoprotein</td>\n",
       "      <td>2020-03-15T21:57:48.839Z</td>\n",
       "      <td>2020-03-23T19:39:14.865Z</td>\n",
       "      <td>1059</td>\n",
       "      <td>gene</td>\n",
       "    </tr>\n",
       "    <tr>\n",
       "      <th>3</th>\n",
       "      <td>[virus]</td>\n",
       "      <td>[sars cov 2, sars-cov-2, sars cov2, covid-19, ...</td>\n",
       "      <td>[betacoronavirus]</td>\n",
       "      <td>[EPI_ISL_414564, EPI_ISL_414446, EPI_ISL_41358...</td>\n",
       "      <td>f80cc4d05210a1a15c01a68e9a321ffa</td>\n",
       "      <td>Spike glycoprotein</td>\n",
       "      <td>2020-03-15T18:51:19.038Z</td>\n",
       "      <td>2020-03-23T19:51:32.897Z</td>\n",
       "      <td>3822</td>\n",
       "      <td>gene</td>\n",
       "    </tr>\n",
       "    <tr>\n",
       "      <th>4</th>\n",
       "      <td>[virus]</td>\n",
       "      <td>[sars cov 2, sars-cov-2, sars cov2, covid-19, ...</td>\n",
       "      <td>[betacoronavirus]</td>\n",
       "      <td>[EPI_ISL_413557]</td>\n",
       "      <td>493a5947213803bc585d44a7de2becf4</td>\n",
       "      <td>Spike glycoprotein</td>\n",
       "      <td>2020-03-15T22:18:23.283Z</td>\n",
       "      <td>2020-03-15T22:18:23.283Z</td>\n",
       "      <td>3822</td>\n",
       "      <td>gene</td>\n",
       "    </tr>\n",
       "  </tbody>\n",
       "</table>\n",
       "</div>"
      ],
      "text/plain": [
       "  classification                                         collection  \\\n",
       "0        [virus]                                                NaN   \n",
       "1        [virus]                                                NaN   \n",
       "2        [virus]  [sars cov 2, sars-cov-2, sars cov2, covid-19, ...   \n",
       "3        [virus]  [sars cov 2, sars-cov-2, sars cov2, covid-19, ...   \n",
       "4        [virus]  [sars cov 2, sars-cov-2, sars cov2, covid-19, ...   \n",
       "\n",
       "               genera                                            genomes  \\\n",
       "0  [alphacoronavirus]                                  [GCA_900197095.1]   \n",
       "1  [alphacoronavirus]                                  [GCA_001500975.1]   \n",
       "2   [betacoronavirus]                   [EPI_ISL_412972, EPI_ISL_416388]   \n",
       "3   [betacoronavirus]  [EPI_ISL_414564, EPI_ISL_414446, EPI_ISL_41358...   \n",
       "4   [betacoronavirus]                                   [EPI_ISL_413557]   \n",
       "\n",
       "                                 id                name  \\\n",
       "0  a6502bdee522336906f0a9a2a78de120  Spike glycoprotein   \n",
       "1  fa8eb4e5a368b8a9ebec9db4ed54890c  Spike glycoprotein   \n",
       "2  5972ceb23f77b0ca67ea06f74d0b05d0  Spike glycoprotein   \n",
       "3  f80cc4d05210a1a15c01a68e9a321ffa  Spike glycoprotein   \n",
       "4  493a5947213803bc585d44a7de2becf4  Spike glycoprotein   \n",
       "\n",
       "            omx_creation_ts           omx_modified_ts  sequence_length  type  \n",
       "0  2020-03-14T22:07:15.370Z  2020-03-14T22:07:15.370Z             4152  gene  \n",
       "1  2020-03-14T01:09:01.990Z  2020-03-14T01:09:01.990Z             3510  gene  \n",
       "2  2020-03-15T21:57:48.839Z  2020-03-23T19:39:14.865Z             1059  gene  \n",
       "3  2020-03-15T18:51:19.038Z  2020-03-23T19:51:32.897Z             3822  gene  \n",
       "4  2020-03-15T22:18:23.283Z  2020-03-15T22:18:23.283Z             3822  gene  "
      ]
     },
     "execution_count": 26,
     "metadata": {},
     "output_type": "execute_result"
    }
   ],
   "source": [
    "genes_virus_df = genes_virus.results(type='df')\n",
    "genes_virus_df.head()"
   ]
  },
  {
   "cell_type": "markdown",
   "metadata": {},
   "source": [
    "**Get distribution of genes across genera**"
   ]
  },
  {
   "cell_type": "code",
   "execution_count": 27,
   "metadata": {},
   "outputs": [
    {
     "data": {
      "image/png": "[encoded data removed]",
      "text/plain": [
       "<Figure size 432x288 with 1 Axes>"
      ]
     },
     "metadata": {},
     "output_type": "display_data"
    }
   ],
   "source": [
    "genes_all.show_facets(name = 'genera',topN=5)"
   ]
  },
  {
   "cell_type": "markdown",
   "metadata": {},
   "source": [
    "**Retrieve Additional Gene Data (e.g. Sequence) from OMXWare as Object**"
   ]
  },
  {
   "cell_type": "code",
   "execution_count": 28,
   "metadata": {},
   "outputs": [
    {
     "name": "stdout",
     "output_type": "stream",
     "text": [
      "Returns: List of gene objects \n",
      "Results: 1\n",
      "\n",
      "Id  \t\t=> a6502bdee522336906f0a9a2a78de120\n",
      "Name   \t\t=> Spike glycoprotein\n",
      "Sequence   \t=> ATGAAGTCTTTAAATTACTTCTGGTTGTTCTTACCAGTACTTTCAACACTCAGCCTACCACAAGATGTCACTAGGTGCCAGTCCACTATTAACTTCAGGC...\n",
      "Sequence length => 4152\n",
      "\n",
      "\n",
      " JSON:\n",
      "{'id': 'a6502bdee522336906f0a9a2a78de120', 'name': 'Spike glycoprotein', 'type': 'gene', 'genera': ['alphacoronavirus'], 'genomes': ['GCA_900197095.1'], 'sequence_length': 4152, 'omx_creation_ts': '2020-03-14T22:07:15.370Z', 'omx_modified_ts': '2020-03-14T22:07:15.370Z', 'classification': ['virus']}\n"
     ]
    }
   ],
   "source": [
    "gene_list = genes_virus.results(type='list')\n",
    "\n",
    "# By default, the API returns a `list`\n",
    "print(\"Returns: List of {} objects \\nResults: {}\\n\".format(genes.type(), genes.total_results()) )\n",
    "    \n",
    "gene = gene_list[0]\n",
    "print(\"Id  \\t\\t=> \" + gene.id())\n",
    "print(\"Name   \\t\\t=> \" + gene.name())\n",
    "print(\"Sequence   \\t=> \" + gene.sequence()[:100] + \"...\")\n",
    "print(\"Sequence length => \" + str(gene.sequence_length()))\n",
    "\n",
    "print(\"\\n\\n JSON:\")\n",
    "print(gene.json())\n",
    "\n"
   ]
  },
  {
   "cell_type": "markdown",
   "metadata": {},
   "source": [
    "**Search for Details About a Specific Protein from SARS-COV-2 genomes**"
   ]
  },
  {
   "cell_type": "code",
   "execution_count": 38,
   "metadata": {},
   "outputs": [
    {
     "name": "stdout",
     "output_type": "stream",
     "text": [
      "Total Results for Replicase polyprotein 1a: 662\n"
     ]
    }
   ],
   "source": [
    "search_term = 'Replicase polyprotein 1a'\n",
    "proteins = omx.proteins(protein_name=search_term,page_size=25,classification='virus',collection = ['sars-cov-2'])\n",
    "#default classification is bacteria, so when searching for sars-cov-2 results, classification must be specified as 'virus' and specify collection as covid19\n",
    "\n",
    "print('Total Results for %s: %d' % (search_term, proteins.total_results()))"
   ]
  },
  {
   "cell_type": "markdown",
   "metadata": {},
   "source": [
    "**Get results in a dataframe** to get results in other formats, see: https://github.com/IBM/omxware-getting-started/blob/master/RetrieveDataFormats.ipynb"
   ]
  },
  {
   "cell_type": "code",
   "execution_count": 39,
   "metadata": {},
   "outputs": [
    {
     "data": {
      "text/html": [
       "<div>\n",
       "<style scoped>\n",
       "    .dataframe tbody tr th:only-of-type {\n",
       "        vertical-align: middle;\n",
       "    }\n",
       "\n",
       "    .dataframe tbody tr th {\n",
       "        vertical-align: top;\n",
       "    }\n",
       "\n",
       "    .dataframe thead th {\n",
       "        text-align: right;\n",
       "    }\n",
       "</style>\n",
       "<table border=\"1\" class=\"dataframe\">\n",
       "  <thead>\n",
       "    <tr style=\"text-align: right;\">\n",
       "      <th></th>\n",
       "      <th>classification</th>\n",
       "      <th>collection</th>\n",
       "      <th>genomes</th>\n",
       "      <th>id</th>\n",
       "      <th>name</th>\n",
       "      <th>omx_creation_ts</th>\n",
       "      <th>omx_modified_ts</th>\n",
       "      <th>sequence_length</th>\n",
       "      <th>type</th>\n",
       "    </tr>\n",
       "  </thead>\n",
       "  <tbody>\n",
       "    <tr>\n",
       "      <th>0</th>\n",
       "      <td>[virus]</td>\n",
       "      <td>[sars cov 2, sars-cov-2, sars cov2, covid-19, ...</td>\n",
       "      <td>NaN</td>\n",
       "      <td>ff671118cc355c62a849cf8c79ed4087</td>\n",
       "      <td>Replicase polyprotein 1a</td>\n",
       "      <td>2020-03-23T19:04:12.715Z</td>\n",
       "      <td>2020-03-23T19:04:12.715Z</td>\n",
       "      <td>4405</td>\n",
       "      <td>protein</td>\n",
       "    </tr>\n",
       "    <tr>\n",
       "      <th>1</th>\n",
       "      <td>[virus]</td>\n",
       "      <td>[sars cov 2, sars-cov-2, sars cov2, covid-19, ...</td>\n",
       "      <td>[EPI_ISL_403928]</td>\n",
       "      <td>a6f7b4ca0c34a70ce13b7a64a97e4c91</td>\n",
       "      <td>Replicase polyprotein 1a</td>\n",
       "      <td>2020-03-15T16:56:26.427Z</td>\n",
       "      <td>2020-03-23T01:28:00.349Z</td>\n",
       "      <td>4405</td>\n",
       "      <td>protein</td>\n",
       "    </tr>\n",
       "    <tr>\n",
       "      <th>2</th>\n",
       "      <td>[virus]</td>\n",
       "      <td>[sars cov 2, sars-cov-2, sars cov2, covid-19, ...</td>\n",
       "      <td>[EPI_ISL_414476]</td>\n",
       "      <td>1599a0c9d18e2df3e61f49bb9da577b1</td>\n",
       "      <td>Replicase polyprotein 1a</td>\n",
       "      <td>2020-03-15T22:30:51.313Z</td>\n",
       "      <td>2020-03-15T22:30:51.313Z</td>\n",
       "      <td>4405</td>\n",
       "      <td>protein</td>\n",
       "    </tr>\n",
       "    <tr>\n",
       "      <th>3</th>\n",
       "      <td>[virus]</td>\n",
       "      <td>[sars cov 2, sars-cov-2, sars cov2, covid-19, ...</td>\n",
       "      <td>NaN</td>\n",
       "      <td>d3885a42cda7caf22c307e43b2dbe8a5</td>\n",
       "      <td>Replicase polyprotein 1a</td>\n",
       "      <td>2020-03-23T18:56:15.171Z</td>\n",
       "      <td>2020-03-23T18:56:15.171Z</td>\n",
       "      <td>4405</td>\n",
       "      <td>protein</td>\n",
       "    </tr>\n",
       "    <tr>\n",
       "      <th>4</th>\n",
       "      <td>[virus]</td>\n",
       "      <td>[sars cov 2, sars-cov-2, sars cov2, covid-19, ...</td>\n",
       "      <td>NaN</td>\n",
       "      <td>3a0df461828ad3e956c1089ffa103db5</td>\n",
       "      <td>Replicase polyprotein 1a</td>\n",
       "      <td>2020-03-23T18:47:24.666Z</td>\n",
       "      <td>2020-03-23T18:47:24.666Z</td>\n",
       "      <td>4405</td>\n",
       "      <td>protein</td>\n",
       "    </tr>\n",
       "  </tbody>\n",
       "</table>\n",
       "</div>"
      ],
      "text/plain": [
       "  classification                                         collection  \\\n",
       "0        [virus]  [sars cov 2, sars-cov-2, sars cov2, covid-19, ...   \n",
       "1        [virus]  [sars cov 2, sars-cov-2, sars cov2, covid-19, ...   \n",
       "2        [virus]  [sars cov 2, sars-cov-2, sars cov2, covid-19, ...   \n",
       "3        [virus]  [sars cov 2, sars-cov-2, sars cov2, covid-19, ...   \n",
       "4        [virus]  [sars cov 2, sars-cov-2, sars cov2, covid-19, ...   \n",
       "\n",
       "            genomes                                id  \\\n",
       "0               NaN  ff671118cc355c62a849cf8c79ed4087   \n",
       "1  [EPI_ISL_403928]  a6f7b4ca0c34a70ce13b7a64a97e4c91   \n",
       "2  [EPI_ISL_414476]  1599a0c9d18e2df3e61f49bb9da577b1   \n",
       "3               NaN  d3885a42cda7caf22c307e43b2dbe8a5   \n",
       "4               NaN  3a0df461828ad3e956c1089ffa103db5   \n",
       "\n",
       "                       name           omx_creation_ts  \\\n",
       "0  Replicase polyprotein 1a  2020-03-23T19:04:12.715Z   \n",
       "1  Replicase polyprotein 1a  2020-03-15T16:56:26.427Z   \n",
       "2  Replicase polyprotein 1a  2020-03-15T22:30:51.313Z   \n",
       "3  Replicase polyprotein 1a  2020-03-23T18:56:15.171Z   \n",
       "4  Replicase polyprotein 1a  2020-03-23T18:47:24.666Z   \n",
       "\n",
       "            omx_modified_ts  sequence_length     type  \n",
       "0  2020-03-23T19:04:12.715Z             4405  protein  \n",
       "1  2020-03-23T01:28:00.349Z             4405  protein  \n",
       "2  2020-03-15T22:30:51.313Z             4405  protein  \n",
       "3  2020-03-23T18:56:15.171Z             4405  protein  \n",
       "4  2020-03-23T18:47:24.666Z             4405  protein  "
      ]
     },
     "execution_count": 39,
     "metadata": {},
     "output_type": "execute_result"
    }
   ],
   "source": [
    "proteins_df = proteins.results(type='df')\n",
    "proteins_df.head()"
   ]
  },
  {
   "cell_type": "markdown",
   "metadata": {},
   "source": [
    "**Retrieve Protein Data from OMXWare as Object**"
   ]
  },
  {
   "cell_type": "code",
   "execution_count": 31,
   "metadata": {},
   "outputs": [
    {
     "name": "stdout",
     "output_type": "stream",
     "text": [
      "Returns: List of protein objects \n",
      "Results: 662\n",
      "\n",
      "Id  \t\t=> ff671118cc355c62a849cf8c79ed4087\n",
      "Name   \t\t=> Replicase polyprotein 1a\n",
      "Sequence   \t=> MESLVPGFNEKTHVQLSLPVLQVRDVLVRGFGDSVEEVLSEARQHLKDGTCGLVEVEKGVLPQLEQPYVFIKRSDARTAPHGHVMVELVAELEGIQYGRS...\n",
      "Sequence length => 4405\n",
      "\n",
      "\n",
      " JSON:\n",
      "{'id': 'ff671118cc355c62a849cf8c79ed4087', 'name': 'Replicase polyprotein 1a', 'type': 'protein', 'sequence_length': 4405, 'omx_creation_ts': '2020-03-23T19:04:12.715Z', 'omx_modified_ts': '2020-03-23T19:04:12.715Z', 'classification': ['virus'], 'collection': ['sars cov 2', 'sars-cov-2', 'sars cov2', 'covid-19', 'covid19', 'covid 19', 'coronavirus', 'corona virus']}\n"
     ]
    }
   ],
   "source": [
    "protein_list = proteins.results(type='list')\n",
    "\n",
    "# By default, the API returns a `list`\n",
    "print(\"Returns: List of {} objects \\nResults: {}\\n\".format(proteins.type(), proteins.total_results()) )\n",
    "    \n",
    "protein = protein_list[0]\n",
    "print(\"Id  \\t\\t=> \" + protein.id())\n",
    "print(\"Name   \\t\\t=> \" + protein.name())\n",
    "print(\"Sequence   \\t=> \" + protein.sequence()[:100] + \"...\")\n",
    "print(\"Sequence length => \" + str(protein.sequence_length()))\n",
    "\n",
    "print(\"\\n\\n JSON:\")\n",
    "print(protein.json())"
   ]
  },
  {
   "cell_type": "markdown",
   "metadata": {},
   "source": [
    "**Get IPR codes for Protein**"
   ]
  },
  {
   "cell_type": "code",
   "execution_count": 32,
   "metadata": {},
   "outputs": [
    {
     "name": "stdout",
     "output_type": "stream",
     "text": [
      "Total IPR codes on protein ff671118cc355c62a849cf8c79ed4087 are: 29\n",
      "IPR Codes on Protein: ['IPR008740', 'IPR014827', 'IPR014828', 'IPR014829', 'IPR032592', 'IPR024375', 'IPR021590', 'IPR002589', 'IPR009003', 'IPR038030', 'IPR022733', 'IPR038083', 'IPR038166', 'IPR037230', 'IPR038400', 'IPR032505', 'IPR036333', 'IPR038123', 'IPR037204', 'IPR036499', 'IPR018995']\n"
     ]
    }
   ],
   "source": [
    "protein_ipr = protein.ipr()\n",
    "print(\"Total IPR codes on protein %s are: %d\" % (protein.id(),protein_ipr.total_results()))\n",
    "protein_ipr_list = protein_ipr.results(type='list')\n",
    "list_ipr_codes = []\n",
    "for each_ipr in protein_ipr_list:\n",
    "    list_ipr_codes.append(each_ipr.id())\n",
    "print(\"IPR Codes on Protein:\",list_ipr_codes)"
   ]
  },
  {
   "cell_type": "markdown",
   "metadata": {},
   "source": [
    "**Get Domains for Protein**"
   ]
  },
  {
   "cell_type": "code",
   "execution_count": 33,
   "metadata": {},
   "outputs": [
    {
     "name": "stdout",
     "output_type": "stream",
     "text": [
      "Total Domains on protein ff671118cc355c62a849cf8c79ed4087 are: 42\n",
      "Domains on Protein: ['e2cad2b1388b005f1645c543c929d757', '89689ff07b3ed97338e9f0cc8c079aef', '203d3dfb51d7d9ea9bbb9e67af2a0abb', '028ab10bc2de9122272f202f21002779', '92ebecdcff1a59d6123f4e3133264695', '58b950fd36ce3d9751f1b9bb249bff7c', '1190692a318ed72059f48624fa681f1c', 'fdae11c8e0de45d7b902ef4d281da05c', '55a42297245680283d709b3b50b347cb', '4e388f266a5b8ec97bc6749a73cc74e7', '63eaad285de785e7ae13166e035cdd3f', 'd927f1784cbe71c25d9396f623d011ad', 'cfd5e1f3bff88a36cc1dc226f44b9704', '13e8f292b899ebc27bf4162c72194b91', 'a32587e00f1592c02c2f1f43e7095dcd', '2dab89f0d20a6a1df5ae39d903cdf193', '813fa1a4f8aaec81cc7835f53617f8ac', '307ed469bf72158795d153fbbdd4fe89', 'fec9ff0d891018f08b526b8c9a9180d1', '5b5749ab5d2158a34e560fa23988cfd2', 'b6aad2643a081264420278d3946455bd', '31649590255eb25618a989941edecd7f', 'c74fca287480e44f9b80c5a165f16646', 'dc25381610e21ff38e6433078516a6d6', 'd4556125ba41c9d85dfa05f2861c55d1', '99abc04e476cccb7863aaec17e52120b', '23a0c24d9250d910e4f71265cfa40652', 'fd19fe9dfb2070b67783458d16d1a30b', 'f593162a13a13af1173db2a05a50dbfa', 'cdca0c01f0bd47e7173b3c96bb02d125', '2fb6257792c06810ae0bf9657e63569f', 'b1255d3a4ef35ab756477a320239f89a', '1694db56a69408c55e33f2a29f7f3030', 'b10b0390b91a5460e55fafc97dfae749', '173be79f5a6fd85a7edb5c75cdc41fa3', '301be4c5d8e4f33f3ea86dca60107c82', '2aa71827a62e16b53fef7d62d67ca42c', '49447f95439ec40070baaa4b209c71a8', '974b92ee8bc358969844e53b995384a8', '462543a0f72f9e5ff6affc00e1b38e54', 'dc6436f559bc873ac013085f6e56d467', '8c32758bc2f4b49ed8c6dfe7caa7ea49']\n"
     ]
    }
   ],
   "source": [
    "protein_domains = protein.domains()\n",
    "print(\"Total Domains on protein %s are: %d\" % (protein.id(),protein_domains.total_results()))\n",
    "protein_domains_list = protein_domains.results(type='list')\n",
    "list_domains_uid = []\n",
    "for each_domain in protein_domains_list:\n",
    "    list_domains_uid.append(each_domain.id())\n",
    "print(\"Domains on Protein:\",list_domains_uid)"
   ]
  }
 ],
 "metadata": {
  "kernelspec": {
   "display_name": "Python 3",
   "language": "python",
   "name": "python3"
  },
  "language_info": {
   "codemirror_mode": {
    "name": "ipython",
    "version": 3
   },
   "file_extension": ".py",
   "mimetype": "text/x-python",
   "name": "python",
   "nbconvert_exporter": "python",
   "pygments_lexer": "ipython3",
   "version": "3.7.6"
  }
 },
 "nbformat": 4,
 "nbformat_minor": 2
}
