{
 "cells": [
  {
   "cell_type": "markdown",
   "metadata": {},
   "source": [
    "### COVID-19 Quick Start Notebook  \n",
    "- If this is your first time using the IBM Functional Genomics Platform SDK, please see our [installation documentation](https://ibm.github.io/omxware-pypi-docs/build/html/installation.html) and [Getting Started Notebook](https://github.com/IBM/omxware-getting-started/blob/master/GettingStarted.ipynb) or [Getting Started Documentation](https://ibm.github.io/omxware-pypi-docs/build/html/usage.html). \n",
    "- If you have any questions, please feel free to reach out to us via our forums http://ibm.biz/functional-genomics-forum."
   ]
  },
  {
   "cell_type": "markdown",
   "metadata": {},
   "source": [
    "**Verify Python 3**"
   ]
  },
  {
   "cell_type": "code",
   "execution_count": 1,
   "metadata": {},
   "outputs": [
    {
     "name": "stdout",
     "output_type": "stream",
     "text": [
      "Alrite! We are using Python 3\n"
     ]
    }
   ],
   "source": [
    "import sys\n",
    "\n",
    "if sys.version_info[0] < 3:\n",
    "    raise \"Must be using Python 3\"\n",
    "else:\n",
    "    print(\"Alrite! We are using Python \"+str(sys.version_info[0]))"
   ]
  },
  {
   "cell_type": "markdown",
   "metadata": {},
   "source": [
    "**Install or Update the OMXWare Package (if needed)**"
   ]
  },
  {
   "cell_type": "code",
   "execution_count": 2,
   "metadata": {
    "scrolled": true
   },
   "outputs": [],
   "source": [
    "# !echo 'y' | pip uninstall omxware\n",
    "\n",
    "# #Install OMXWare client\n",
    "# !pip install --no-cache-dir omxware\n",
    "\n",
    "# #Install PrettyPrint\n",
    "# !pip install --no-cache-dir pprint\n",
    "\n",
    "# #Install py4j to use Dynamic forms\n",
    "# !pip install --no-cache-dir py4j\n",
    "\n",
    "# #Install panda\n",
    "# !pip install --no-cache-dir pandas"
   ]
  },
  {
   "cell_type": "code",
   "execution_count": 3,
   "metadata": {},
   "outputs": [
    {
     "name": "stdout",
     "output_type": "stream",
     "text": [
      "Name: omxware\r\n",
      "Version: 0.1.38\r\n",
      "Summary: IBM Functional Genomics Platform SDK to explore data.\r\n",
      "Home-page: https://github.ibm.com/GrandChallenge-Almaden/omxware-pypi\r\n",
      "Author: Harsha Krishnareddy\r\n",
      "Author-email: hvkrishn@us.ibm.com\r\n",
      "License: IBM\r\n",
      "Location: /home/vader/Projects/python3_env/lib/python3.7/site-packages\r\n",
      "Requires: requests, simplejson, pprint, matplotlib, pycrypto, python-keycloak, urllib3, pandas, IPython, configparser\r\n",
      "Required-by: \r\n"
     ]
    }
   ],
   "source": [
    "!pip show omxware"
   ]
  },
  {
   "cell_type": "markdown",
   "metadata": {},
   "source": [
    "**Import OMXWare and initialize**"
   ]
  },
  {
   "cell_type": "code",
   "execution_count": 4,
   "metadata": {},
   "outputs": [],
   "source": [
    "%matplotlib inline\n",
    "\n",
    "import json\n",
    "import pprint\n",
    "import math\n",
    "pp = pprint.PrettyPrinter(indent=4)\n",
    "\n",
    "from IPython.display import display\n",
    "\n",
    "import omxware\n",
    "\n",
    "# --- Authentication options --- #\n",
    "# generate token with OMXWare user name and password (likely done once and then stored in file, see usage below)\n",
    "token = omxware.get_token('username', 'password') # fill in password to initiate token\n",
    "\n",
    "# or\n",
    "\n",
    "# use previously generated token loaded from file\n",
    "# token_path = \"./omxware_collaborative_work/super_awesome_token\"  # update for your path to the token file you create\n",
    "# f = open(token_path)\n",
    "# token = f.readline()\n",
    "\n",
    "\n",
    "# provide your token to authenticate\n",
    "omx = omxware.omxware(token)\n"
   ]
  },
  {
   "cell_type": "markdown",
   "metadata": {},
   "source": [
    "**Access OMXWare Help**"
   ]
  },
  {
   "cell_type": "code",
   "execution_count": 5,
   "metadata": {},
   "outputs": [
    {
     "name": "stdout",
     "output_type": "stream",
     "text": [
      "Help on omxware in module omxware.omxware object:\n",
      "\n",
      "class omxware(builtins.object)\n",
      " |  omxware(omxware_token, env='public')\n",
      " |  \n",
      " |  Methods defined here:\n",
      " |  \n",
      " |  __init__(self, omxware_token, env='public')\n",
      " |      Initialize a session.\n",
      " |      \n",
      " |      Parameters:\n",
      " |          :param omxware_token: OMXWare Token. use\n",
      " |          :type omxware_token: str\n",
      " |      \n",
      " |          :param env: OMXWare `env` type. Must be one of ['master', 'dev', 'dev_search', 'local']\n",
      " |          :type env: str\n",
      " |  \n",
      " |  domains(self, ids=None, sequence=None, genus_names=None, protein_ids=None, go_terms=None, ipr_ids=None, sequence_length=None, classification=None, collection=None, page_size=25, page_number=1)\n",
      " |      Get OMXWare Domains.\n",
      " |      \n",
      " |      Parameters:\n",
      " |      \n",
      " |          :param ids: List of domain ids\n",
      " |          :type ids: [str]\n",
      " |      \n",
      " |          :param sequence: Domain sequence\n",
      " |          :type sequence: str\n",
      " |      \n",
      " |          :param genus_names: List of Genus names\n",
      " |          :type genus_names: [str]\n",
      " |      \n",
      " |          :param protein_ids: List of Protein ids\n",
      " |          :type protein_ids: [str]\n",
      " |      \n",
      " |          :param go_terms:\n",
      " |          :type go_terms: [str]\n",
      " |      \n",
      " |          :param ipr_ids:\n",
      " |          :type ipr_ids: [str]\n",
      " |      \n",
      " |          :param sequence_length:\n",
      " |          :type sequence_length: str\n",
      " |      \n",
      " |          :param classification: Must only be one of {'bacteria', 'virus', 'all'}\n",
      " |          :type classification: str\n",
      " |      \n",
      " |          :param collection: List of Collection names. e.g: 'covid19' (collections is a pre-defined set of data tagged by the platform team)\n",
      " |          :type collection: [str]\n",
      " |      \n",
      " |          :param page_number: (int): Page Number\n",
      " |          :type page_number: int\n",
      " |      \n",
      " |          :param page_size: (int): Results page size\n",
      " |          :type page_size: int\n",
      " |      \n",
      " |      Returns:\n",
      " |          :return:    OmxResponse: Domain\n",
      " |  \n",
      " |  genes(self, ids=None, sequence=None, gene_name=None, genome_ids=None, genus_names=None, go_terms=None, ipr_ids=None, sequence_length=None, classification=None, collection=None, page_size=25, page_number=1)\n",
      " |      Get Genes.\n",
      " |      \n",
      " |      Parameters:\n",
      " |          :param ids: List of gene ids\n",
      " |          :type ids: [str]\n",
      " |      \n",
      " |          :param sequence: Gene sequence\n",
      " |          :type sequence: str\n",
      " |      \n",
      " |          :param gene_name:\n",
      " |          :type gene_name: str\n",
      " |      \n",
      " |          :param genome_ids: List of Genome IDs\n",
      " |          :type genome_ids: [str]\n",
      " |      \n",
      " |          :param genus_names: List of Genus names\n",
      " |          :type genus_names: [str]\n",
      " |      \n",
      " |          :param go_terms:\n",
      " |          :type go_terms: [str]\n",
      " |      \n",
      " |          :param ipr_ids:\n",
      " |          :type ipr_ids: [str]\n",
      " |      \n",
      " |          :param sequence_length:\n",
      " |          :type sequence_length: str\n",
      " |      \n",
      " |          :param classification: Must only be one of {'bacteria', 'virus', 'all'}\n",
      " |          :type classification: str\n",
      " |      \n",
      " |          :param collection: List of Collection names. e.g: 'covid19' (collections is a pre-defined set of data tagged by the platform team)\n",
      " |          :type collection: [str]\n",
      " |      \n",
      " |          :param page_number: (int): Page Number\n",
      " |          :type page_number: int\n",
      " |      \n",
      " |          :param page_size: (int): Results page size\n",
      " |          :type page_size: int\n",
      " |      \n",
      " |      Returns:\n",
      " |          :return:    OmxResponse: Gene\n",
      " |  \n",
      " |  genomes(self, ids=None, genus_names=None, genome_type=None, genome_taxid=None, classification=None, collection=None, created_before=None, created_after=None, modified_before=None, modified_after=None, page_size=25, page_number=1)\n",
      " |      Get Genomes by List of Genome ID(s) and/or Genus name(s) .\n",
      " |      \n",
      " |      Parameters:\n",
      " |          :param ids: List of Genome IDs\n",
      " |          :type ids: [str]\n",
      " |      \n",
      " |          :param genus_names: List of Genus names\n",
      " |          :type genus_names: [str]\n",
      " |      \n",
      " |          :param genome_type: List of Genome Types. Must be one of { 'REFSEQ’, 'SRA’, ‘GENBANK’ }\n",
      " |          :type genome_type: [str]\n",
      " |      \n",
      " |          :param genome_taxid: List of Genome Tax ids\n",
      " |          :type genome_taxid: [str]\n",
      " |      \n",
      " |          :param classification: Must only be one of {'bacteria', 'virus', 'all'}\n",
      " |          :type classification: str\n",
      " |      \n",
      " |          :param collection: List of Collection names. e.g: 'covid19' (collections is a pre-defined set of data tagged by the platform team)\n",
      " |          :type collection: [str]\n",
      " |      \n",
      " |          :param created_before: Date - Created / Imported before. Must be in YYYY-MM-DD format. Can also be YYYY-MM or Just YYYY\n",
      " |          :type created_before: [str]\n",
      " |      \n",
      " |          :param created_after: Date - Created / Imported after. Must be in YYYY-MM-DD format. Can also be YYYY-MM or Just YYYY\n",
      " |          :type created_after: [str]\n",
      " |      \n",
      " |          :param modified_before: Date - Modified before. Must be in YYYY-MM-DD format. Can also be YYYY-MM or Just YYYY\n",
      " |          :type modified_before: [str]\n",
      " |      \n",
      " |          :param modified_after: Date - Modified after. Must be in YYYY-MM-DD format. Can also be YYYY-MM or Just YYYY\n",
      " |          :type modified_after: [str]\n",
      " |      \n",
      " |          :param page_number: Page Number\n",
      " |          :type page_number: int\n",
      " |      \n",
      " |          :param page_size: Results page size\n",
      " |          :type page_size: int\n",
      " |      \n",
      " |      Returns:\n",
      " |          :return:    OmxResponse: Genome\n",
      " |  \n",
      " |  genus(self, genus_names=None, page_size=25, page_number=1)\n",
      " |      Get Genera by names .\n",
      " |      \n",
      " |      Parameters:\n",
      " |          :param genus_names: List of Genus names\n",
      " |          :type genus_names: [str]\n",
      " |      \n",
      " |          :param page_number: Page Number\n",
      " |          :type page_number: int\n",
      " |      \n",
      " |          :param page_size: Results page size\n",
      " |          :type page_size: int\n",
      " |      \n",
      " |      Returns:\n",
      " |          :return:    OmxResponse: Genus\n",
      " |  \n",
      " |  go(self, ids=None, categories=None, classification=None, collection=None, page_size=25, page_number=1)\n",
      " |      Get OMXWare GO Terms by List of GO ID(s) and/or Category name(s) .\n",
      " |      \n",
      " |      Parameters:\n",
      " |          :param ids: List of GO Term IDs\n",
      " |          :type ids: [str]\n",
      " |      \n",
      " |          :param categories: List of GO Term Categories. Must be one of { 'MOLECULAR_FUNCTION', 'BIOLOGICAL_PROCESS', 'CELLULAR_COMPONENT' }\n",
      " |          :type categories: [str]\n",
      " |      \n",
      " |          :param classification: Must only be one of {'bacteria', 'virus', 'all'}\n",
      " |          :type classification: str\n",
      " |      \n",
      " |          :param collection: List of Collection names. e.g: 'covid19' (collections is a pre-defined set of data tagged by the platform team)\n",
      " |          :type collection: [str]\n",
      " |      \n",
      " |          :param page_number: Page Number\n",
      " |          :type page_number: int\n",
      " |      \n",
      " |          :param page_size: Results page size\n",
      " |          :type page_size: int\n",
      " |      \n",
      " |      Returns:\n",
      " |          :return:    OmxResponse: Go\n",
      " |  \n",
      " |  ipr(self, ids=None, categories=None, classification=None, collection=None, page_size=25, page_number=1)\n",
      " |      Get OMXWare IPRs by List of IPR Code(s) and/or Category name(s) .\n",
      " |      \n",
      " |      Parameters:\n",
      " |          :param ids: List of IPR IDs\n",
      " |          :type ids: [str]\n",
      " |      \n",
      " |          :param categories: List of IPR Categories.\n",
      " |          :type categories: [str]\n",
      " |      \n",
      " |          :param classification: Must only be one of {'bacteria', 'virus', 'all'}\n",
      " |          :type classification: str\n",
      " |      \n",
      " |          :param collection: List of Collection names. e.g: 'covid19' (collections is a pre-defined set of data tagged by the platform team)\n",
      " |          :type collection: [str]\n",
      " |      \n",
      " |          :param page_number: Page Number\n",
      " |          :type page_number: int\n",
      " |      \n",
      " |          :param page_size: Results page size\n",
      " |          :type page_size: int\n",
      " |      \n",
      " |      Returns:\n",
      " |          :return:    OmxResponse: Ipr\n",
      " |  \n",
      " |  proteins(self, ids=None, sequence=None, protein_name=None, genome_ids=None, genus_names=None, domain_ids=None, go_terms=None, ipr_ids=None, sequence_length=None, classification=None, collection=None, page_size=25, page_number=1)\n",
      " |      Get Proteins.\n",
      " |      \n",
      " |      Parameters:\n",
      " |      \n",
      " |          :param ids: List of Protein ids\n",
      " |          :type ids: [str]\n",
      " |      \n",
      " |          :param sequence: Protein sequence\n",
      " |          :type sequence: str\n",
      " |      \n",
      " |          :param protein_name:\n",
      " |          :type protein_name: str\n",
      " |      \n",
      " |          :param genome_ids: List of Genome IDs\n",
      " |          :type genome_ids: [str]\n",
      " |      \n",
      " |          :param genus_names: List of Genus names\n",
      " |          :type genus_names: [str]\n",
      " |      \n",
      " |          :param domain_ids:\n",
      " |          :type domain_ids: [str]\n",
      " |      \n",
      " |          :param go_terms:\n",
      " |          :type go_terms: [str]\n",
      " |      \n",
      " |          :param ipr_ids:\n",
      " |          :type ipr_ids: [str]\n",
      " |      \n",
      " |          :param sequence_length:\n",
      " |          :type sequence_length: str\n",
      " |      \n",
      " |          :param page_number: (int): Page Number\n",
      " |          :type page_number: int\n",
      " |      \n",
      " |          :param page_size: (int): Results page size\n",
      " |          :type page_size: int\n",
      " |      \n",
      " |      Returns:\n",
      " |          :return:    OmxResponse: Protein\n",
      " |  \n",
      " |  ----------------------------------------------------------------------\n",
      " |  Data descriptors defined here:\n",
      " |  \n",
      " |  __dict__\n",
      " |      dictionary for instance variables (if defined)\n",
      " |  \n",
      " |  __weakref__\n",
      " |      list of weak references to the object (if defined)\n",
      " |  \n",
      " |  ----------------------------------------------------------------------\n",
      " |  Data and other attributes defined here:\n",
      " |  \n",
      " |  PAGE_INDEX_DEFAULT = 1\n",
      " |  \n",
      " |  PAGE_SIZE_DEFAULT = 25\n",
      "\n"
     ]
    }
   ],
   "source": [
    "help(omx)"
   ]
  },
  {
   "cell_type": "markdown",
   "metadata": {},
   "source": [
    "**Search for Details About a Specific Gene Sequence**  \n",
    "- Since the IBM Functional Genomics Platform has pre-computed millions of genes, proteins, etc. and stored all of the unique sequences, we can access the data with a simple retrieval to see if a sequence already exists. If that sequence exists, you can then just connect out to other related biological entities e.g. query a gene then find the relevant domains for its protein sequences.  \n",
    "- If you're interested in a fuzzy search, this can be accomplished by retrieving sequences of interest and using your aligner/classifier of choice. Those sequences of interest can be retrieved as a dataframe, JSON, or FASTA format.\n",
    "- Alternatively, you can complete a fuzzy search using our [BLAST application](http://ibm.biz/functional-genomics-blast)"
   ]
  },
  {
   "cell_type": "code",
   "execution_count": 6,
   "metadata": {},
   "outputs": [
    {
     "name": "stdout",
     "output_type": "stream",
     "text": [
      "Total Number of Results: 1\n",
      "Gene Name: Oligopeptide transport ATP-binding protein OppF\n",
      "Gene UID: 000002b370e57ecc5b92dec8cae249cf\n",
      "Number of Genomes this sequence is found in: 2\n"
     ]
    }
   ],
   "source": [
    "search_term = \"ATGATCGAGATACAACACCTTAACCTGACGTTTGGCGAGGGCGAGAAGCGTAATCAGGTGCTGGACGATGTGAATATCAGCGTGAGGGAGGGGGAGATTTACGGCCTGGTGGGGGAGTCCGGTTCGGGCAAAACCACGGTGCTGAAATGCCTTGCCGGGCTGTTTACCCACTGGGAGGGCGAGCTGGCGATTAACGGCAAGCGGCTGGAAAAACGTATCAGCCAGGAACGCTGCCGCCGGGTGCAGATGGTATTTCAGGATCCGTACGGCTCTTTGCATCCGCGTCACACCATCGGCGATATTCTGGAAGAGCCGCTGCACATTCACCGCATAAAAGATCGGGAGCGGCGCGTTCACGCCCTGCTGGATAAAGTTGGGCTTAATCGGGCGTTTCGCGATCGCTATCCGCACCAGCTTTCCGGCGGGCAGCGCCAGCGCGTGGCGATTGCCAGGGCGCTGATTCTGGAGCCGCAGGTGCTGCTGCTGGATGAACCTACCTCGGCGCTGGACGTCTCGGTGCAGGCGGAAATCCTCAACCTGCTGGCGGAACTTCAGCGTGAGTCGAACCTGACCTACCTGATGGTCACCCACGATCTGGGCGTGATTGCCCATCTGTGTCAGAAGGTGGCGGTAATGCAGTATGGCAAAATCCTTGAAAGCCTGACGGTGGACGAACTGGTCGCCGGGCAGGCCAAAACCGACTATACGCGGATGCTGGTCAATGCCTCACAGCAGTATTCCCGCGAGATGGCGCGGGAGGTGGCGGTGTATTAG\"\n",
    "\n",
    "genes = omx.genes(sequence = search_term,page_size=25)\n",
    "#search for sequence is an exact string search and is case insensitive\n",
    "\n",
    "total_results = genes.total_results()\n",
    "#search will only return one result since we are looking for a specific sequence\n",
    "\n",
    "print('Total Number of Results: %d' % total_results)\n",
    "\n",
    "for each_gene in genes.results():\n",
    "    print('Gene Name:',each_gene.name())\n",
    "    print('Gene UID:',each_gene.id())\n",
    "    genomes = each_gene.genomes()\n",
    "    print('Number of Genomes this sequence is found in:',genomes.total_results())"
   ]
  },
  {
   "cell_type": "markdown",
   "metadata": {},
   "source": [
    "**Search for Details About a Specific Gene By Name**\n",
    "- Here we provide an example of how to search a gene name to a specific classification of data e.g. bacteria, virus, or all as well as layering on a limitation to data only associated with SARS-CoV-2"
   ]
  },
  {
   "cell_type": "code",
   "execution_count": 7,
   "metadata": {},
   "outputs": [
    {
     "name": "stdout",
     "output_type": "stream",
     "text": [
      "Total Unique Sequences for (Bacteria) Spike Glycoprotein: 0\n",
      "Total Unique Sequences for (Virus) Spike Glycoprotein: 1954\n",
      "Total Unique Sequences for (All) Spike Glycoprotein: 1954\n",
      "Total Unique Sequences for (SARS-COV-2) Spike Glycoprotein: 1855\n"
     ]
    }
   ],
   "source": [
    "search_term = 'Spike Glycoprotein'\n",
    "\n",
    "genes_bacteria = omx.genes(gene_name=search_term, page_size=25,classification='bacteria')\n",
    "#default classification is 'bacteria'\n",
    "\n",
    "genes_virus = omx.genes(gene_name=search_term, page_size=25,classification='virus')\n",
    "genes_all = omx.genes(gene_name=search_term, page_size=25,classification='all')\n",
    "genes_sars_cov2 = omx.genes(gene_name=search_term,page_size=25,collection=['covid19'],classification='virus')\n",
    "# search is case insensitive and will match partial strings\n",
    "\n",
    "print('Total Unique Sequences for (Bacteria) %s: %d' % (search_term, genes_bacteria.total_results()))\n",
    "print('Total Unique Sequences for (Virus) %s: %d' % (search_term, genes_virus.total_results()))\n",
    "print('Total Unique Sequences for (All) %s: %d' % (search_term, genes_all.total_results()))\n",
    "print('Total Unique Sequences for (SARS-COV-2) %s: %d' % (search_term, genes_sars_cov2.total_results()))"
   ]
  },
  {
   "cell_type": "markdown",
   "metadata": {},
   "source": [
    "**Getting all Results for a query**"
   ]
  },
  {
   "cell_type": "code",
   "execution_count": 8,
   "metadata": {},
   "outputs": [
    {
     "name": "stdout",
     "output_type": "stream",
     "text": [
      "Total Number of Results should be: 1855\n",
      "Total Number of Pages to be queried: 75\n",
      "Total Final Results: 1855\n",
      "Total Final Unique Results: 1855\n",
      "Total Gene UID returned: 1855\n",
      "Total Unique Gene UID returned: 1855\n"
     ]
    }
   ],
   "source": [
    "search_term = 'Spike Glycoprotein'\n",
    "genes_sars_cov2 = omx.genes(gene_name=search_term,page_size=25,collection=['covid19'],classification='virus')\n",
    "total = genes_sars_cov2.total_results()\n",
    "print('Total Number of Results should be:',total)\n",
    "pages = math.ceil(total/25)\n",
    "print('Total Number of Pages to be queried:',pages)\n",
    "final_results = []\n",
    "list_uid = []\n",
    "for counter in range(1,pages+1):\n",
    "    results = omx.genes(gene_name=search_term,page_size=25,collection=['covid19'],classification='virus',page_number=counter)\n",
    "    results = results.results(type='list')\n",
    "    for item in results:\n",
    "        final_results.append(item)\n",
    "        list_uid.append(item.id())\n",
    "print('Total Final Results:',len(final_results))\n",
    "print('Total Final Unique Results:',len(set(final_results)))\n",
    "print('Total Gene UID returned:',len(list_uid))\n",
    "print('Total Unique Gene UID returned:',len(set(list_uid)))"
   ]
  },
  {
   "cell_type": "markdown",
   "metadata": {},
   "source": [
    "**Get results in a dataframe** *to get results in other formats, see: https://github.com/IBM/omxware-getting-started/blob/master/RetrieveDataFormats.ipynb*"
   ]
  },
  {
   "cell_type": "code",
   "execution_count": 18,
   "metadata": {},
   "outputs": [
    {
     "data": {
      "text/html": [
       "<div>\n",
       "<style scoped>\n",
       "    .dataframe tbody tr th:only-of-type {\n",
       "        vertical-align: middle;\n",
       "    }\n",
       "\n",
       "    .dataframe tbody tr th {\n",
       "        vertical-align: top;\n",
       "    }\n",
       "\n",
       "    .dataframe thead th {\n",
       "        text-align: right;\n",
       "    }\n",
       "</style>\n",
       "<table border=\"1\" class=\"dataframe\">\n",
       "  <thead>\n",
       "    <tr style=\"text-align: right;\">\n",
       "      <th></th>\n",
       "      <th>id</th>\n",
       "      <th>name</th>\n",
       "      <th>type</th>\n",
       "      <th>genera</th>\n",
       "      <th>genomes</th>\n",
       "      <th>sequence_length</th>\n",
       "      <th>status</th>\n",
       "      <th>omx_creation_ts</th>\n",
       "      <th>omx_modified_ts</th>\n",
       "      <th>classification</th>\n",
       "      <th>collection</th>\n",
       "    </tr>\n",
       "  </thead>\n",
       "  <tbody>\n",
       "    <tr>\n",
       "      <th>0</th>\n",
       "      <td>fa1843a54d80b8edd6b37c5dac4ad502</td>\n",
       "      <td>Spike glycoprotein</td>\n",
       "      <td>gene</td>\n",
       "      <td>[betacoronavirus]</td>\n",
       "      <td>[EPI_ISL_419922]</td>\n",
       "      <td>3822</td>\n",
       "      <td>active</td>\n",
       "      <td>2020-04-06T17:27:28.000Z</td>\n",
       "      <td>2020-04-06T17:27:28.000Z</td>\n",
       "      <td>[virus]</td>\n",
       "      <td>[sars cov 2, sars-cov-2, sars cov2, covid-19, ...</td>\n",
       "    </tr>\n",
       "    <tr>\n",
       "      <th>1</th>\n",
       "      <td>8c37bba6ade474a2d02ff568d567a99b</td>\n",
       "      <td>Spike glycoprotein</td>\n",
       "      <td>gene</td>\n",
       "      <td>[betacoronavirus]</td>\n",
       "      <td>[EPI_ISL_417290]</td>\n",
       "      <td>3822</td>\n",
       "      <td>active</td>\n",
       "      <td>2020-03-28T00:47:38.000Z</td>\n",
       "      <td>2020-03-28T00:47:38.000Z</td>\n",
       "      <td>[virus]</td>\n",
       "      <td>[sars cov 2, sars-cov-2, sars cov2, covid-19, ...</td>\n",
       "    </tr>\n",
       "    <tr>\n",
       "      <th>2</th>\n",
       "      <td>e6e0f4517d1bf61145b23a066b95937b</td>\n",
       "      <td>Spike glycoprotein</td>\n",
       "      <td>gene</td>\n",
       "      <td>[betacoronavirus]</td>\n",
       "      <td>[EPI_ISL_414587]</td>\n",
       "      <td>3822</td>\n",
       "      <td>active</td>\n",
       "      <td>2020-03-15T22:17:00.000Z</td>\n",
       "      <td>2020-03-15T22:17:00.000Z</td>\n",
       "      <td>[virus]</td>\n",
       "      <td>[sars cov 2, sars-cov-2, sars cov2, covid-19, ...</td>\n",
       "    </tr>\n",
       "    <tr>\n",
       "      <th>3</th>\n",
       "      <td>aec9d7e635befcc4b6664a00b4c606da</td>\n",
       "      <td>Spike glycoprotein</td>\n",
       "      <td>gene</td>\n",
       "      <td>[betacoronavirus]</td>\n",
       "      <td>[EPI_ISL_427554]</td>\n",
       "      <td>3822</td>\n",
       "      <td>active</td>\n",
       "      <td>2020-05-12T08:23:13.000Z</td>\n",
       "      <td>2020-05-12T08:23:13.000Z</td>\n",
       "      <td>[virus]</td>\n",
       "      <td>[sars cov 2, sars-cov-2, sars cov2, covid-19, ...</td>\n",
       "    </tr>\n",
       "    <tr>\n",
       "      <th>4</th>\n",
       "      <td>06e094fd9b4e2bde7a4629cfa7f957f3</td>\n",
       "      <td>Spike glycoprotein</td>\n",
       "      <td>gene</td>\n",
       "      <td>[alphacoronavirus]</td>\n",
       "      <td>[GCA_001503155.1]</td>\n",
       "      <td>4164</td>\n",
       "      <td>active</td>\n",
       "      <td>2020-03-14T01:10:20.000Z</td>\n",
       "      <td>2020-03-14T01:10:20.000Z</td>\n",
       "      <td>[virus]</td>\n",
       "      <td>NaN</td>\n",
       "    </tr>\n",
       "  </tbody>\n",
       "</table>\n",
       "</div>"
      ],
      "text/plain": [
       "                                 id                name  type  \\\n",
       "0  fa1843a54d80b8edd6b37c5dac4ad502  Spike glycoprotein  gene   \n",
       "1  8c37bba6ade474a2d02ff568d567a99b  Spike glycoprotein  gene   \n",
       "2  e6e0f4517d1bf61145b23a066b95937b  Spike glycoprotein  gene   \n",
       "3  aec9d7e635befcc4b6664a00b4c606da  Spike glycoprotein  gene   \n",
       "4  06e094fd9b4e2bde7a4629cfa7f957f3  Spike glycoprotein  gene   \n",
       "\n",
       "               genera            genomes  sequence_length  status  \\\n",
       "0   [betacoronavirus]   [EPI_ISL_419922]             3822  active   \n",
       "1   [betacoronavirus]   [EPI_ISL_417290]             3822  active   \n",
       "2   [betacoronavirus]   [EPI_ISL_414587]             3822  active   \n",
       "3   [betacoronavirus]   [EPI_ISL_427554]             3822  active   \n",
       "4  [alphacoronavirus]  [GCA_001503155.1]             4164  active   \n",
       "\n",
       "            omx_creation_ts           omx_modified_ts classification  \\\n",
       "0  2020-04-06T17:27:28.000Z  2020-04-06T17:27:28.000Z        [virus]   \n",
       "1  2020-03-28T00:47:38.000Z  2020-03-28T00:47:38.000Z        [virus]   \n",
       "2  2020-03-15T22:17:00.000Z  2020-03-15T22:17:00.000Z        [virus]   \n",
       "3  2020-05-12T08:23:13.000Z  2020-05-12T08:23:13.000Z        [virus]   \n",
       "4  2020-03-14T01:10:20.000Z  2020-03-14T01:10:20.000Z        [virus]   \n",
       "\n",
       "                                          collection  \n",
       "0  [sars cov 2, sars-cov-2, sars cov2, covid-19, ...  \n",
       "1  [sars cov 2, sars-cov-2, sars cov2, covid-19, ...  \n",
       "2  [sars cov 2, sars-cov-2, sars cov2, covid-19, ...  \n",
       "3  [sars cov 2, sars-cov-2, sars cov2, covid-19, ...  \n",
       "4                                                NaN  "
      ]
     },
     "execution_count": 18,
     "metadata": {},
     "output_type": "execute_result"
    }
   ],
   "source": [
    "genes_virus_df = genes_virus.results(type='df')\n",
    "genes_virus_df.head()"
   ]
  },
  {
   "cell_type": "markdown",
   "metadata": {},
   "source": [
    "**Get distribution of genes across genera**"
   ]
  },
  {
   "cell_type": "code",
   "execution_count": null,
   "metadata": {},
   "outputs": [],
   "source": [
    "genes_all.show_facets(name = 'genera',topN=5)"
   ]
  },
  {
   "cell_type": "markdown",
   "metadata": {},
   "source": [
    "**Retrieve Additional Gene Data (e.g. Sequence) from OMXWare as Object**"
   ]
  },
  {
   "cell_type": "code",
   "execution_count": 11,
   "metadata": {},
   "outputs": [
    {
     "name": "stdout",
     "output_type": "stream",
     "text": [
      "Returns: List of gene objects \n",
      "Results: 1\n",
      "\n",
      "Id  \t\t=> fa1843a54d80b8edd6b37c5dac4ad502\n",
      "Name   \t\t=> Spike glycoprotein\n",
      "Sequence   \t=> ATGTTTGTTTTTCTTGTTTTATTGCCACTAGTCTCTAGTCAGTGTGTTAATCTTACAACCAGAACTCAATTACCCCCTGCATACACTAATTCTTTCACAC...\n",
      "Sequence length => 3822\n",
      "\n",
      "\n",
      " JSON:\n",
      "{'id': 'fa1843a54d80b8edd6b37c5dac4ad502', 'name': 'Spike glycoprotein', 'type': 'gene', 'genera': ['betacoronavirus'], 'genomes': ['EPI_ISL_419922'], 'sequence_length': 3822, 'status': 'active', 'omx_creation_ts': '2020-04-06T17:27:28.000Z', 'omx_modified_ts': '2020-04-06T17:27:28.000Z', 'classification': ['virus'], 'collection': ['sars cov 2', 'sars-cov-2', 'sars cov2', 'covid-19', 'covid19', 'covid 19', 'coronavirus', 'corona virus']}\n"
     ]
    }
   ],
   "source": [
    "gene_list = genes_virus.results(type='list')\n",
    "\n",
    "# By default, the API returns a `list`\n",
    "print(\"Returns: List of {} objects \\nResults: {}\\n\".format(genes.type(), genes.total_results()) )\n",
    "    \n",
    "gene = gene_list[0]\n",
    "print(\"Id  \\t\\t=> \" + gene.id())\n",
    "print(\"Name   \\t\\t=> \" + gene.name())\n",
    "print(\"Sequence   \\t=> \" + gene.sequence()[:100] + \"...\")\n",
    "print(\"Sequence length => \" + str(gene.sequence_length()))\n",
    "\n",
    "print(\"\\n\\n JSON:\")\n",
    "print(gene.json())\n",
    "\n"
   ]
  },
  {
   "cell_type": "markdown",
   "metadata": {},
   "source": [
    "**Search for Details About a Specific Protein from SARS-COV-2 genomes**"
   ]
  },
  {
   "cell_type": "code",
   "execution_count": 12,
   "metadata": {},
   "outputs": [
    {
     "name": "stdout",
     "output_type": "stream",
     "text": [
      "Total Results for Replicase polyprotein 1a: 2429\n"
     ]
    }
   ],
   "source": [
    "search_term = 'Replicase polyprotein 1a'\n",
    "proteins = omx.proteins(protein_name=search_term,page_size=25,classification='virus',collection = ['sars-cov-2'])\n",
    "#default classification is bacteria, so when searching for sars-cov-2 results, classification must be specified as 'virus' and specify collection as covid19\n",
    "\n",
    "print('Total Results for %s: %d' % (search_term, proteins.total_results()))"
   ]
  },
  {
   "cell_type": "markdown",
   "metadata": {},
   "source": [
    "**Get results in a dataframe** to get results in other formats, see: https://github.com/IBM/omxware-getting-started/blob/master/RetrieveDataFormats.ipynb"
   ]
  },
  {
   "cell_type": "code",
   "execution_count": 13,
   "metadata": {},
   "outputs": [
    {
     "data": {
      "text/html": [
       "<div>\n",
       "<style scoped>\n",
       "    .dataframe tbody tr th:only-of-type {\n",
       "        vertical-align: middle;\n",
       "    }\n",
       "\n",
       "    .dataframe tbody tr th {\n",
       "        vertical-align: top;\n",
       "    }\n",
       "\n",
       "    .dataframe thead th {\n",
       "        text-align: right;\n",
       "    }\n",
       "</style>\n",
       "<table border=\"1\" class=\"dataframe\">\n",
       "  <thead>\n",
       "    <tr style=\"text-align: right;\">\n",
       "      <th></th>\n",
       "      <th>id</th>\n",
       "      <th>name</th>\n",
       "      <th>type</th>\n",
       "      <th>genomes</th>\n",
       "      <th>sequence_length</th>\n",
       "      <th>status</th>\n",
       "      <th>omx_creation_ts</th>\n",
       "      <th>omx_modified_ts</th>\n",
       "      <th>classification</th>\n",
       "      <th>collection</th>\n",
       "    </tr>\n",
       "  </thead>\n",
       "  <tbody>\n",
       "    <tr>\n",
       "      <th>0</th>\n",
       "      <td>cd6eb514a5328cbc03c04613e3ad1a0d</td>\n",
       "      <td>Replicase polyprotein 1a</td>\n",
       "      <td>protein</td>\n",
       "      <td>[EPI_ISL_427718]</td>\n",
       "      <td>4321</td>\n",
       "      <td>active</td>\n",
       "      <td>2020-05-12T00:46:12.000Z</td>\n",
       "      <td>2020-05-12T00:46:12.000Z</td>\n",
       "      <td>[virus]</td>\n",
       "      <td>[sars cov 2, sars-cov-2, sars cov2, covid-19, ...</td>\n",
       "    </tr>\n",
       "    <tr>\n",
       "      <th>1</th>\n",
       "      <td>1c519f8ec9eb28929e159d5d943e4b7e</td>\n",
       "      <td>Replicase polyprotein 1a</td>\n",
       "      <td>protein</td>\n",
       "      <td>[EPI_ISL_435704]</td>\n",
       "      <td>4405</td>\n",
       "      <td>active</td>\n",
       "      <td>2020-05-12T07:12:41.000Z</td>\n",
       "      <td>2020-05-12T07:12:41.000Z</td>\n",
       "      <td>[virus]</td>\n",
       "      <td>[sars cov 2, sars-cov-2, sars cov2, covid-19, ...</td>\n",
       "    </tr>\n",
       "    <tr>\n",
       "      <th>2</th>\n",
       "      <td>d0b165d4db4c40a99887cea5a78780e8</td>\n",
       "      <td>Replicase polyprotein 1a</td>\n",
       "      <td>protein</td>\n",
       "      <td>[EPI_ISL_435691]</td>\n",
       "      <td>4405</td>\n",
       "      <td>active</td>\n",
       "      <td>2020-05-12T00:10:24.000Z</td>\n",
       "      <td>2020-05-12T00:10:24.000Z</td>\n",
       "      <td>[virus]</td>\n",
       "      <td>[sars cov 2, sars-cov-2, sars cov2, covid-19, ...</td>\n",
       "    </tr>\n",
       "    <tr>\n",
       "      <th>3</th>\n",
       "      <td>6e140b8d42a5c0ea1c34fc2e40c91cd3</td>\n",
       "      <td>Replicase polyprotein 1a</td>\n",
       "      <td>protein</td>\n",
       "      <td>[EPI_ISL_414545, EPI_ISL_414549, EPI_ISL_41455...</td>\n",
       "      <td>4405</td>\n",
       "      <td>active</td>\n",
       "      <td>2020-03-15T19:23:42.000Z</td>\n",
       "      <td>2020-03-15T22:43:46.000Z</td>\n",
       "      <td>[virus]</td>\n",
       "      <td>[sars cov 2, sars-cov-2, sars cov2, covid-19, ...</td>\n",
       "    </tr>\n",
       "    <tr>\n",
       "      <th>4</th>\n",
       "      <td>14e429110f579351156edca2d360722d</td>\n",
       "      <td>Replicase polyprotein 1a</td>\n",
       "      <td>protein</td>\n",
       "      <td>[EPI_ISL_429521]</td>\n",
       "      <td>4405</td>\n",
       "      <td>active</td>\n",
       "      <td>2020-05-12T07:16:48.000Z</td>\n",
       "      <td>2020-05-12T07:16:48.000Z</td>\n",
       "      <td>[virus]</td>\n",
       "      <td>[sars cov 2, sars-cov-2, sars cov2, covid-19, ...</td>\n",
       "    </tr>\n",
       "  </tbody>\n",
       "</table>\n",
       "</div>"
      ],
      "text/plain": [
       "                                 id                      name     type  \\\n",
       "0  cd6eb514a5328cbc03c04613e3ad1a0d  Replicase polyprotein 1a  protein   \n",
       "1  1c519f8ec9eb28929e159d5d943e4b7e  Replicase polyprotein 1a  protein   \n",
       "2  d0b165d4db4c40a99887cea5a78780e8  Replicase polyprotein 1a  protein   \n",
       "3  6e140b8d42a5c0ea1c34fc2e40c91cd3  Replicase polyprotein 1a  protein   \n",
       "4  14e429110f579351156edca2d360722d  Replicase polyprotein 1a  protein   \n",
       "\n",
       "                                             genomes  sequence_length  status  \\\n",
       "0                                   [EPI_ISL_427718]             4321  active   \n",
       "1                                   [EPI_ISL_435704]             4405  active   \n",
       "2                                   [EPI_ISL_435691]             4405  active   \n",
       "3  [EPI_ISL_414545, EPI_ISL_414549, EPI_ISL_41455...             4405  active   \n",
       "4                                   [EPI_ISL_429521]             4405  active   \n",
       "\n",
       "            omx_creation_ts           omx_modified_ts classification  \\\n",
       "0  2020-05-12T00:46:12.000Z  2020-05-12T00:46:12.000Z        [virus]   \n",
       "1  2020-05-12T07:12:41.000Z  2020-05-12T07:12:41.000Z        [virus]   \n",
       "2  2020-05-12T00:10:24.000Z  2020-05-12T00:10:24.000Z        [virus]   \n",
       "3  2020-03-15T19:23:42.000Z  2020-03-15T22:43:46.000Z        [virus]   \n",
       "4  2020-05-12T07:16:48.000Z  2020-05-12T07:16:48.000Z        [virus]   \n",
       "\n",
       "                                          collection  \n",
       "0  [sars cov 2, sars-cov-2, sars cov2, covid-19, ...  \n",
       "1  [sars cov 2, sars-cov-2, sars cov2, covid-19, ...  \n",
       "2  [sars cov 2, sars-cov-2, sars cov2, covid-19, ...  \n",
       "3  [sars cov 2, sars-cov-2, sars cov2, covid-19, ...  \n",
       "4  [sars cov 2, sars-cov-2, sars cov2, covid-19, ...  "
      ]
     },
     "execution_count": 13,
     "metadata": {},
     "output_type": "execute_result"
    }
   ],
   "source": [
    "proteins_df = proteins.results(type='df')\n",
    "proteins_df.head()"
   ]
  },
  {
   "cell_type": "markdown",
   "metadata": {},
   "source": [
    "**Retrieve Protein Data from OMXWare as Object**"
   ]
  },
  {
   "cell_type": "code",
   "execution_count": 14,
   "metadata": {},
   "outputs": [
    {
     "name": "stdout",
     "output_type": "stream",
     "text": [
      "Returns: List of protein objects \n",
      "Results: 2429\n",
      "\n",
      "Id  \t\t=> cd6eb514a5328cbc03c04613e3ad1a0d\n",
      "Name   \t\t=> Replicase polyprotein 1a\n",
      "Sequence   \t=> MVELVAELEGIQYGRSGETLGVLVPHVGEIPVAYRKVLLRKNGNKGAGGHSYGADLKSFDLGDELGTDPYEDFQENWNTKHSSGVTRELMRELNGGAYTR...\n",
      "Sequence length => 4321\n",
      "\n",
      "\n",
      " JSON:\n",
      "{'id': 'cd6eb514a5328cbc03c04613e3ad1a0d', 'name': 'Replicase polyprotein 1a', 'type': 'protein', 'genomes': ['EPI_ISL_427718'], 'sequence_length': 4321, 'status': 'active', 'omx_creation_ts': '2020-05-12T00:46:12.000Z', 'omx_modified_ts': '2020-05-12T00:46:12.000Z', 'classification': ['virus'], 'collection': ['sars cov 2', 'sars-cov-2', 'sars cov2', 'covid-19', 'covid19', 'covid 19', 'coronavirus', 'corona virus']}\n"
     ]
    }
   ],
   "source": [
    "protein_list = proteins.results(type='list')\n",
    "\n",
    "# By default, the API returns a `list`\n",
    "print(\"Returns: List of {} objects \\nResults: {}\\n\".format(proteins.type(), proteins.total_results()) )\n",
    "    \n",
    "protein = protein_list[0]\n",
    "print(\"Id  \\t\\t=> \" + protein.id())\n",
    "print(\"Name   \\t\\t=> \" + protein.name())\n",
    "print(\"Sequence   \\t=> \" + protein.sequence()[:100] + \"...\")\n",
    "print(\"Sequence length => \" + str(protein.sequence_length()))\n",
    "\n",
    "print(\"\\n\\n JSON:\")\n",
    "print(protein.json())"
   ]
  },
  {
   "cell_type": "markdown",
   "metadata": {},
   "source": [
    "**Get IPR codes for Protein**"
   ]
  },
  {
   "cell_type": "code",
   "execution_count": 15,
   "metadata": {},
   "outputs": [
    {
     "name": "stdout",
     "output_type": "stream",
     "text": [
      "Total IPR codes on protein cd6eb514a5328cbc03c04613e3ad1a0d are: 28\n",
      "IPR Codes on Protein: ['IPR008740', 'IPR014828', 'IPR014829', 'IPR014822', 'IPR032592', 'IPR021590', 'IPR024375', 'IPR002589', 'IPR009003', 'IPR024358', 'IPR038030', 'IPR022733', 'IPR038083', 'IPR038166', 'IPR037230', 'IPR038400', 'IPR032505', 'IPR036333', 'IPR038123', 'IPR037204', 'IPR013016', 'IPR036499', 'IPR018995']\n"
     ]
    }
   ],
   "source": [
    "protein_ipr = protein.ipr()\n",
    "print(\"Total IPR codes on protein %s are: %d\" % (protein.id(),protein_ipr.total_results()))\n",
    "protein_ipr_list = protein_ipr.results(type='list')\n",
    "list_ipr_codes = []\n",
    "for each_ipr in protein_ipr_list:\n",
    "    list_ipr_codes.append(each_ipr.id())\n",
    "print(\"IPR Codes on Protein:\",list_ipr_codes)"
   ]
  },
  {
   "cell_type": "markdown",
   "metadata": {},
   "source": [
    "**Get Domains for Protein**"
   ]
  },
  {
   "cell_type": "code",
   "execution_count": null,
   "metadata": {},
   "outputs": [],
   "source": [
    "protein_domains = protein.domains()\n",
    "print(\"Total Domains on protein %s are: %d\" % (protein.id(),protein_domains.total_results()))\n",
    "protein_domains_list = protein_domains.results(type='list')\n",
    "list_domains_uid = []\n",
    "for each_domain in protein_domains_list:\n",
    "    list_domains_uid.append(each_domain.id())\n",
    "print(\"Domains on Protein:\",list_domains_uid)"
   ]
  }
 ],
 "metadata": {
  "kernelspec": {
   "display_name": "Python 3",
   "language": "python",
   "name": "python3"
  },
  "language_info": {
   "codemirror_mode": {
    "name": "ipython",
    "version": 3
   },
   "file_extension": ".py",
   "mimetype": "text/x-python",
   "name": "python",
   "nbconvert_exporter": "python",
   "pygments_lexer": "ipython3",
   "version": "3.7.5"
  }
 },
 "nbformat": 4,
 "nbformat_minor": 2
}
