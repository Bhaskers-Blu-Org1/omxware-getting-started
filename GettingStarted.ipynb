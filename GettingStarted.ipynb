{
 "cells": [
  {
   "cell_type": "markdown",
   "metadata": {
    "colab_type": "text",
    "id": "lV9-qpW7jOZx"
   },
   "source": [
    "## Verify Python 3"
   ]
  },
  {
   "cell_type": "code",
   "execution_count": 1,
   "metadata": {
    "colab": {
     "base_uri": "https://localhost:8080/",
     "height": 34
    },
    "colab_type": "code",
    "id": "-8eDpkW6jU0s",
    "outputId": "1016309c-7d55-470d-f8fa-a1b426fa5492"
   },
   "outputs": [
    {
     "name": "stdout",
     "output_type": "stream",
     "text": [
      "Alrite! We are using Python 3\n"
     ]
    }
   ],
   "source": [
    "import sys\n",
    "\n",
    "if sys.version_info[0] < 3:\n",
    "    raise \"Must be using Python 3\"\n",
    "else:\n",
    "    print(\"Alrite! We are using Python \"+str(sys.version_info[0]))"
   ]
  },
  {
   "cell_type": "markdown",
   "metadata": {
    "colab_type": "text",
    "id": "CItgtMaJjaeR"
   },
   "source": [
    "## Install OMXWare"
   ]
  },
  {
   "cell_type": "code",
   "execution_count": null,
   "metadata": {
    "colab": {},
    "colab_type": "code",
    "id": "LLktsOe9jbqv"
   },
   "outputs": [],
   "source": [
    "!echo 'y' | pip uninstall omxware\n",
    "\n",
    "#Install OMXWare client\n",
    "!pip install --no-cache-dir omxware \n",
    "\n",
    "#Install PrettyPrint\n",
    "!pip install --no-cache-dir pprint\n",
    "\n",
    "#Install py4j to use Dynamic forms\n",
    "!pip install --no-cache-dir py4j\n",
    "\n",
    "#Install panda\n",
    "!pip install --no-cache-dir pandas"
   ]
  },
  {
   "cell_type": "code",
   "execution_count": 3,
   "metadata": {
    "colab": {
     "base_uri": "https://localhost:8080/",
     "height": 216
    },
    "colab_type": "code",
    "id": "fcR_u7flj-9g",
    "outputId": "29dd8e8c-6137-4893-da7c-f9d3d1a3002f"
   },
   "outputs": [
    {
     "name": "stdout",
     "output_type": "stream",
     "text": [
      "Name: omxware\r\n",
      "Version: 0.1.38\r\n",
      "Summary: IBM Functional Genomics Platform SDK to explore data.\r\n",
      "Home-page: https://github.ibm.com/GrandChallenge-Almaden/omxware-pypi\r\n",
      "Author: Harsha Krishnareddy\r\n",
      "Author-email: hvkrishn@us.ibm.com\r\n",
      "License: IBM\r\n",
      "Location: /home/vader/Projects/python3_env/lib/python3.7/site-packages\r\n",
      "Requires: urllib3, pprint, requests, IPython, pandas, python-keycloak, pycrypto, simplejson, configparser, matplotlib\r\n",
      "Required-by: \r\n"
     ]
    }
   ],
   "source": [
    "!pip show omxware"
   ]
  },
  {
   "cell_type": "markdown",
   "metadata": {
    "colab_type": "text",
    "id": "A8nrTsIFkIf_"
   },
   "source": [
    "### Import OMXWare and initialize"
   ]
  },
  {
   "cell_type": "code",
   "execution_count": 4,
   "metadata": {
    "colab": {},
    "colab_type": "code",
    "id": "QeyZJ-n1kLav"
   },
   "outputs": [],
   "source": [
    "%matplotlib inline\n",
    "\n",
    "import json\n",
    "import pprint\n",
    "pp = pprint.PrettyPrinter(indent=4)\n",
    "\n",
    "from IPython.display import display\n",
    "\n",
    "import omxware\n",
    "\n",
    "\n",
    "# --- Authentication options --- #\n",
    "# generate token with OMXWare user name and password (likely done once and then stored in file, see usage below)\n",
    "token = omxware.get_token('username', 'password') # fill in password to initiate token\n",
    "\n",
    "# or\n",
    "\n",
    "# use previously generated token loaded from file\n",
    "# token_path = \"./omxware_collaborative_work/super_awesome_token\"  # update for your path to the token file you create\n",
    "# f = open(token_path)\n",
    "# token = f.readline()\n",
    "\n",
    "# provide your token to authenticate with OMXWare\n",
    "omx = omxware.omxware(token)"
   ]
  },
  {
   "cell_type": "code",
   "execution_count": 3,
   "metadata": {
    "colab": {},
    "colab_type": "code",
    "id": "6yhYiy9bkRGM"
   },
   "outputs": [],
   "source": [
    "# help(omx)"
   ]
  },
  {
   "cell_type": "markdown",
   "metadata": {
    "colab_type": "text",
    "id": "bqGve5tHkbAG"
   },
   "source": [
    "#### Genomes for Genus: 'Abiotrophia'"
   ]
  },
  {
   "cell_type": "code",
   "execution_count": 7,
   "metadata": {
    "colab": {
     "base_uri": "https://localhost:8080/",
     "height": 111
    },
    "colab_type": "code",
    "id": "1QImwcdTkcTn",
    "outputId": "7e321b3b-4a43-404d-9a8c-dc9ee6750679"
   },
   "outputs": [
    {
     "data": {
      "text/html": [
       "<div>\n",
       "<style scoped>\n",
       "    .dataframe tbody tr th:only-of-type {\n",
       "        vertical-align: middle;\n",
       "    }\n",
       "\n",
       "    .dataframe tbody tr th {\n",
       "        vertical-align: top;\n",
       "    }\n",
       "\n",
       "    .dataframe thead th {\n",
       "        text-align: right;\n",
       "    }\n",
       "</style>\n",
       "<table border=\"1\" class=\"dataframe\">\n",
       "  <thead>\n",
       "    <tr style=\"text-align: right;\">\n",
       "      <th></th>\n",
       "      <th>genera</th>\n",
       "      <th>genome_type</th>\n",
       "      <th>id</th>\n",
       "      <th>taxid</th>\n",
       "    </tr>\n",
       "  </thead>\n",
       "  <tbody>\n",
       "    <tr>\n",
       "      <th>0</th>\n",
       "      <td>[abiotrophia]</td>\n",
       "      <td>SRA</td>\n",
       "      <td>SRR1922824</td>\n",
       "      <td>46123</td>\n",
       "    </tr>\n",
       "    <tr>\n",
       "      <th>1</th>\n",
       "      <td>[abiotrophia]</td>\n",
       "      <td>SRA</td>\n",
       "      <td>DRR015936</td>\n",
       "      <td>46123</td>\n",
       "    </tr>\n",
       "  </tbody>\n",
       "</table>\n",
       "</div>"
      ],
      "text/plain": [
       "          genera genome_type          id  taxid\n",
       "0  [abiotrophia]         SRA  SRR1922824  46123\n",
       "1  [abiotrophia]         SRA   DRR015936  46123"
      ]
     },
     "metadata": {},
     "output_type": "display_data"
    }
   ],
   "source": [
    "# Get Genus object for genus_name = 'abiotrophia'\n",
    "genus = omx.genus(genus_names='abiotrophia').results()[0]\n",
    "\n",
    "# Get Genomes for the Genus ^^^^^^^^\n",
    "genomes_for_genus = genus.genomes()\n",
    "g4gdf = genomes_for_genus.results(type='df')[['genera','genome_type','id','taxid']]\n",
    "\n",
    "display(g4gdf)"
   ]
  },
  {
   "cell_type": "markdown",
   "metadata": {
    "colab_type": "text",
    "id": "8vOEAf2Wkhsw"
   },
   "source": [
    "### Get Genome by its ID"
   ]
  },
  {
   "cell_type": "code",
   "execution_count": 5,
   "metadata": {
    "colab": {
     "base_uri": "https://localhost:8080/",
     "height": 102
    },
    "colab_type": "code",
    "id": "rVk9u_1AkivX",
    "outputId": "d9025171-56b3-40ea-ddcf-50e2abf244a1"
   },
   "outputs": [
    {
     "name": "stdout",
     "output_type": "stream",
     "text": [
      "ID: SRR1922824\n",
      "Type: SRA\n",
      "TaxID: 46123\n",
      "BioSample: {'strain': 'HMSC24B09', 'access': 'public', 'owner_name': 'Washington University, Genome Sequencing \n",
      "Genera: [<omxware.entities.Genus.Genus object at 0x1115e5080>]\n"
     ]
    }
   ],
   "source": [
    "genome_id = 'SRR1922824'\n",
    "\n",
    "genome = omx.genomes(ids=genome_id).results()[0]\n",
    "\n",
    "# For the Genome ^^^^^^^^^^^\n",
    "id = genome.id()\n",
    "typ = genome.genome_type()\n",
    "taxid = genome.taxid()\n",
    "metadata = genome.metadata('biosample')\n",
    "\n",
    "genera = genome.genus().results()\n",
    "\n",
    "print('ID: ' + id)\n",
    "print('Type: ' + typ)\n",
    "print('TaxID: ' + taxid)\n",
    "print('BioSample: ' + str(metadata)[:100])\n",
    "print('Genera: ' + str(genera))\n",
    "\n",
    "\n"
   ]
  },
  {
   "cell_type": "markdown",
   "metadata": {
    "colab_type": "text",
    "id": "ASjOxrcxkmhR"
   },
   "source": [
    "### Get Genes for a Genome"
   ]
  },
  {
   "cell_type": "code",
   "execution_count": 10,
   "metadata": {
    "colab": {},
    "colab_type": "code",
    "id": "r3Xhnw2PknKX"
   },
   "outputs": [],
   "source": [
    "genes = genome.genes(page_number=1, page_size=10)"
   ]
  },
  {
   "cell_type": "markdown",
   "metadata": {
    "colab_type": "text",
    "id": "CZxxfTZ7kqfc"
   },
   "source": [
    "### Distribution of Genes by Genera"
   ]
  },
  {
   "cell_type": "code",
   "execution_count": 11,
   "metadata": {
    "colab": {
     "base_uri": "https://localhost:8080/",
     "height": 297
    },
    "colab_type": "code",
    "id": "Y-85YV9xkrYR",
    "outputId": "0509f204-7074-4727-e78c-9dbac29a2c84"
   },
   "outputs": [
    {
     "data": {
      "image/png": "[encoded data removed]",
      "text/plain": [
       "<Figure size 432x288 with 1 Axes>"
      ]
     },
     "metadata": {},
     "output_type": "display_data"
    }
   ],
   "source": [
    "genes.show_facets(name='genera', topN=5)"
   ]
  },
  {
   "cell_type": "markdown",
   "metadata": {
    "colab_type": "text",
    "id": "dfTw1ZaXkvfv"
   },
   "source": [
    "### Get the Genes"
   ]
  },
  {
   "cell_type": "code",
   "execution_count": 12,
   "metadata": {
    "colab": {
     "base_uri": "https://localhost:8080/",
     "height": 529
    },
    "colab_type": "code",
    "id": "aTF89EUSkwHi",
    "outputId": "8dc6bddd-788d-42f0-d47f-858a03445d45"
   },
   "outputs": [
    {
     "data": {
      "text/html": [
       "<div>\n",
       "<style scoped>\n",
       "    .dataframe tbody tr th:only-of-type {\n",
       "        vertical-align: middle;\n",
       "    }\n",
       "\n",
       "    .dataframe tbody tr th {\n",
       "        vertical-align: top;\n",
       "    }\n",
       "\n",
       "    .dataframe thead th {\n",
       "        text-align: right;\n",
       "    }\n",
       "</style>\n",
       "<table border=\"1\" class=\"dataframe\">\n",
       "  <thead>\n",
       "    <tr style=\"text-align: right;\">\n",
       "      <th></th>\n",
       "      <th>id</th>\n",
       "      <th>name</th>\n",
       "      <th>type</th>\n",
       "      <th>genera</th>\n",
       "      <th>genomes</th>\n",
       "      <th>sequence_length</th>\n",
       "      <th>status</th>\n",
       "      <th>omx_creation_ts</th>\n",
       "      <th>omx_modified_ts</th>\n",
       "      <th>classification</th>\n",
       "    </tr>\n",
       "  </thead>\n",
       "  <tbody>\n",
       "    <tr>\n",
       "      <th>0</th>\n",
       "      <td>bb6773978c3516d73999fb9bc17909c9</td>\n",
       "      <td>putative ABC transporter ATP-binding protein</td>\n",
       "      <td>gene</td>\n",
       "      <td>[abiotrophia]</td>\n",
       "      <td>[SRR1922824]</td>\n",
       "      <td>1587</td>\n",
       "      <td>active</td>\n",
       "      <td>2018-02-28T17:30:34.233Z</td>\n",
       "      <td>2018-02-28T17:30:34.233Z</td>\n",
       "      <td>[bacteria]</td>\n",
       "    </tr>\n",
       "    <tr>\n",
       "      <th>1</th>\n",
       "      <td>7ab0cfaaa96a174eaf75c292d1fdcd64</td>\n",
       "      <td>L-fucose isomerase</td>\n",
       "      <td>gene</td>\n",
       "      <td>[abiotrophia]</td>\n",
       "      <td>[SRR1922824]</td>\n",
       "      <td>1767</td>\n",
       "      <td>active</td>\n",
       "      <td>2018-02-28T17:30:34.779Z</td>\n",
       "      <td>2018-02-28T17:30:34.779Z</td>\n",
       "      <td>[bacteria]</td>\n",
       "    </tr>\n",
       "    <tr>\n",
       "      <th>2</th>\n",
       "      <td>778dd7c8b21f8ab6314654d186b59517</td>\n",
       "      <td>50S ribosomal protein L9</td>\n",
       "      <td>gene</td>\n",
       "      <td>[abiotrophia]</td>\n",
       "      <td>[SRR1922824]</td>\n",
       "      <td>453</td>\n",
       "      <td>active</td>\n",
       "      <td>2018-02-28T17:30:34.216Z</td>\n",
       "      <td>2018-02-28T17:30:34.216Z</td>\n",
       "      <td>[bacteria]</td>\n",
       "    </tr>\n",
       "    <tr>\n",
       "      <th>3</th>\n",
       "      <td>1e62b56449072dad1cef95b1526a5428</td>\n",
       "      <td>Glycerophosphodiester phosphodiesterase, cytop...</td>\n",
       "      <td>gene</td>\n",
       "      <td>[abiotrophia]</td>\n",
       "      <td>[SRR1922824]</td>\n",
       "      <td>1770</td>\n",
       "      <td>active</td>\n",
       "      <td>2018-02-28T17:30:34.011Z</td>\n",
       "      <td>2018-02-28T17:30:34.011Z</td>\n",
       "      <td>[bacteria]</td>\n",
       "    </tr>\n",
       "    <tr>\n",
       "      <th>4</th>\n",
       "      <td>fb83e21a8e707f4074c919bc85b8cffd</td>\n",
       "      <td>hypothetical protein</td>\n",
       "      <td>gene</td>\n",
       "      <td>[abiotrophia, chlamydia, lachnoanaerobaculum, ...</td>\n",
       "      <td>[ERR045414, ERR045432, ERR048577, ERR052227, E...</td>\n",
       "      <td>369</td>\n",
       "      <td>active</td>\n",
       "      <td>2018-02-13T23:19:12.827Z</td>\n",
       "      <td>2019-09-29T09:18:41.858Z</td>\n",
       "      <td>[bacteria]</td>\n",
       "    </tr>\n",
       "    <tr>\n",
       "      <th>5</th>\n",
       "      <td>8b9403de60c4f475d13ff4d10dd302da</td>\n",
       "      <td>hypothetical protein</td>\n",
       "      <td>gene</td>\n",
       "      <td>[abiotrophia]</td>\n",
       "      <td>[SRR1922824]</td>\n",
       "      <td>255</td>\n",
       "      <td>active</td>\n",
       "      <td>2018-02-28T17:30:33.665Z</td>\n",
       "      <td>2018-02-28T17:30:33.665Z</td>\n",
       "      <td>[bacteria]</td>\n",
       "    </tr>\n",
       "    <tr>\n",
       "      <th>6</th>\n",
       "      <td>40d07a0c64d0df8a9c4515ba25781acc</td>\n",
       "      <td>hypothetical protein</td>\n",
       "      <td>gene</td>\n",
       "      <td>[abiotrophia]</td>\n",
       "      <td>[SRR1922824]</td>\n",
       "      <td>231</td>\n",
       "      <td>active</td>\n",
       "      <td>2018-02-28T17:30:34.227Z</td>\n",
       "      <td>2018-02-28T17:30:34.227Z</td>\n",
       "      <td>[bacteria]</td>\n",
       "    </tr>\n",
       "    <tr>\n",
       "      <th>7</th>\n",
       "      <td>850766878fc2971ec0ae96d41b42b512</td>\n",
       "      <td>hypothetical protein</td>\n",
       "      <td>gene</td>\n",
       "      <td>[abiotrophia]</td>\n",
       "      <td>[SRR1922824]</td>\n",
       "      <td>642</td>\n",
       "      <td>active</td>\n",
       "      <td>2018-02-28T17:30:33.514Z</td>\n",
       "      <td>2018-02-28T17:30:33.514Z</td>\n",
       "      <td>[bacteria]</td>\n",
       "    </tr>\n",
       "    <tr>\n",
       "      <th>8</th>\n",
       "      <td>c2a5337f88b671a22ed1eda0fbadb1ed</td>\n",
       "      <td>hypothetical protein</td>\n",
       "      <td>gene</td>\n",
       "      <td>[abiotrophia]</td>\n",
       "      <td>[SRR1922824]</td>\n",
       "      <td>1071</td>\n",
       "      <td>active</td>\n",
       "      <td>2018-02-28T17:30:35.391Z</td>\n",
       "      <td>2018-02-28T17:30:35.391Z</td>\n",
       "      <td>[bacteria]</td>\n",
       "    </tr>\n",
       "    <tr>\n",
       "      <th>9</th>\n",
       "      <td>c2d934fa0b886173dd6463017dd95229</td>\n",
       "      <td>Calcium-transporting ATPase 1</td>\n",
       "      <td>gene</td>\n",
       "      <td>[abiotrophia]</td>\n",
       "      <td>[SRR1922824]</td>\n",
       "      <td>2673</td>\n",
       "      <td>active</td>\n",
       "      <td>2018-02-28T17:30:35.567Z</td>\n",
       "      <td>2018-02-28T17:30:35.567Z</td>\n",
       "      <td>[bacteria]</td>\n",
       "    </tr>\n",
       "  </tbody>\n",
       "</table>\n",
       "</div>"
      ],
      "text/plain": [
       "                                 id  \\\n",
       "0  bb6773978c3516d73999fb9bc17909c9   \n",
       "1  7ab0cfaaa96a174eaf75c292d1fdcd64   \n",
       "2  778dd7c8b21f8ab6314654d186b59517   \n",
       "3  1e62b56449072dad1cef95b1526a5428   \n",
       "4  fb83e21a8e707f4074c919bc85b8cffd   \n",
       "5  8b9403de60c4f475d13ff4d10dd302da   \n",
       "6  40d07a0c64d0df8a9c4515ba25781acc   \n",
       "7  850766878fc2971ec0ae96d41b42b512   \n",
       "8  c2a5337f88b671a22ed1eda0fbadb1ed   \n",
       "9  c2d934fa0b886173dd6463017dd95229   \n",
       "\n",
       "                                                name  type  \\\n",
       "0       putative ABC transporter ATP-binding protein  gene   \n",
       "1                                 L-fucose isomerase  gene   \n",
       "2                           50S ribosomal protein L9  gene   \n",
       "3  Glycerophosphodiester phosphodiesterase, cytop...  gene   \n",
       "4                               hypothetical protein  gene   \n",
       "5                               hypothetical protein  gene   \n",
       "6                               hypothetical protein  gene   \n",
       "7                               hypothetical protein  gene   \n",
       "8                               hypothetical protein  gene   \n",
       "9                      Calcium-transporting ATPase 1  gene   \n",
       "\n",
       "                                              genera  \\\n",
       "0                                      [abiotrophia]   \n",
       "1                                      [abiotrophia]   \n",
       "2                                      [abiotrophia]   \n",
       "3                                      [abiotrophia]   \n",
       "4  [abiotrophia, chlamydia, lachnoanaerobaculum, ...   \n",
       "5                                      [abiotrophia]   \n",
       "6                                      [abiotrophia]   \n",
       "7                                      [abiotrophia]   \n",
       "8                                      [abiotrophia]   \n",
       "9                                      [abiotrophia]   \n",
       "\n",
       "                                             genomes  sequence_length  status  \\\n",
       "0                                       [SRR1922824]             1587  active   \n",
       "1                                       [SRR1922824]             1767  active   \n",
       "2                                       [SRR1922824]              453  active   \n",
       "3                                       [SRR1922824]             1770  active   \n",
       "4  [ERR045414, ERR045432, ERR048577, ERR052227, E...              369  active   \n",
       "5                                       [SRR1922824]              255  active   \n",
       "6                                       [SRR1922824]              231  active   \n",
       "7                                       [SRR1922824]              642  active   \n",
       "8                                       [SRR1922824]             1071  active   \n",
       "9                                       [SRR1922824]             2673  active   \n",
       "\n",
       "            omx_creation_ts           omx_modified_ts classification  \n",
       "0  2018-02-28T17:30:34.233Z  2018-02-28T17:30:34.233Z     [bacteria]  \n",
       "1  2018-02-28T17:30:34.779Z  2018-02-28T17:30:34.779Z     [bacteria]  \n",
       "2  2018-02-28T17:30:34.216Z  2018-02-28T17:30:34.216Z     [bacteria]  \n",
       "3  2018-02-28T17:30:34.011Z  2018-02-28T17:30:34.011Z     [bacteria]  \n",
       "4  2018-02-13T23:19:12.827Z  2019-09-29T09:18:41.858Z     [bacteria]  \n",
       "5  2018-02-28T17:30:33.665Z  2018-02-28T17:30:33.665Z     [bacteria]  \n",
       "6  2018-02-28T17:30:34.227Z  2018-02-28T17:30:34.227Z     [bacteria]  \n",
       "7  2018-02-28T17:30:33.514Z  2018-02-28T17:30:33.514Z     [bacteria]  \n",
       "8  2018-02-28T17:30:35.391Z  2018-02-28T17:30:35.391Z     [bacteria]  \n",
       "9  2018-02-28T17:30:35.567Z  2018-02-28T17:30:35.567Z     [bacteria]  "
      ]
     },
     "metadata": {},
     "output_type": "display_data"
    }
   ],
   "source": [
    "gene_results = genes.results(type='df')\n",
    "display(gene_results)"
   ]
  },
  {
   "cell_type": "markdown",
   "metadata": {
    "colab_type": "text",
    "id": "gUdBTk84k0hz"
   },
   "source": [
    "### Get Genes as Fasta"
   ]
  },
  {
   "cell_type": "code",
   "execution_count": 13,
   "metadata": {
    "colab": {
     "base_uri": "https://localhost:8080/",
     "height": 382
    },
    "colab_type": "code",
    "id": "OEYHcQeik1Ga",
    "outputId": "f6487b50-c3c3-4616-a71f-19779b0962fa"
   },
   "outputs": [
    {
     "name": "stdout",
     "output_type": "stream",
     "text": [
      ">OMX_gene_bb6773978c3516d73999fb9bc17909c9|putative ABC transporter ATP-binding protein\n",
      "ATGAAACAGCTCATCAAACATTTTTGGAAGGAAAATCTCCTAATGCTAGTCATCTTGTTAGGTAATGCGCTCGCGCTAACGGCGACTAGCTTGATGCAAATTTTTATTTTAGATGCGCTTATTAGCTTAAATCTTATCAATTTTTTGCAGACGATGGGCTATTTATTGATGGCCTATTTGATAATGCTAGGAATGACTTACTTAAAAATAAGATATCAGAGCAAATTAATTCAGCAGCAAACAACCTTTCTACGGGTTAAAGTACTGAAAAAAATTAGCCAAATTAGCTATGAAGATTTCAAGTCTAAGGAATCTCAATCATATGTTTCTTGGTTCACCAATGATATGGACTTAATCGAAAAACAGTCTTTGGTTCCCCTGTATGCCTTGATAGGAGGAATTATTAATGCCATTACATCTGGAATTGCTCTCCTAACTATGCATTGGTCTTTAATTGTTTTAACGGCGAGTCTGGTTCTTGTATTACTTTTTATCCCCAAATTATTTTCTAGGAGGATGGAAGGTACCACTCGTCAAGTGGCTCAAGCAAATGAGGAATTCATACAGAAGATTGGTAACTATTTAATGGCCTATGATACAATTTTTTCTTATCGAAAGTTTTCTTATATTATCAAGAGGACAGAACAGGCATCAGATCATCTGGCTCAAGAAAAAAATAATTATCAGAAAGAAATTGGTTGGGTGACTGTGATAAGCGGTCTAGGAAATATATTGAGTCAGTTCTCTCTTTATGCTTTGACTGGTTATTTAGCAGTTCAACAAATCGTTACAATTGGTTCTTTATCAGCAACTGCTTCTTTAGCGGGTGATATTTTTAATACAGTAAGTAACATTAGCCAGTATCTTGCCATTATCAAGAGTAGCAAGCCTATTTTCGATAAATTTGAGGCATTAGAACCAGCTCATTATATTTCTCAAAATCTAACACCTATAGACGAATTAAGCCTAGAAAATATTAGTTTTGCCTATCAAGAGAATCCATTATTTACTGGTTTATCATATCGGTTTAAGATGGGAGGAAAATACGCCATTATTGGAAATAGTGGTTCAGGTAAATCTACTTTGTTGAACCTATTAGCAGGTAAAAATAGGCACTATCAAGGGACTATACGCTATGGAGAAAATAGTATTTTAGATGTAGATTATGATTCACTTTATGAAAATATGATTTATATTAATCAGCACGATAGTCAAATTGAGGGTACTATTTTAGAAAATTTGACTTTTGGAGAAGAATTATCGGTCGACTACATATATAAAATTTTAGAGGCTCTTGATTTAAAACAAGTAATCTCTCAGCTTCCAGACGGATTAAATACAAAGATAGGTGACAAAGGCAGTCTATTATCTGGCGGACAACTCCAACGACTTTCTATTGCCCGTGCCCTTTTACATGATAAACCTATTCTTTTATTGGATGAAAGTACATCTGGATTAGACCAAGAAACTATGCTAAAAATAGAAAATTTACTTATCCAACAAAAACATAAAACGCTTATCATGGTTACACATCACTTACATCCAGAAATCCTTCAACAGCTTGATGGAGTTCTTCAACTAACTTAA\n",
      ">OMX_gene_7ab0cfaaa96a174eaf75c292d1fdcd64|L-fucose isomerase\n",
      "ATGAGTCAACATCCACGTATTGGGATTCGCCCTACAATTGACGGTCGTCGCCAAGGCGTACGGGAATCCCTAGAAGTCCAAACCATGAACATGGCCAAGAGTGTGGCTGACTTAATCAGCAGCACGCTCAAATATCCGGACGGCCAACCAGTTGAATGTGTTATCTCACCTTCAACCATTGGACGGGTGCCAGAAGCAGCCGCTTCTCACGAACTCTTCAAGAAATCCAATGTCTGTGCAACCCTTACCGTGACCCCTTGCTGGTGCTACGGGAGTGAGACTATGGATATGTCACCAGATATTCCACATGCCATCTGGGGCTTCAATGGGACGGAACGTCCGGGCGCTGTTTACTTAGCTGCTGTGTTAGCTTCTCATGCGCAAAAGGGGATCCCAGCCTTCGGTATTTACGGTCACGACGTACAAGAAGCCGATGATACTGAAATTCCTGCTGACGTTAAGGAAAAGATTCTCCGTTATGCACGGGCTGCTTTAGCAACCGGCCATATGCGCGACACGGCTTATCTGTCAATGGGGAGTGTCTCCATGGGGATTGGCGGGTCTATCGTTGACCCAGACTTCTTCCAAGAGTACTTGGGTATGCGTAATGAATCGGTCGACATGACTGAATTCACCCGTCGGATTGACCGTGGTATCTATGATCCAGAAGAATTTGAACGTGCCATGACTTGGGTGAAGGCCAACATCAAAGAAGGCCAAGACCGCAACCGTCAAGACTTAGTTCTTTCACCAGAAGAAAAAGCGAAACAATGGGAATTCGTCGTTAAGATGTTCATGATTGGTCGCGACCTCATGCAAGGCAACCCTCGCTTAGCAGAACTAGGTTTTGAAGAAGAAGCGGTGGGCCACCACGCCCTAGTGGCTGGTTTCCAAGGTCAACGTCAATGGACTGACCACTTCCCTAACGGGGACTTCATGGAAACCTTCCTTAACACTCAATTTGACTGGAACGGTATCCGTAAGCCTTATATCTTCGCCACTGAAAATGATGCCCTCAACGGCGTGTCCATGCTCTTCAACTATCTCTTGACCAATACGCCACAAATCTTTGCTGACGTACGGACTTACTGGAGTCCTGAAGCAGTAGAACGGGTAACCGGTCATAAGTTAGAAGGTCATGCAGCGAATGGTTTCCTTCATTTGATTAACTCTGGCTCATGTACTCTCGATGGTACCGGCCAAGCAAGTCGTGATGGGCAAGCCGTGATTAAGCCATTCTGGGAATTGGAACAAAGCGAAGTCGATGCCATGTTGGCGAATACAGACTTCCCACCAGCTAACCGCGAATACTTCCGTGGCGGTGGCTTCTCAACTCGCTTCTTGACTAAGGGTGGCATGCCAGTGACCATGGTTCGCCTCAACCTCCTCAAGGGCGTAGGACCAGTCTTGCAAATTGCGGAAGGTTACACCTTAGAATTGCCAGACCAAGTACACCATACCTTAGATAACCGGACCGATCCAGGCTGGCCAACCACTTGGTTCGCACCACGCTTGACTGGCAAGGGTGCCTTCACTTCTGTCTATGATGTCATGAATAACTGGGGGGCTAACCACGGGGCGATCTCTTACGGACACATTGGGGCAGACCTCATCACCTTAGCATCCATGTTACGGATTCCAGTCAACATGCACAACGTAGCAGAAGAAGATATCTTCCGTCCTAAGAACTGGAGTCTCTTCGGTACAGAAGATTTGGAAGCAGCGGACTATCGCGCTTGCCAAACCTTAGGCCCAATTCATAAGTAG\n",
      ">OMX_gene_778dd7c8b21f8ab6314654d186b59517|50S ribosomal protein L9\n",
      "ATGAAAGTAATCTTACTACAAGACGTAAAAAAACAAGGAAAAAAGGGTCAATTGATTGAAGTATCGGAGGGCTATGGCCGTAACTTCTTAATCAAGAATGGCTTAGCTAAACTTGCTGATAATGCTGCAGTTAATCAATTAAATGCTGAAAATAAAGCTAAGACTCGCTTAGAGGCTGAAGAATTGGCTCAAGCAAAAGACCTTAAAGAAAAACTCGAAGATGAAAAAACTGTGATTGTAATTAAAGCAAAGTCAGGCGCAGATGGTCGTCTCTTTGGGACGATCCCATCGAAACAAATCGCTGAAGAACTTAAAAAACAGTATAACCTCAGTATTGATAAACGCAAGATTCAGCTGGAACAAAATTTAGCTTCCTTAGGCTACCACCATGTAGTAGCTAAGTTACATCATGATGTGACCGCCAAACTTAACGTTCATGTTGTAGAAGCCTAA\n",
      ">OMX_gene_1e62b56449072dad1cef95b1526a5428|Glycerophosphodiester phosphodiesterase, cytoplasmic\n",
      "ATGCAGCAGACCATGCGACACTCATTGAAACAATTGTTCTTGCTTTTATTTCGTCATTTGTTGAGTTTTGTCACGATTGCAGCTATTCTCCAAATTACCATTAGCTACCTAGGTGGTTACCTTCTAAAATTGATTTTCCGTCTAGCCCTTCTCTTGGGCAATCAGACTCATTTGGATTTAAATAATATTTCTTACCTAATGAGGCAGCCAGATAGTCTATTAGCTTTTCTTCTCTTTGCGCTCTGCTTTGCAGCCCTCTTTTTTATTGAGTTGTCGGTTTTGATTTACGTCATTTATGCTCGCCAACTTAAAAAGGAAATCTCCTACGGAGCGGTCATTCGCCAAGCACTAGGCCGTTTGCGCCATTTATTTGGGCTGAGCTTCTTCTATTTTCTTGGCTATATCGCCATCACGATTCCCATATCCGGCCTAGTCATGCAGTCTTCACTGACCAATGGCCTCAGGATACCTGATTTCATCACAGGTGAGTTTCTTAAAACTTGGCAGGGGACAATCCTTGTGGTGCTCCTAGCGATTCTGCTCTTCTATCTCAACCTTCGCTTGATTTACGCTATGCCCCTTATGATGATTAAGGACCAAAGTTTTGTCATATCGCTAAGGGAAAGTTGGCGAATGACTCAAGTTAAGAAGTGGAAACTTTTATTGACTTTCGCTATTTTCGGTTTTGTCCTGGGTTTAATTAGTGTAGGCTTGATTAGCGTATTTATAGAAGCGGCCATGGCCTTTGATCCATCCGGTAATAGTTTTATAGTCCAAGCGCTGCTCTTGTCAATTCTTAAGTTTATTGCCTTCACGGTGATTATCCTATCCAAAGTCGGTACCTTAATCATTTTAGTGGATCAGGTAGTGGCGCCTGAAGTGACCAATTCGCTGCTCTTAATTGAGCCGAGTCATCGTCGCCACCGTCGACGCATCTTCCTACTAGTCTTCAGTCTCATATTCTTCAAAATAGGGGAGAATGCCTTTTTACTAGCTGGCCAAACCTATCAAACTCAGCAAGCCATTATTGGCCACCGCGGCTATGTAGAAAAGGGCGTAGAAAATACCATCCAATCTCTTGAAGCAGCCGCTGAAAATGGCGCCACCATGGTAGAACTAGATGTCCAAATGACTAAGGATCAAAGGCTGGTTGTTATGCACGACAGCAACTTACAGCGTTTAGCGGGCATGAATAGAGAAGTTTGGGATATGACTTATGATGAATTAGTGGGACTGACGCTCAGTCAGGGAGACTATCAAAGTCAGCTGCCATCCTTTGAGGAATTTGTTAAGCGAGCTCAGGAGCTAGATATTGATCTTCTAATTGAGCTCAAACCCCATGGCAAGGAGCCAGATAATTATGCTCAACTGATCGTTGATAAACTCCAAGAACTAGGTATTACTAACCGCTATCCAGTCATGTCTCTCAATCATGAAGTTATTGACGCCATTGAGTCTCTCAATTCTGATATTAGAACTGGCTATGTGATTCCATTGCAATTTGGTGCTTTTGCCAAAAATGAGGTTGATTTCTATGTCTTAGAGGCATTCTCCTATACTAGTGAGCTAGCCAATCAAGCTCATAAAGAGGGCAAAGAAATCTATGTCTGGACCATTAATGATGAAGAGGAAATCCAAAGCTTTCTCTATCGACCTGTTGATGGTATTATTACCGACAAATTGGAAACACTCAAGGAAATCCAATACGGCATCTCAGACAATCAAACTTACTTCGAACGTGTAGGACAACTTATGGCGCCACAGTTCTGA\n",
      ">OMX_gene_fb83e21a8e707f4074c919bc85b8cffd|hypothetical protein\n",
      "ATGATTGACCGTTCATATTTACCATTTCAATCAGCAAGAGAGTACCAGGATACAAAGATGCAAAAATGGATGGGCTTTTTCCTATCTGAACATGCATCAGCACTCTCTGATGATACAAACAAAGTAACGTACATGTCTGACTTATCACTAGAGAAGAAATTATTACTCCTCAGTCAAGTATACGCCGGGCAGCTACGCACACGCATTCAAGTGATTGAAAAAAACAAGCGTGTTTCCTACACTGGAACAATACCAAGTCTGACCAAAGATTTCATTTTGATAAAAACTACAACAGGTCACATCAATTTGAAATTAAAAGACATTATTAGTATTGAACTTGTCGAGGAGGTGCTCTATGAATCAGCTTGA\n",
      ">OMX_gene_8b9403de60c4f475d13ff4d10dd302da|hypothetical protein\n",
      "ATGCTGATACAATTTATTTCTTGGGCCTTTACTACTTACGAGACCCTTATTATTATTTGGGCCATCATGTCTTGGTTTCCTGATGCCCGTTACAGTGACTTAGGACGTTGGGTAGGTAGCCTAGTCGAGCCTTATGTTGAGCTTTTTGATCGTTTTATCCCGCCAGTAGGGGGCTTGAGCTTTTCAGTTATGGCGGCGCTGATGGTTCTCTATCTGGTTCAAAATTTCCTTATGCGATTGTTAGTTGGAGTGTAG\n",
      ">OMX_gene_40d07a0c64d0df8a9c4515ba25781acc|hypothetical protein\n",
      "ATGGCAAGACAAGAAATAAGCATTGAGTCAGATTTCATTACCCTAGGACAGGTATTGAAAAATGAAGGCATCATTGCAACAGGTGGCCAAGCCAAATGGTTTCTGTCAGAAGAAAAGGTCTTGGTGAATCAGGAGCAAGAAACACGCCGAGGACGCAAGCTCTATCCAGGGGATCAGGTCACCATTCCGGCTTTGGATTTTGATGCCTTGATGGTTGCAGATGAAGCTTAA\n",
      ">OMX_gene_850766878fc2971ec0ae96d41b42b512|hypothetical protein\n",
      "ATGGAGTTAGGAATCATTGAAGCTTTTGTGCGTCAACGTATGGCGCAAGATAAGACGGGGCATGATATTCAGCACCTTGAGCGTGTGGTTGCCAATGCTCAACGTTTGATGGCAGCTGAATCACAGCCCATAAAAACCTCCATTGTGCTAGCTGCCGCTTGGTTGCATGATGTCATTGATGATAAGGTGACATCGAATCCAGCTCAAGCGCGTAGAGAAGTAGCAGAGCTTCTAATACAAGCAGGAGCAACTTTACCGGAACGAGATGCTATTTTAGAAATTATGGACCGCCAGTCTTTTAGTAAAAACCTGCAAGAAAGGCAATCTCTATCACTTGAAGGGCAAATCGTACAGGATGCAGACCGATTAGATGCCTTAGGGGCAATTGGTATCGCTCGTACCTTCTATTATGGAGGTTCACGAGGACATGATCTCTATAATGACTTGCCTCCTCGTGATTTGTCCCAGTTAAGTCAAGAAGATTATCGTCAAAATCAGAGCAGTCTTGCGCATTTTGATGAAAAATTATTAAAGTTGGCTGACTTGATGAATACCGCATCAGGCCGTGCTCTAGCCCAAGAGAGAACTGCTTTTATGCGCCAATACCTGGCACAATTCTGGGCTGAAATCAAAGGAGAATAA\n",
      ">OMX_gene_c2a5337f88b671a22ed1eda0fbadb1ed|hypothetical protein\n",
      "ATGGAAGAATTGGACATCAATGGAGATAACTTTAATACAATTTATGCAGATATTAAGGAGAGATATCTATCTAGAACCTCCTTTCCAAAAATAATAGTAGGGACAGGACTTTCAATAAGCCTTGGTGTTGCTGGTATGGTGGGATTGTCAGATGAGTTAGAAAAAAATTTTAATAATGAATATAGTGATTACTTAGAAAAATGGAACGAATACCAGGCTGATGTTCGTTCCAATGGTTTAGAGGCAGCTCTACTAAAAATTAAACCTGATGAAGTGGATTTTGTGGAAAAAATACGAGAGATTACTGCCGAATATATACTGTCATCTGATTTAGCAGCTAGAGAGGGGATTCTAGGTAGGGAATCTGGCTTTGAAAAACTCATTAGATATCTATCTGAAACAGTTAGTGTACAGAATAGAATAATTGATATTATGACACCTAACTATGACTTGGTTATTGAGACAATTGCAGATAAATTAGAGTTGCTAACCAATCTAGGGTTTGAGGGAAATATATTTCAGTACTTTAATGAAGACAGAATAAGAAATCCACGTAACTACTATTCGAATTCTGTCCCAATGATAAGGCTATTAAAGCCGCATGGATCAATTAACTGGATAAATGGCGAGAGTTCGGTCAAACAAATTAATGATGTAGGTTATCTTAAAAGAAATAAAGGAGACATAGAAATAATCACTCCGGGGGGCATGAAATACCAATATGGAATGACACATGAATTGTTTAGGATACATAGAGAAGTTTTTAACGAAATTATCACCGCAAGAAATACTGACTTCTCCATCTTTATTTATGGCTATGGGTTTAATGATGAACATTTTAATTCTGTGCTAGACAGCAAAACAAAGAATATAATCATCTTAACGAGAGACATAAAACAGGAAATAGTAGATAAAGCTATGAGCAATGATAATTGGACACTGATTTACAAAGGCGTTAGTGGTGATAACTTAAGTTACTCACACTCTTATATGATATATAAAAAGCAAAAATACAAATTAAGTACAGAATTATGGAATATAGATGTGTTTGCCGACATATTTATAGGATAA\n",
      ">OMX_gene_c2d934fa0b886173dd6463017dd95229|Calcium-transporting ATPase 1\n",
      "ATGTTAACAAAATTATCAGCCTATAACCAAGAGGCGCAAGCCGTCATTGACAGCTTAGAAAGCCATGTTGAGACGGGCTTGACAGCTGCAGTGGCTGCGCAACGCTTGGAAGAGTTCGGTCCTAATGAACTCAAGGCCGAAGCTCATTCAACCCTCTTGCAGAAGTTTATTGAGCAATTCAAGGACTTCATGATTATCATCCTCGTGATTGCGGCGGCTGTCTCCTTCGTGGCCAGCCACGAGTGGCACGACGCGGTCATCATTCTCCTAGTGGTGGTGCTTAACGCCATTATGGGGGTAGTCCAAGAAGCCAAGGCTGAAGAAGCCATTGACGCCCTCAAGGAAATGGCTTCACCTGACGCCCGTGTCCGCCGTGATGGCAATGTCATGACCGTTAAGTCTCATGACTTGGTGCCAGGCGATATCGTCTTATTGGAAGCTGGAGATATTGTACCAGCGGATATGCGTTTGATTGAAGCCAACTCACTCAAGGTTGAAGAAGCAGCCTTGACTGGGGAATCGGTGCCAGTTGATAAGGACATCAGCGTGATTGCAGAAGAAGGTGCCGGGATTGGGGACCGCCATAACATGGTCTTCTCTAGCACCAATGTGACTTACGGTCGTGCCTTAGCCATTGTAACGGCAACCGGGATGAATACCGAAGTCGGCCATATCGCCAGCATGTTAGCCAGTGCTGAGAAAACCAAGACCCCATTGCAACGCGACCAAGACCGTTTGGGTAAGACCTTGACTATTATGATCTTAGTCATTGCGGCTGTGACCTTCATCGTTGGTTTGTTGCGTGGCCGTCAGATTCCCGACATGCTCTTAGTGTCTATCTCCTTGGCCGTGGCTGCCATCCCTGAAGGCTTGCCAGCCATTTCAACCATTATCCTCTCTATCGGGACTCAAACTATGGCAGACCGTAAGGCCTTGGTTCGGACCTTGCCTGCCGTTGAGACCTTGGGTGGGACCCAAATTATCTGTTCCGATAAGACGGGGACCTTGACCCTTAACAAGATGACCATTGAAAAAGCCTACTATGATGGGGTTCTCCACAATGCCTCTGAAGACTTAGATTTAGATTTACCGCTCTTACGTTCCATTGTTTTGGCTAACGACACGGAAGTGGACGCCGAAGGTAATTTGATTGGGGATCCAACCGAAACTGCCATGGTTAAGTTTGCCTTAGACAAGGGCTATCCTTTGGCTGAACGCTTGGCTAGCTTCCCACGGGTGGGCGAGATTCCATTTGACTCTACCCGTAAATTGATGACGACAGTCCACCCGCTAGCGGATGGTCGCTACCTGGTAGCCACCAAAGGGGCGCCAGACCAATTGCTCAAACGCTGCCTTCATAAGGACTTTGGCGGCCAGGTGACCGACTTGACCGATGTTGATCGCCAAGCCATCTTGACCGAAAATACAGGCATGGCGCGTCAAGCCTTACGTGTCTTGGCAGGGGCTTATAAGATTATTGATCAATTGCCTAGCAAGTTCGAATCTGAGGAATTAGAACATGACTTAATCTTTGCTGGTTTAGTCGGTATGATTGACCCTGAGCGTCAAGAAGCCGCGGATGCTATTGCTGTAGCCAAAGGGGCCGGCATGCGGACCGTCATGATTACTGGTGACCACGCTGAAACCGCGCAAGCTATTGCGGAACGTCTAGGTATCTTGAATCCAAACGAAGACAACCACCATCACGTCATGACCGGGGCCGAACTTGACGCTATTTCTGATCAAGCATTAGAAGCGCGTGTTCAAGACTTGTCAGTCTACGCCCGTGTATCGCCTGAGCACAAGGTGCGCATTATCAAGGCATGGCAGTCTAAAGGTAAGACCGTGTCCATGACCGGGGACGGGGTCAACGATGCGCCTTCCCTCAAGCAAGCAGATATCGGGGTCGGCATGGGGATTACCGGGACCGAAGTGTCCAAGGGTGCCTCTGACATGGTCCTAGCAGACGATAACTTCGAAACCATCGTCGTGGCGGTTGAAGAAGGGCGTAAGGTCTTCGCCAATATCCAGAAGGCTGTCCAATATCTCTTGTCAGCTAACTTGGGTGAGGTCATTACCCTCTTCGTAGCTACCTTATTAGGTTGGACTATCTTGCAACCTGTTCATATCTTATGGATAAACTTAGTGACAGACGTCTTCCCAGCCATTGCTTTGGGGATGGAAAAAGCCGAGCCAGATGTGATGAATCGTCCGCCACGGACTAAGGAGTCTAGCTTCTTATCTAATGGCATCTTGCCAAGTATCCTCTACCAAGGGATCTTGGAAAGTGCGCTGACCCTCTTCATCTACTGGTTAGCTCGTCAATGGTACCACCAAGAAAACTTGGCCGAAACCATGGCCTTTGCGACCTTAGGTTTGATTCAACTCTTCCATGCTTTCAACGTCAAGTATGTCTTCACTTCTCTCTTCACAGGGAAAGCCTTCGATAACAAGTTCCTTAACGGCGCAGCCCTCTTGTCGGCTGTCATGTTACTAGGCGTTATCGTTATTCCAGGCATCAACGACTTCTTCGACGTGACCGCGCCTACCTTGCCACAATGGGGCTTGGTACTAGCTGTATCCTTCAGCATCATCGTGCTAGTCGAACTCATCAAGTGGGGCCTACGCACTAGTGGCCTAGCTGACAAGTTAAGCAAACAAGAAACCAAATAA\n"
     ]
    }
   ],
   "source": [
    "gene_results_fasta = genes.results(type='fasta')\n",
    "print(gene_results_fasta)"
   ]
  },
  {
   "cell_type": "markdown",
   "metadata": {
    "colab_type": "text",
    "id": "ccFSaDiIk5qh"
   },
   "source": [
    "### Get GO-terms and IPR-codes by Gene"
   ]
  },
  {
   "cell_type": "code",
   "execution_count": 14,
   "metadata": {
    "colab": {
     "base_uri": "https://localhost:8080/",
     "height": 515
    },
    "colab_type": "code",
    "id": "iUXH8rwNk6Qg",
    "outputId": "c885ae54-21ae-4d72-91a3-3da2b7ddb46e"
   },
   "outputs": [
    {
     "data": {
      "text/html": [
       "<div>\n",
       "<style scoped>\n",
       "    .dataframe tbody tr th:only-of-type {\n",
       "        vertical-align: middle;\n",
       "    }\n",
       "\n",
       "    .dataframe tbody tr th {\n",
       "        vertical-align: top;\n",
       "    }\n",
       "\n",
       "    .dataframe thead th {\n",
       "        text-align: right;\n",
       "    }\n",
       "</style>\n",
       "<table border=\"1\" class=\"dataframe\">\n",
       "  <thead>\n",
       "    <tr style=\"text-align: right;\">\n",
       "      <th></th>\n",
       "      <th>id</th>\n",
       "      <th>name</th>\n",
       "      <th>type</th>\n",
       "      <th>category</th>\n",
       "      <th>status</th>\n",
       "      <th>classification</th>\n",
       "    </tr>\n",
       "  </thead>\n",
       "  <tbody>\n",
       "    <tr>\n",
       "      <th>0</th>\n",
       "      <td>GO:0006807</td>\n",
       "      <td>nitrogen compound metabolic process</td>\n",
       "      <td>go</td>\n",
       "      <td>BIOLOGICAL_PROCESS</td>\n",
       "      <td>active</td>\n",
       "      <td>[bacteria]</td>\n",
       "    </tr>\n",
       "    <tr>\n",
       "      <th>1</th>\n",
       "      <td>GO:0005737</td>\n",
       "      <td>cytoplasm</td>\n",
       "      <td>go</td>\n",
       "      <td>CELLULAR_COMPONENT</td>\n",
       "      <td>active</td>\n",
       "      <td>[bacteria]</td>\n",
       "    </tr>\n",
       "    <tr>\n",
       "      <th>2</th>\n",
       "      <td>GO:0003824</td>\n",
       "      <td>catalytic activity</td>\n",
       "      <td>go</td>\n",
       "      <td>MOLECULAR_FUNCTION</td>\n",
       "      <td>active</td>\n",
       "      <td>[bacteria]</td>\n",
       "    </tr>\n",
       "    <tr>\n",
       "      <th>3</th>\n",
       "      <td>GO:0006542</td>\n",
       "      <td>glutamine biosynthetic process</td>\n",
       "      <td>go</td>\n",
       "      <td>BIOLOGICAL_PROCESS</td>\n",
       "      <td>active</td>\n",
       "      <td>[bacteria]</td>\n",
       "    </tr>\n",
       "    <tr>\n",
       "      <th>4</th>\n",
       "      <td>GO:0009399</td>\n",
       "      <td>nitrogen fixation</td>\n",
       "      <td>go</td>\n",
       "      <td>BIOLOGICAL_PROCESS</td>\n",
       "      <td>active</td>\n",
       "      <td>[bacteria]</td>\n",
       "    </tr>\n",
       "    <tr>\n",
       "      <th>5</th>\n",
       "      <td>GO:0004356</td>\n",
       "      <td>glutamate-ammonia ligase activity</td>\n",
       "      <td>go</td>\n",
       "      <td>MOLECULAR_FUNCTION</td>\n",
       "      <td>active</td>\n",
       "      <td>[bacteria]</td>\n",
       "    </tr>\n",
       "  </tbody>\n",
       "</table>\n",
       "</div>"
      ],
      "text/plain": [
       "           id                                 name type            category  \\\n",
       "0  GO:0006807  nitrogen compound metabolic process   go  BIOLOGICAL_PROCESS   \n",
       "1  GO:0005737                            cytoplasm   go  CELLULAR_COMPONENT   \n",
       "2  GO:0003824                   catalytic activity   go  MOLECULAR_FUNCTION   \n",
       "3  GO:0006542       glutamine biosynthetic process   go  BIOLOGICAL_PROCESS   \n",
       "4  GO:0009399                    nitrogen fixation   go  BIOLOGICAL_PROCESS   \n",
       "5  GO:0004356    glutamate-ammonia ligase activity   go  MOLECULAR_FUNCTION   \n",
       "\n",
       "   status classification  \n",
       "0  active     [bacteria]  \n",
       "1  active     [bacteria]  \n",
       "2  active     [bacteria]  \n",
       "3  active     [bacteria]  \n",
       "4  active     [bacteria]  \n",
       "5  active     [bacteria]  "
      ]
     },
     "metadata": {},
     "output_type": "display_data"
    },
    {
     "data": {
      "text/html": [
       "<div>\n",
       "<style scoped>\n",
       "    .dataframe tbody tr th:only-of-type {\n",
       "        vertical-align: middle;\n",
       "    }\n",
       "\n",
       "    .dataframe tbody tr th {\n",
       "        vertical-align: top;\n",
       "    }\n",
       "\n",
       "    .dataframe thead th {\n",
       "        text-align: right;\n",
       "    }\n",
       "</style>\n",
       "<table border=\"1\" class=\"dataframe\">\n",
       "  <thead>\n",
       "    <tr style=\"text-align: right;\">\n",
       "      <th></th>\n",
       "      <th>id</th>\n",
       "      <th>name</th>\n",
       "      <th>type</th>\n",
       "      <th>category</th>\n",
       "      <th>description</th>\n",
       "      <th>status</th>\n",
       "      <th>classification</th>\n",
       "    </tr>\n",
       "  </thead>\n",
       "  <tbody>\n",
       "    <tr>\n",
       "      <th>0</th>\n",
       "      <td>IPR008147</td>\n",
       "      <td>Gln_synt_b-grasp</td>\n",
       "      <td>ipr</td>\n",
       "      <td>DOMAIN</td>\n",
       "      <td>Glutamine synthetase, beta-Grasp domain</td>\n",
       "      <td>active</td>\n",
       "      <td>[bacteria]</td>\n",
       "    </tr>\n",
       "    <tr>\n",
       "      <th>1</th>\n",
       "      <td>IPR008146</td>\n",
       "      <td>Gln_synth_cat_dom</td>\n",
       "      <td>ipr</td>\n",
       "      <td>DOMAIN</td>\n",
       "      <td>Glutamine synthetase, catalytic domain</td>\n",
       "      <td>active</td>\n",
       "      <td>[bacteria]</td>\n",
       "    </tr>\n",
       "    <tr>\n",
       "      <th>2</th>\n",
       "      <td>IPR014746</td>\n",
       "      <td>Gln_synth/guanido_kin_cat_dom</td>\n",
       "      <td>ipr</td>\n",
       "      <td>HOMOLOGOUS_SUPERFAMILY</td>\n",
       "      <td>Glutamine synthetase/guanido kinase, catalytic...</td>\n",
       "      <td>active</td>\n",
       "      <td>[bacteria]</td>\n",
       "    </tr>\n",
       "    <tr>\n",
       "      <th>3</th>\n",
       "      <td>IPR036651</td>\n",
       "      <td>Gln_synt_N</td>\n",
       "      <td>ipr</td>\n",
       "      <td>HOMOLOGOUS_SUPERFAMILY</td>\n",
       "      <td>Glutamine synthetase, N-terminal domain superf...</td>\n",
       "      <td>active</td>\n",
       "      <td>[bacteria]</td>\n",
       "    </tr>\n",
       "    <tr>\n",
       "      <th>4</th>\n",
       "      <td>IPR004809</td>\n",
       "      <td>Gln_synth_I</td>\n",
       "      <td>ipr</td>\n",
       "      <td>FAMILY</td>\n",
       "      <td>Glutamine synthetase type I</td>\n",
       "      <td>active</td>\n",
       "      <td>[bacteria]</td>\n",
       "    </tr>\n",
       "  </tbody>\n",
       "</table>\n",
       "</div>"
      ],
      "text/plain": [
       "          id                           name type                category  \\\n",
       "0  IPR008147               Gln_synt_b-grasp  ipr                  DOMAIN   \n",
       "1  IPR008146              Gln_synth_cat_dom  ipr                  DOMAIN   \n",
       "2  IPR014746  Gln_synth/guanido_kin_cat_dom  ipr  HOMOLOGOUS_SUPERFAMILY   \n",
       "3  IPR036651                     Gln_synt_N  ipr  HOMOLOGOUS_SUPERFAMILY   \n",
       "4  IPR004809                    Gln_synth_I  ipr                  FAMILY   \n",
       "\n",
       "                                         description  status classification  \n",
       "0            Glutamine synthetase, beta-Grasp domain  active     [bacteria]  \n",
       "1             Glutamine synthetase, catalytic domain  active     [bacteria]  \n",
       "2  Glutamine synthetase/guanido kinase, catalytic...  active     [bacteria]  \n",
       "3  Glutamine synthetase, N-terminal domain superf...  active     [bacteria]  \n",
       "4                        Glutamine synthetase type I  active     [bacteria]  "
      ]
     },
     "metadata": {},
     "output_type": "display_data"
    }
   ],
   "source": [
    "genes = omx.genes(ids='921db25406f80e09c8f78dd915f355aa')\n",
    "genes = genes.results()\n",
    "\n",
    "gene = genes[0]\n",
    "# print(gene)\n",
    "\n",
    "display(gene.go().results(type='df'))\n",
    "display(gene.ipr().results(type='df'))"
   ]
  },
  {
   "cell_type": "markdown",
   "metadata": {
    "colab_type": "text",
    "id": "T811yNvZk-0e"
   },
   "source": [
    "### Get Genome Assembly file"
   ]
  },
  {
   "cell_type": "code",
   "execution_count": 12,
   "metadata": {
    "colab": {
     "base_uri": "https://localhost:8080/",
     "height": 34
    },
    "colab_type": "code",
    "id": "b9GQt9Ugk_Sa",
    "outputId": "10c8a29b-6ab2-44a4-e1ce-09477acfa5c6"
   },
   "outputs": [
    {
     "data": {
      "text/plain": [
       "'./omxware_collaborative_work/data/getting_started/SRR1922824.txt'"
      ]
     },
     "execution_count": 12,
     "metadata": {},
     "output_type": "execute_result"
    }
   ],
   "source": [
    "output_file_path = './omxware_collaborative_work/data/getting_started/' + genome.id() + '.txt'\n",
    "# update above for your file system\n",
    "\n",
    "genome.file(output_file_path=output_file_path)"
   ]
  },
  {
   "cell_type": "markdown",
   "metadata": {
    "colab_type": "text",
    "id": "oaVJXCnGlDsY"
   },
   "source": [
    "### Get 'biosample' metadata for the Genome"
   ]
  },
  {
   "cell_type": "code",
   "execution_count": 15,
   "metadata": {
    "colab": {
     "base_uri": "https://localhost:8080/",
     "height": 697
    },
    "colab_type": "code",
    "id": "t4-aDqoklEwN",
    "outputId": "d834e3bf-9870-4544-c51d-63dc3415a801"
   },
   "outputs": [
    {
     "name": "stdout",
     "output_type": "stream",
     "text": [
      "null\n"
     ]
    }
   ],
   "source": [
    "metadata_json = genome.metadata(type='biosample')\n",
    "print(json.dumps(metadata_json, indent=4, sort_keys=True))\n",
    "#indicates no biosample metadata present"
   ]
  }
 ],
 "metadata": {
  "colab": {
   "name": "Getting Started with OMXware.ipynb",
   "provenance": [],
   "version": "0.3.2"
  },
  "kernelspec": {
   "display_name": "Python 3",
   "language": "python",
   "name": "python3"
  },
  "language_info": {
   "codemirror_mode": {
    "name": "ipython",
    "version": 3
   },
   "file_extension": ".py",
   "mimetype": "text/x-python",
   "name": "python",
   "nbconvert_exporter": "python",
   "pygments_lexer": "ipython3",
   "version": "3.7.5"
  }
 },
 "nbformat": 4,
 "nbformat_minor": 1
}
