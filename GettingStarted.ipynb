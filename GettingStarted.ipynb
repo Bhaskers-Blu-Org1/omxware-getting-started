{
 "cells": [
  {
   "cell_type": "markdown",
   "metadata": {
    "colab_type": "text",
    "id": "lV9-qpW7jOZx"
   },
   "source": [
    "## Verify Python 3"
   ]
  },
  {
   "cell_type": "code",
   "execution_count": 1,
   "metadata": {
    "colab": {
     "base_uri": "https://localhost:8080/",
     "height": 34
    },
    "colab_type": "code",
    "id": "-8eDpkW6jU0s",
    "outputId": "1016309c-7d55-470d-f8fa-a1b426fa5492"
   },
   "outputs": [
    {
     "name": "stdout",
     "output_type": "stream",
     "text": [
      "Alrite! We are using Python 3\n"
     ]
    }
   ],
   "source": [
    "import sys\n",
    "\n",
    "if sys.version_info[0] < 3:\n",
    "    raise \"Must be using Python 3\"\n",
    "else:\n",
    "    print(\"Alrite! We are using Python \"+str(sys.version_info[0]))"
   ]
  },
  {
   "cell_type": "markdown",
   "metadata": {
    "colab_type": "text",
    "id": "CItgtMaJjaeR"
   },
   "source": [
    "## Install OMXWare"
   ]
  },
  {
   "cell_type": "code",
   "execution_count": null,
   "metadata": {
    "colab": {},
    "colab_type": "code",
    "id": "LLktsOe9jbqv"
   },
   "outputs": [],
   "source": [
    "!echo 'y' | pip uninstall omxware\n",
    "\n",
    "#Install OMXWare client\n",
    "!pip install --no-cache-dir omxware \n",
    "\n",
    "#Install PrettyPrint\n",
    "!pip install --no-cache-dir pprint\n",
    "\n",
    "#Install py4j to use Dynamic forms\n",
    "!pip install --no-cache-dir py4j\n",
    "\n",
    "#Install panda\n",
    "!pip install --no-cache-dir pandas"
   ]
  },
  {
   "cell_type": "code",
   "execution_count": 3,
   "metadata": {
    "colab": {
     "base_uri": "https://localhost:8080/",
     "height": 216
    },
    "colab_type": "code",
    "id": "fcR_u7flj-9g",
    "outputId": "29dd8e8c-6137-4893-da7c-f9d3d1a3002f"
   },
   "outputs": [
    {
     "name": "stdout",
     "output_type": "stream",
     "text": [
      "Name: omxware\r\n",
      "Version: 0.1.27\r\n",
      "Summary: Python wrapper for OMXWare REST services to access Data and Files.\r\n",
      "Home-page: https://github.ibm.com/GrandChallenge-Almaden/omxware-pypi\r\n",
      "Author: Harsha Krishnareddy\r\n",
      "Author-email: hvkrishn@us.ibm.com\r\n",
      "License: UNKNOWN\r\n",
      "Location: /opt/conda/envs/Python36/lib/python3.6/site-packages\r\n",
      "Requires: pycrypto, IPython, urllib3, configparser, matplotlib, requests, simplejson, pprint, python-keycloak, pandas\r\n",
      "Required-by: \r\n"
     ]
    }
   ],
   "source": [
    "!pip show omxware"
   ]
  },
  {
   "cell_type": "markdown",
   "metadata": {
    "colab_type": "text",
    "id": "A8nrTsIFkIf_"
   },
   "source": [
    "### Import OMXWare and initialize"
   ]
  },
  {
   "cell_type": "code",
   "execution_count": 1,
   "metadata": {
    "colab": {},
    "colab_type": "code",
    "id": "QeyZJ-n1kLav"
   },
   "outputs": [],
   "source": [
    "%matplotlib inline\n",
    "\n",
    "import json\n",
    "import pprint\n",
    "pp = pprint.PrettyPrinter(indent=4)\n",
    "\n",
    "from IPython.display import display\n",
    "\n",
    "import omxware\n",
    "\n",
    "\n",
    "# --- Authentication options --- #\n",
    "# generate token with OMXWare user name and password (likely done once and then stored in file, see usage below)\n",
    "# token = omxware.get_token('username', '<pw>') # fill in password to initiate token\n",
    "\n",
    "# or\n",
    "\n",
    "# use previously generated token loaded from file\n",
    "token_path = \"./omxware_collaborative_work/super_awesome_token\"  # update for your path to the token file you create\n",
    "f = open(token_path)\n",
    "token = f.readline()\n",
    "\n",
    "# provide your token to authenticate with OMXWare\n",
    "omx = omxware.omxware(token)"
   ]
  },
  {
   "cell_type": "code",
   "execution_count": 3,
   "metadata": {
    "colab": {},
    "colab_type": "code",
    "id": "6yhYiy9bkRGM"
   },
   "outputs": [],
   "source": [
    "# help(omx)"
   ]
  },
  {
   "cell_type": "markdown",
   "metadata": {
    "colab_type": "text",
    "id": "bqGve5tHkbAG"
   },
   "source": [
    "#### Genomes for Genus: 'Abiotrophia'"
   ]
  },
  {
   "cell_type": "code",
   "execution_count": 4,
   "metadata": {
    "colab": {
     "base_uri": "https://localhost:8080/",
     "height": 111
    },
    "colab_type": "code",
    "id": "1QImwcdTkcTn",
    "outputId": "7e321b3b-4a43-404d-9a8c-dc9ee6750679"
   },
   "outputs": [
    {
     "data": {
      "text/html": [
       "<div>\n",
       "<style scoped>\n",
       "    .dataframe tbody tr th:only-of-type {\n",
       "        vertical-align: middle;\n",
       "    }\n",
       "\n",
       "    .dataframe tbody tr th {\n",
       "        vertical-align: top;\n",
       "    }\n",
       "\n",
       "    .dataframe thead th {\n",
       "        text-align: right;\n",
       "    }\n",
       "</style>\n",
       "<table border=\"1\" class=\"dataframe\">\n",
       "  <thead>\n",
       "    <tr style=\"text-align: right;\">\n",
       "      <th></th>\n",
       "      <th>genera</th>\n",
       "      <th>genome_type</th>\n",
       "      <th>id</th>\n",
       "      <th>taxid</th>\n",
       "      <th>metadata</th>\n",
       "    </tr>\n",
       "  </thead>\n",
       "  <tbody>\n",
       "    <tr>\n",
       "      <th>0</th>\n",
       "      <td>[abiotrophia]</td>\n",
       "      <td>SRA</td>\n",
       "      <td>SRR1922824</td>\n",
       "      <td>46123</td>\n",
       "      <td>{'biosample': {'strain': 'HMSC24B09', 'access'...</td>\n",
       "    </tr>\n",
       "    <tr>\n",
       "      <th>1</th>\n",
       "      <td>[abiotrophia]</td>\n",
       "      <td>SRA</td>\n",
       "      <td>DRR015936</td>\n",
       "      <td>46123</td>\n",
       "      <td>{'biosample': {'access': 'public', 'sra_id': '...</td>\n",
       "    </tr>\n",
       "  </tbody>\n",
       "</table>\n",
       "</div>"
      ],
      "text/plain": [
       "          genera genome_type          id  taxid  \\\n",
       "0  [abiotrophia]         SRA  SRR1922824  46123   \n",
       "1  [abiotrophia]         SRA   DRR015936  46123   \n",
       "\n",
       "                                            metadata  \n",
       "0  {'biosample': {'strain': 'HMSC24B09', 'access'...  \n",
       "1  {'biosample': {'access': 'public', 'sra_id': '...  "
      ]
     },
     "metadata": {},
     "output_type": "display_data"
    }
   ],
   "source": [
    "# Get Genus object for genus_name = 'abiotrophia'\n",
    "genus = omx.genus(genus_names='abiotrophia').results()[0]\n",
    "\n",
    "# Get Genomes for the Genus ^^^^^^^^\n",
    "genomes_for_genus = genus.genomes()\n",
    "g4gdf = genomes_for_genus.results(type='df')[['genera','genome_type','id','taxid', 'metadata']]\n",
    "\n",
    "display(g4gdf)"
   ]
  },
  {
   "cell_type": "markdown",
   "metadata": {
    "colab_type": "text",
    "id": "8vOEAf2Wkhsw"
   },
   "source": [
    "### Get Genome by its ID"
   ]
  },
  {
   "cell_type": "code",
   "execution_count": 5,
   "metadata": {
    "colab": {
     "base_uri": "https://localhost:8080/",
     "height": 102
    },
    "colab_type": "code",
    "id": "rVk9u_1AkivX",
    "outputId": "d9025171-56b3-40ea-ddcf-50e2abf244a1"
   },
   "outputs": [
    {
     "name": "stdout",
     "output_type": "stream",
     "text": [
      "ID: SRR1922824\n",
      "Type: SRA\n",
      "TaxID: 46123\n",
      "BioSample: {'strain': 'HMSC24B09', 'access': 'public', 'owner_name': 'Washington University, Genome Sequencing \n",
      "Genera: [<omxware.entities.Genus.Genus object at 0x1115e5080>]\n"
     ]
    }
   ],
   "source": [
    "genome_id = 'SRR1922824'\n",
    "\n",
    "genome = omx.genomes(ids=genome_id).results()[0]\n",
    "\n",
    "# For the Genome ^^^^^^^^^^^\n",
    "id = genome.id()\n",
    "typ = genome.genome_type()\n",
    "taxid = genome.taxid()\n",
    "metadata = genome.metadata('biosample')\n",
    "\n",
    "genera = genome.genus().results()\n",
    "\n",
    "print('ID: ' + id)\n",
    "print('Type: ' + typ)\n",
    "print('TaxID: ' + taxid)\n",
    "print('BioSample: ' + str(metadata)[:100])\n",
    "print('Genera: ' + str(genera))\n",
    "\n",
    "\n"
   ]
  },
  {
   "cell_type": "markdown",
   "metadata": {
    "colab_type": "text",
    "id": "ASjOxrcxkmhR"
   },
   "source": [
    "### Get Genes for a Genome"
   ]
  },
  {
   "cell_type": "code",
   "execution_count": 6,
   "metadata": {
    "colab": {},
    "colab_type": "code",
    "id": "r3Xhnw2PknKX"
   },
   "outputs": [],
   "source": [
    "genes = genome.genes(page_number=1, page_size=10)"
   ]
  },
  {
   "cell_type": "markdown",
   "metadata": {
    "colab_type": "text",
    "id": "CZxxfTZ7kqfc"
   },
   "source": [
    "### Distribution of Genes by Genera"
   ]
  },
  {
   "cell_type": "code",
   "execution_count": 7,
   "metadata": {
    "colab": {
     "base_uri": "https://localhost:8080/",
     "height": 297
    },
    "colab_type": "code",
    "id": "Y-85YV9xkrYR",
    "outputId": "0509f204-7074-4727-e78c-9dbac29a2c84"
   },
   "outputs": [
    {
     "data": {
      "image/png": "[encoded data removed]",
      "text/plain": [
       "<Figure size 432x288 with 1 Axes>"
      ]
     },
     "metadata": {},
     "output_type": "display_data"
    }
   ],
   "source": [
    "genes.show_facets(name='genera', topN=5)"
   ]
  },
  {
   "cell_type": "markdown",
   "metadata": {
    "colab_type": "text",
    "id": "dfTw1ZaXkvfv"
   },
   "source": [
    "### Get the Genes"
   ]
  },
  {
   "cell_type": "code",
   "execution_count": 8,
   "metadata": {
    "colab": {
     "base_uri": "https://localhost:8080/",
     "height": 529
    },
    "colab_type": "code",
    "id": "aTF89EUSkwHi",
    "outputId": "8dc6bddd-788d-42f0-d47f-858a03445d45"
   },
   "outputs": [
    {
     "data": {
      "text/html": [
       "<div>\n",
       "<style scoped>\n",
       "    .dataframe tbody tr th:only-of-type {\n",
       "        vertical-align: middle;\n",
       "    }\n",
       "\n",
       "    .dataframe tbody tr th {\n",
       "        vertical-align: top;\n",
       "    }\n",
       "\n",
       "    .dataframe thead th {\n",
       "        text-align: right;\n",
       "    }\n",
       "</style>\n",
       "<table border=\"1\" class=\"dataframe\">\n",
       "  <thead>\n",
       "    <tr style=\"text-align: right;\">\n",
       "      <th></th>\n",
       "      <th>genera</th>\n",
       "      <th>genomes</th>\n",
       "      <th>id</th>\n",
       "      <th>name</th>\n",
       "      <th>omx_creation_ts</th>\n",
       "      <th>omx_modified_ts</th>\n",
       "      <th>sequence_length</th>\n",
       "      <th>type</th>\n",
       "    </tr>\n",
       "  </thead>\n",
       "  <tbody>\n",
       "    <tr>\n",
       "      <th>0</th>\n",
       "      <td>[abiotrophia]</td>\n",
       "      <td>[SRR1922824]</td>\n",
       "      <td>0cfbebbfc879e543f766a3185ffe45d2</td>\n",
       "      <td>UDP-N-acetylmuramoyl-L-alanyl-D-glutamate--2,6...</td>\n",
       "      <td>2018-02-28T17:30:33.657Z</td>\n",
       "      <td>2018-02-28T17:30:33.657Z</td>\n",
       "      <td>1491</td>\n",
       "      <td>gene</td>\n",
       "    </tr>\n",
       "    <tr>\n",
       "      <th>1</th>\n",
       "      <td>[abiotrophia]</td>\n",
       "      <td>[SRR1922824]</td>\n",
       "      <td>7ab0cfaaa96a174eaf75c292d1fdcd64</td>\n",
       "      <td>L-fucose isomerase</td>\n",
       "      <td>2018-02-28T17:30:34.779Z</td>\n",
       "      <td>2018-02-28T17:30:34.779Z</td>\n",
       "      <td>1767</td>\n",
       "      <td>gene</td>\n",
       "    </tr>\n",
       "    <tr>\n",
       "      <th>2</th>\n",
       "      <td>[abiotrophia, streptococcus, chlamydia, lachno...</td>\n",
       "      <td>[GCF_000232445.1, ERR829886, ERR264437, ERR106...</td>\n",
       "      <td>fb83e21a8e707f4074c919bc85b8cffd</td>\n",
       "      <td>hypothetical protein</td>\n",
       "      <td>2018-02-13T23:19:12.827Z</td>\n",
       "      <td>2018-02-13T23:19:12.827Z</td>\n",
       "      <td>369</td>\n",
       "      <td>gene</td>\n",
       "    </tr>\n",
       "    <tr>\n",
       "      <th>3</th>\n",
       "      <td>[abiotrophia]</td>\n",
       "      <td>[SRR1922824]</td>\n",
       "      <td>8b9403de60c4f475d13ff4d10dd302da</td>\n",
       "      <td>hypothetical protein</td>\n",
       "      <td>2018-02-28T17:30:33.665Z</td>\n",
       "      <td>2018-02-28T17:30:33.665Z</td>\n",
       "      <td>255</td>\n",
       "      <td>gene</td>\n",
       "    </tr>\n",
       "    <tr>\n",
       "      <th>4</th>\n",
       "      <td>[abiotrophia]</td>\n",
       "      <td>[SRR1922824]</td>\n",
       "      <td>40d07a0c64d0df8a9c4515ba25781acc</td>\n",
       "      <td>hypothetical protein</td>\n",
       "      <td>2018-02-28T17:30:34.227Z</td>\n",
       "      <td>2018-02-28T17:30:34.227Z</td>\n",
       "      <td>231</td>\n",
       "      <td>gene</td>\n",
       "    </tr>\n",
       "    <tr>\n",
       "      <th>5</th>\n",
       "      <td>[abiotrophia]</td>\n",
       "      <td>[SRR1922824]</td>\n",
       "      <td>bfe0bb5dbdfb3c2891d615e2c1a4f9d8</td>\n",
       "      <td>1,3-beta-galactosyl-N-acetylhexosamine phospho...</td>\n",
       "      <td>2018-02-28T17:30:35.278Z</td>\n",
       "      <td>2018-02-28T17:30:35.278Z</td>\n",
       "      <td>2172</td>\n",
       "      <td>gene</td>\n",
       "    </tr>\n",
       "    <tr>\n",
       "      <th>6</th>\n",
       "      <td>[abiotrophia]</td>\n",
       "      <td>[SRR1922824]</td>\n",
       "      <td>afa8969cd22d97b75dfe5ea0f1e16c6a</td>\n",
       "      <td>Iron uptake system component EfeO</td>\n",
       "      <td>2018-02-28T17:30:33.947Z</td>\n",
       "      <td>2018-02-28T17:30:33.947Z</td>\n",
       "      <td>651</td>\n",
       "      <td>gene</td>\n",
       "    </tr>\n",
       "    <tr>\n",
       "      <th>7</th>\n",
       "      <td>[abiotrophia]</td>\n",
       "      <td>[SRR1922824]</td>\n",
       "      <td>c2a5337f88b671a22ed1eda0fbadb1ed</td>\n",
       "      <td>hypothetical protein</td>\n",
       "      <td>2018-02-28T17:30:35.391Z</td>\n",
       "      <td>2018-02-28T17:30:35.391Z</td>\n",
       "      <td>1071</td>\n",
       "      <td>gene</td>\n",
       "    </tr>\n",
       "    <tr>\n",
       "      <th>8</th>\n",
       "      <td>[abiotrophia]</td>\n",
       "      <td>[SRR1922824]</td>\n",
       "      <td>c2d934fa0b886173dd6463017dd95229</td>\n",
       "      <td>Calcium-transporting ATPase 1</td>\n",
       "      <td>2018-02-28T17:30:35.567Z</td>\n",
       "      <td>2018-02-28T17:30:35.567Z</td>\n",
       "      <td>2673</td>\n",
       "      <td>gene</td>\n",
       "    </tr>\n",
       "    <tr>\n",
       "      <th>9</th>\n",
       "      <td>[abiotrophia]</td>\n",
       "      <td>[SRR1922824]</td>\n",
       "      <td>50652bb950645af9275b5378bc8b6408</td>\n",
       "      <td>Dihydrolipoyl dehydrogenase</td>\n",
       "      <td>2018-02-28T17:30:33.920Z</td>\n",
       "      <td>2018-02-28T17:30:33.920Z</td>\n",
       "      <td>1407</td>\n",
       "      <td>gene</td>\n",
       "    </tr>\n",
       "  </tbody>\n",
       "</table>\n",
       "</div>"
      ],
      "text/plain": [
       "                                              genera  \\\n",
       "0                                      [abiotrophia]   \n",
       "1                                      [abiotrophia]   \n",
       "2  [abiotrophia, streptococcus, chlamydia, lachno...   \n",
       "3                                      [abiotrophia]   \n",
       "4                                      [abiotrophia]   \n",
       "5                                      [abiotrophia]   \n",
       "6                                      [abiotrophia]   \n",
       "7                                      [abiotrophia]   \n",
       "8                                      [abiotrophia]   \n",
       "9                                      [abiotrophia]   \n",
       "\n",
       "                                             genomes  \\\n",
       "0                                       [SRR1922824]   \n",
       "1                                       [SRR1922824]   \n",
       "2  [GCF_000232445.1, ERR829886, ERR264437, ERR106...   \n",
       "3                                       [SRR1922824]   \n",
       "4                                       [SRR1922824]   \n",
       "5                                       [SRR1922824]   \n",
       "6                                       [SRR1922824]   \n",
       "7                                       [SRR1922824]   \n",
       "8                                       [SRR1922824]   \n",
       "9                                       [SRR1922824]   \n",
       "\n",
       "                                 id  \\\n",
       "0  0cfbebbfc879e543f766a3185ffe45d2   \n",
       "1  7ab0cfaaa96a174eaf75c292d1fdcd64   \n",
       "2  fb83e21a8e707f4074c919bc85b8cffd   \n",
       "3  8b9403de60c4f475d13ff4d10dd302da   \n",
       "4  40d07a0c64d0df8a9c4515ba25781acc   \n",
       "5  bfe0bb5dbdfb3c2891d615e2c1a4f9d8   \n",
       "6  afa8969cd22d97b75dfe5ea0f1e16c6a   \n",
       "7  c2a5337f88b671a22ed1eda0fbadb1ed   \n",
       "8  c2d934fa0b886173dd6463017dd95229   \n",
       "9  50652bb950645af9275b5378bc8b6408   \n",
       "\n",
       "                                                name  \\\n",
       "0  UDP-N-acetylmuramoyl-L-alanyl-D-glutamate--2,6...   \n",
       "1                                 L-fucose isomerase   \n",
       "2                               hypothetical protein   \n",
       "3                               hypothetical protein   \n",
       "4                               hypothetical protein   \n",
       "5  1,3-beta-galactosyl-N-acetylhexosamine phospho...   \n",
       "6                  Iron uptake system component EfeO   \n",
       "7                               hypothetical protein   \n",
       "8                      Calcium-transporting ATPase 1   \n",
       "9                        Dihydrolipoyl dehydrogenase   \n",
       "\n",
       "            omx_creation_ts           omx_modified_ts  sequence_length  type  \n",
       "0  2018-02-28T17:30:33.657Z  2018-02-28T17:30:33.657Z             1491  gene  \n",
       "1  2018-02-28T17:30:34.779Z  2018-02-28T17:30:34.779Z             1767  gene  \n",
       "2  2018-02-13T23:19:12.827Z  2018-02-13T23:19:12.827Z              369  gene  \n",
       "3  2018-02-28T17:30:33.665Z  2018-02-28T17:30:33.665Z              255  gene  \n",
       "4  2018-02-28T17:30:34.227Z  2018-02-28T17:30:34.227Z              231  gene  \n",
       "5  2018-02-28T17:30:35.278Z  2018-02-28T17:30:35.278Z             2172  gene  \n",
       "6  2018-02-28T17:30:33.947Z  2018-02-28T17:30:33.947Z              651  gene  \n",
       "7  2018-02-28T17:30:35.391Z  2018-02-28T17:30:35.391Z             1071  gene  \n",
       "8  2018-02-28T17:30:35.567Z  2018-02-28T17:30:35.567Z             2673  gene  \n",
       "9  2018-02-28T17:30:33.920Z  2018-02-28T17:30:33.920Z             1407  gene  "
      ]
     },
     "metadata": {},
     "output_type": "display_data"
    }
   ],
   "source": [
    "gene_results = genes.results(type='df')\n",
    "display(gene_results)"
   ]
  },
  {
   "cell_type": "markdown",
   "metadata": {
    "colab_type": "text",
    "id": "gUdBTk84k0hz"
   },
   "source": [
    "### Get Genes as Fasta"
   ]
  },
  {
   "cell_type": "code",
   "execution_count": 9,
   "metadata": {
    "colab": {
     "base_uri": "https://localhost:8080/",
     "height": 382
    },
    "colab_type": "code",
    "id": "OEYHcQeik1Ga",
    "outputId": "f6487b50-c3c3-4616-a71f-19779b0962fa"
   },
   "outputs": [
    {
     "name": "stdout",
     "output_type": "stream",
     "text": [
      ">OMX_gene_0cfbebbfc879e543f766a3185ffe45d2|UDP-N-acetylmuramoyl-L-alanyl-D-glutamate--2,6-diaminopimelate ligase\n",
      "ATGCAAGTAGAAGACTTACTAAGAGCAGTTCCTAGTGGTCAATTGTATGGCCCAGAAATCAAGGGGGAAATCACGCAACTAGTTAACGATACACGTAACTTAGTGCCTGGTTGTGCCTTTGTTGCCATTAAGGGCCTACAATTTGACGGTCACACTGCTGTGGATCAAGTAGCAGCAGCTGGGGCTAAACTTATGGTGGTAGAAGTCCTGCCTGAAAATTGGCAAGACTACCCATTAAGCTTTTTCTTGGTTCCTTCAACTTTCCGAGCACAAGCCTTGTTAGCTAATCAGTTTTTTGGTCGGCCTACCGAGCATCTTAATGTGGTGGCAGTCACCGGGACTAATGGTAAAACAACCATTTCTAGTCTTATCAGTGATTTGCTCATGCAATTAGGGCATAAGACAGGGCTCATTGGGACCTTACATTATAAGGTGGATCAGACTTATTATCCATCCATCAACACGACGCCCAATGCCTTAGCTCTTCAGCAGTTATTTGCTGAAATGGTATCGGTAGGTTGTCAGGATGCTCTAATTGAAGCTTCTTCTCATGCCTTAGCCTTGGGGCGTCTTTGGGCAACAGATATTGACTGTGCCATCTTCACAAACTTAACTCGGGAGCACTTGGATTTCCATAAAACCATGGAAGGCTATGCCTATGCTAAGTCCTTGCTTTTTGCCCAACTAGGACAAAAGTTTGCGGGAGAGGGGCCAAGACTGGCTATTATCAATGCAGATGACCCTTATGCTTCCATTATGATGCAAGCAACTTCAGCGGATGTTTTGACTTATAGTCTTCAGGATTCTAAAGCCAGTGCCTATGCTGACCAACTAGCGGTTAAGGATGGTAACCAAACCTTCAGACTGCATTATCGCAATCAGACCTATCAAGTTGTTAGCCCTATGCTTGGCGCATACAACGTGGCTAACTTTATGGCGGCCTTTCTTTGCTTGGTAGACTATTACCATGTCCAACCTCAAACAGTAGTTGATTTAATGCTTAGCTTTGGTGGGGTTGAGGGCCGGATGCAAAGACTAGATTTAGGACAAGAATTCCAAGTGGTAGTCGACTTTGCCCACACACCAGATGCCATTGAACGTGTGCTTCAAGAGTTAAAGGCTCAGGAGCCTAAACGCCTAGTTACCATTATTGGACACAGTGGCGGTAATCGCGATAGTGGAGCGCGCCCGGAAATTGGGGACAAGGTCTTTGAATATTCGGATTGGATCATATTCACAGCTGATAATCCAAGGCATGAACCTGTGGCGAAAATTTGTGCTGAGTTAATTGGAAGTCACAATGAAGTGCCTTATAAGGTCATTGAAGATCGCAAGGAAGCCATTGACTATGTCATTTCTCAGGCGCAAGCAGGGGATTTATTGGTCTTTGCCGGCAAGGGTAGCGAGCCCTACCAGATTATTGGTGATGACAAGTTACCTTATGATGAAGTAACAGAAATTGAAGCGGCTGTTACCCGCCACTTTGGCTAG\n",
      ">OMX_gene_7ab0cfaaa96a174eaf75c292d1fdcd64|L-fucose isomerase\n",
      "ATGAGTCAACATCCACGTATTGGGATTCGCCCTACAATTGACGGTCGTCGCCAAGGCGTACGGGAATCCCTAGAAGTCCAAACCATGAACATGGCCAAGAGTGTGGCTGACTTAATCAGCAGCACGCTCAAATATCCGGACGGCCAACCAGTTGAATGTGTTATCTCACCTTCAACCATTGGACGGGTGCCAGAAGCAGCCGCTTCTCACGAACTCTTCAAGAAATCCAATGTCTGTGCAACCCTTACCGTGACCCCTTGCTGGTGCTACGGGAGTGAGACTATGGATATGTCACCAGATATTCCACATGCCATCTGGGGCTTCAATGGGACGGAACGTCCGGGCGCTGTTTACTTAGCTGCTGTGTTAGCTTCTCATGCGCAAAAGGGGATCCCAGCCTTCGGTATTTACGGTCACGACGTACAAGAAGCCGATGATACTGAAATTCCTGCTGACGTTAAGGAAAAGATTCTCCGTTATGCACGGGCTGCTTTAGCAACCGGCCATATGCGCGACACGGCTTATCTGTCAATGGGGAGTGTCTCCATGGGGATTGGCGGGTCTATCGTTGACCCAGACTTCTTCCAAGAGTACTTGGGTATGCGTAATGAATCGGTCGACATGACTGAATTCACCCGTCGGATTGACCGTGGTATCTATGATCCAGAAGAATTTGAACGTGCCATGACTTGGGTGAAGGCCAACATCAAAGAAGGCCAAGACCGCAACCGTCAAGACTTAGTTCTTTCACCAGAAGAAAAAGCGAAACAATGGGAATTCGTCGTTAAGATGTTCATGATTGGTCGCGACCTCATGCAAGGCAACCCTCGCTTAGCAGAACTAGGTTTTGAAGAAGAAGCGGTGGGCCACCACGCCCTAGTGGCTGGTTTCCAAGGTCAACGTCAATGGACTGACCACTTCCCTAACGGGGACTTCATGGAAACCTTCCTTAACACTCAATTTGACTGGAACGGTATCCGTAAGCCTTATATCTTCGCCACTGAAAATGATGCCCTCAACGGCGTGTCCATGCTCTTCAACTATCTCTTGACCAATACGCCACAAATCTTTGCTGACGTACGGACTTACTGGAGTCCTGAAGCAGTAGAACGGGTAACCGGTCATAAGTTAGAAGGTCATGCAGCGAATGGTTTCCTTCATTTGATTAACTCTGGCTCATGTACTCTCGATGGTACCGGCCAAGCAAGTCGTGATGGGCAAGCCGTGATTAAGCCATTCTGGGAATTGGAACAAAGCGAAGTCGATGCCATGTTGGCGAATACAGACTTCCCACCAGCTAACCGCGAATACTTCCGTGGCGGTGGCTTCTCAACTCGCTTCTTGACTAAGGGTGGCATGCCAGTGACCATGGTTCGCCTCAACCTCCTCAAGGGCGTAGGACCAGTCTTGCAAATTGCGGAAGGTTACACCTTAGAATTGCCAGACCAAGTACACCATACCTTAGATAACCGGACCGATCCAGGCTGGCCAACCACTTGGTTCGCACCACGCTTGACTGGCAAGGGTGCCTTCACTTCTGTCTATGATGTCATGAATAACTGGGGGGCTAACCACGGGGCGATCTCTTACGGACACATTGGGGCAGACCTCATCACCTTAGCATCCATGTTACGGATTCCAGTCAACATGCACAACGTAGCAGAAGAAGATATCTTCCGTCCTAAGAACTGGAGTCTCTTCGGTACAGAAGATTTGGAAGCAGCGGACTATCGCGCTTGCCAAACCTTAGGCCCAATTCATAAGTAG\n",
      ">OMX_gene_fb83e21a8e707f4074c919bc85b8cffd|hypothetical protein\n",
      "ATGATTGACCGTTCATATTTACCATTTCAATCAGCAAGAGAGTACCAGGATACAAAGATGCAAAAATGGATGGGCTTTTTCCTATCTGAACATGCATCAGCACTCTCTGATGATACAAACAAAGTAACGTACATGTCTGACTTATCACTAGAGAAGAAATTATTACTCCTCAGTCAAGTATACGCCGGGCAGCTACGCACACGCATTCAAGTGATTGAAAAAAACAAGCGTGTTTCCTACACTGGAACAATACCAAGTCTGACCAAAGATTTCATTTTGATAAAAACTACAACAGGTCACATCAATTTGAAATTAAAAGACATTATTAGTATTGAACTTGTCGAGGAGGTGCTCTATGAATCAGCTTGA\n",
      ">OMX_gene_8b9403de60c4f475d13ff4d10dd302da|hypothetical protein\n",
      "ATGCTGATACAATTTATTTCTTGGGCCTTTACTACTTACGAGACCCTTATTATTATTTGGGCCATCATGTCTTGGTTTCCTGATGCCCGTTACAGTGACTTAGGACGTTGGGTAGGTAGCCTAGTCGAGCCTTATGTTGAGCTTTTTGATCGTTTTATCCCGCCAGTAGGGGGCTTGAGCTTTTCAGTTATGGCGGCGCTGATGGTTCTCTATCTGGTTCAAAATTTCCTTATGCGATTGTTAGTTGGAGTGTAG\n",
      ">OMX_gene_40d07a0c64d0df8a9c4515ba25781acc|hypothetical protein\n",
      "ATGGCAAGACAAGAAATAAGCATTGAGTCAGATTTCATTACCCTAGGACAGGTATTGAAAAATGAAGGCATCATTGCAACAGGTGGCCAAGCCAAATGGTTTCTGTCAGAAGAAAAGGTCTTGGTGAATCAGGAGCAAGAAACACGCCGAGGACGCAAGCTCTATCCAGGGGATCAGGTCACCATTCCGGCTTTGGATTTTGATGCCTTGATGGTTGCAGATGAAGCTTAA\n",
      ">OMX_gene_bfe0bb5dbdfb3c2891d615e2c1a4f9d8|1,3-beta-galactosyl-N-acetylhexosamine phosphorylase\n",
      "ATGGCCAAATCAAAAGGCAGACTTACGTTACCAAGTGAGCGCAATTTCCTTGCGCAAACTCAAGAATTATTAGATCGCTGGGGGGCTGATGCCATCCGCGATTCCGATGGGACCAAGTTAGAAGAGGCAGTCAAAGATTTAGATGCTTCTATTTATACGACCTATTTTGTAGCTCGAAATCATAATGATTTTATCAAAGACCATATGGAAGAGTGCCAACAACTCTATTTGATGTCGCCCTTCCATACCGCAAGCCAAGAAAGCTTAGCCATTGATTTCATGCAGGGCTACTATCGGGAACAAGTAGTACCTGACTATCACCATGATCCTAAGGAGTGGTGGGAAGTCATTAACCGCACCACTGGCCAAGTAGTCCCAAGCAGCCAGTGGCAGGTGGATCAAGAGCGGGACCTAGTGATGGTGGAAGGGGCAGAACCCTTCCATGAATATACGGTTTCCTTCTTGGTTTATAAGATTTGGGACCCAACTCAAATGTATAACCATATCACTAATAATTGGGGCGACTCAGTGGCTCACGATATTCCTTTTGATGTGCGTCAGCCACATTCCAACCGCTTCATGAGTGACTACCTCAGACGTTGGTGCCAAGAGAATCCTAAGACGGATGTGGTCCGCTTTACCACCTTCTTCTACCATTTCACCCTGGTCTTCAATGACAAGGCCAAAGAGAAATTTGTCGACTGGTTTGGCTATGGAGCTTCTGTATCACCAGCAGCCATCCTAGCCTTCCAAGAAGCCAAAGGTTATCGTCTGAGACCGGAAGATTTTGTTGACCAAGGTTACTATAATACGGCTTTCCGCGTGCCTTCTAAGGCCTACTTAGACTATGTCGATTTCCAAAGCCACTTTGTGGCTCAAGAAGCCAAGAAGTTAGTGGATATTGTCCATGAAGCTGGCAAAGAAGCCATGATGTTCCTAGGCGATAACTGGATTGGGACCGAACCTTATGGCCCTTATTTCAAGGATATTGGCTTGGACGCAGTGGTTGGCTCAGTCGGCGGCGGAGCTACCTTAAGGATGATTGCCGATATTCCACATGTTAAATATACCGAAGGTCGCTTCCTGCCATACTTCTTCCCAGATACTTTCTATGAAGGAAATGATCCGACCATTGAAGCCAACGAGAATTGGCTAACAGCACGCCGGGCCATTATGCGTAAGCCCGTTGACCGGATTGGTTATGGGGGTTATCTCAGTCTCGCCTATAAATTCCCTAAATTTGTTTCCTATATCGAAGAAGTGGCGGATGAATTCCGAGATATCTACGCCATTGTCAAAGACACCAAGCCTTATGTGGGGCTAAAAGTAGGGATTCTCAATGCTTGGGGGGCACTTCGGACCTGGCAAACGCACATGGTGGCGCATGCCTTGCACTATAAGCAAATCTACTCCTATCTGGGGATTCTAGAAGCCCTCAGTGGTGCGGCGGTTGAGGTAGTCTTCTTGAGTTTTGACCAGGTGATTGCTGACGGTGTGCCGGCAGATGTGGACGTCTTAATTAACGCAGGCGATGCCGGAACCGCCTTTAGTGGTGGTCAACATTGGGCACGGCCAGAATTGTTAAGTGCCATTCGTCGCTTCGTCTACCAAGGTGGCGGTTTGGTGGGCGTTGGTGAGCCAAGTGCCCATCTCCAAAATGGTCGTTTCTTCCAATTAGCTGAAATTCTCGGGGTGGATAAGGAGTTAGGCTTCTCCCTATCGACTGACAAATACTTCACTCAAGCCCAAGGCAGTCACTTTATTACGGCAGATTTAGTGACTGGTCAGGTGCCAGATTTCGGGGAGTCCATGCATAACCTCTATGCCCTAAGTGAAGAGACAGAAATTTTAGAATACAGCAATGGCGAAGTTCATATGGCGGCACACGATTATGGTCAAGGCCGCGGGGTCTACCTAGCTGGCTTACCTTACAGCATTGACAATACGCGTTTACTCATGCGGGCTCTTTACTACGCTGCCCATAAGGAAGCTGACTTTAATAAATGGCATAGTAGCAACTCAGCTGTTGAGGTTCATGCCTACCCAGCTAAGGGCAAGTATGCAGTTGTCAATAATACCGCTGAGCCACAAGTCACGACTGTCTATGATGGTCAAGGAATTAGCAAAGAAGTTTCCTTGGCTGCGAGCGAAATTCGATGGGAGGAGATTTAG\n",
      ">OMX_gene_afa8969cd22d97b75dfe5ea0f1e16c6a|Iron uptake system component EfeO\n",
      "TTGGATGAAGCTAAGAAAGTTTATCCATTGATTCGTAAGGCCTATGAGCGGTCAGAACCTATCGCTGAGCTTTTTGCAGAATCTGATGTTAAAATTGACTACCGTCTAGCAGACTATGTAGAGGATAATCAAACTGAAGAAGGTTGGTCTGGATTCCACAAAATTGAACAAATCCTGTGGGAAGAGGGCAAGACTGAGCCTGCAGTGTCCTATGCAAAGCAGCTAGTAGATGATATTAAGGAGCTTAAGGCCAAAGTCGCGACAGTTGAGGTAACACCTGAAAACATGCTGACAGGCGCCGTGGACTTACTAAATGAGGTGGCTACTAGCAAGATCACCGGCGAAGAAGAAATCTATTCTCATACAGATCTCTATGATTTTGAAGCTAATATTGCGGGAGCCGAAAAGATTTTTAACATCTTTAAAGACAAAATTTCTGCTAAGGATTCTGAATTGGCCAAGAACCTAACTGAAAAATTCAAGGCAGTCAATAATCTCTTGGCTAGCCACAAAGTGGATGCTGACCACTACAAACTCTATACAGAATTAAACGAGAAAGAAACCAAGGCCCTAGCTGAGGCAGTCACTAAGTTAGGGGAACCCCTATCGCAAATGGCCGTTATCTTGGAGGCTGATGAGAGTGGTCGCTAA\n",
      ">OMX_gene_c2a5337f88b671a22ed1eda0fbadb1ed|hypothetical protein\n",
      "ATGGAAGAATTGGACATCAATGGAGATAACTTTAATACAATTTATGCAGATATTAAGGAGAGATATCTATCTAGAACCTCCTTTCCAAAAATAATAGTAGGGACAGGACTTTCAATAAGCCTTGGTGTTGCTGGTATGGTGGGATTGTCAGATGAGTTAGAAAAAAATTTTAATAATGAATATAGTGATTACTTAGAAAAATGGAACGAATACCAGGCTGATGTTCGTTCCAATGGTTTAGAGGCAGCTCTACTAAAAATTAAACCTGATGAAGTGGATTTTGTGGAAAAAATACGAGAGATTACTGCCGAATATATACTGTCATCTGATTTAGCAGCTAGAGAGGGGATTCTAGGTAGGGAATCTGGCTTTGAAAAACTCATTAGATATCTATCTGAAACAGTTAGTGTACAGAATAGAATAATTGATATTATGACACCTAACTATGACTTGGTTATTGAGACAATTGCAGATAAATTAGAGTTGCTAACCAATCTAGGGTTTGAGGGAAATATATTTCAGTACTTTAATGAAGACAGAATAAGAAATCCACGTAACTACTATTCGAATTCTGTCCCAATGATAAGGCTATTAAAGCCGCATGGATCAATTAACTGGATAAATGGCGAGAGTTCGGTCAAACAAATTAATGATGTAGGTTATCTTAAAAGAAATAAAGGAGACATAGAAATAATCACTCCGGGGGGCATGAAATACCAATATGGAATGACACATGAATTGTTTAGGATACATAGAGAAGTTTTTAACGAAATTATCACCGCAAGAAATACTGACTTCTCCATCTTTATTTATGGCTATGGGTTTAATGATGAACATTTTAATTCTGTGCTAGACAGCAAAACAAAGAATATAATCATCTTAACGAGAGACATAAAACAGGAAATAGTAGATAAAGCTATGAGCAATGATAATTGGACACTGATTTACAAAGGCGTTAGTGGTGATAACTTAAGTTACTCACACTCTTATATGATATATAAAAAGCAAAAATACAAATTAAGTACAGAATTATGGAATATAGATGTGTTTGCCGACATATTTATAGGATAA\n",
      ">OMX_gene_c2d934fa0b886173dd6463017dd95229|Calcium-transporting ATPase 1\n",
      "ATGTTAACAAAATTATCAGCCTATAACCAAGAGGCGCAAGCCGTCATTGACAGCTTAGAAAGCCATGTTGAGACGGGCTTGACAGCTGCAGTGGCTGCGCAACGCTTGGAAGAGTTCGGTCCTAATGAACTCAAGGCCGAAGCTCATTCAACCCTCTTGCAGAAGTTTATTGAGCAATTCAAGGACTTCATGATTATCATCCTCGTGATTGCGGCGGCTGTCTCCTTCGTGGCCAGCCACGAGTGGCACGACGCGGTCATCATTCTCCTAGTGGTGGTGCTTAACGCCATTATGGGGGTAGTCCAAGAAGCCAAGGCTGAAGAAGCCATTGACGCCCTCAAGGAAATGGCTTCACCTGACGCCCGTGTCCGCCGTGATGGCAATGTCATGACCGTTAAGTCTCATGACTTGGTGCCAGGCGATATCGTCTTATTGGAAGCTGGAGATATTGTACCAGCGGATATGCGTTTGATTGAAGCCAACTCACTCAAGGTTGAAGAAGCAGCCTTGACTGGGGAATCGGTGCCAGTTGATAAGGACATCAGCGTGATTGCAGAAGAAGGTGCCGGGATTGGGGACCGCCATAACATGGTCTTCTCTAGCACCAATGTGACTTACGGTCGTGCCTTAGCCATTGTAACGGCAACCGGGATGAATACCGAAGTCGGCCATATCGCCAGCATGTTAGCCAGTGCTGAGAAAACCAAGACCCCATTGCAACGCGACCAAGACCGTTTGGGTAAGACCTTGACTATTATGATCTTAGTCATTGCGGCTGTGACCTTCATCGTTGGTTTGTTGCGTGGCCGTCAGATTCCCGACATGCTCTTAGTGTCTATCTCCTTGGCCGTGGCTGCCATCCCTGAAGGCTTGCCAGCCATTTCAACCATTATCCTCTCTATCGGGACTCAAACTATGGCAGACCGTAAGGCCTTGGTTCGGACCTTGCCTGCCGTTGAGACCTTGGGTGGGACCCAAATTATCTGTTCCGATAAGACGGGGACCTTGACCCTTAACAAGATGACCATTGAAAAAGCCTACTATGATGGGGTTCTCCACAATGCCTCTGAAGACTTAGATTTAGATTTACCGCTCTTACGTTCCATTGTTTTGGCTAACGACACGGAAGTGGACGCCGAAGGTAATTTGATTGGGGATCCAACCGAAACTGCCATGGTTAAGTTTGCCTTAGACAAGGGCTATCCTTTGGCTGAACGCTTGGCTAGCTTCCCACGGGTGGGCGAGATTCCATTTGACTCTACCCGTAAATTGATGACGACAGTCCACCCGCTAGCGGATGGTCGCTACCTGGTAGCCACCAAAGGGGCGCCAGACCAATTGCTCAAACGCTGCCTTCATAAGGACTTTGGCGGCCAGGTGACCGACTTGACCGATGTTGATCGCCAAGCCATCTTGACCGAAAATACAGGCATGGCGCGTCAAGCCTTACGTGTCTTGGCAGGGGCTTATAAGATTATTGATCAATTGCCTAGCAAGTTCGAATCTGAGGAATTAGAACATGACTTAATCTTTGCTGGTTTAGTCGGTATGATTGACCCTGAGCGTCAAGAAGCCGCGGATGCTATTGCTGTAGCCAAAGGGGCCGGCATGCGGACCGTCATGATTACTGGTGACCACGCTGAAACCGCGCAAGCTATTGCGGAACGTCTAGGTATCTTGAATCCAAACGAAGACAACCACCATCACGTCATGACCGGGGCCGAACTTGACGCTATTTCTGATCAAGCATTAGAAGCGCGTGTTCAAGACTTGTCAGTCTACGCCCGTGTATCGCCTGAGCACAAGGTGCGCATTATCAAGGCATGGCAGTCTAAAGGTAAGACCGTGTCCATGACCGGGGACGGGGTCAACGATGCGCCTTCCCTCAAGCAAGCAGATATCGGGGTCGGCATGGGGATTACCGGGACCGAAGTGTCCAAGGGTGCCTCTGACATGGTCCTAGCAGACGATAACTTCGAAACCATCGTCGTGGCGGTTGAAGAAGGGCGTAAGGTCTTCGCCAATATCCAGAAGGCTGTCCAATATCTCTTGTCAGCTAACTTGGGTGAGGTCATTACCCTCTTCGTAGCTACCTTATTAGGTTGGACTATCTTGCAACCTGTTCATATCTTATGGATAAACTTAGTGACAGACGTCTTCCCAGCCATTGCTTTGGGGATGGAAAAAGCCGAGCCAGATGTGATGAATCGTCCGCCACGGACTAAGGAGTCTAGCTTCTTATCTAATGGCATCTTGCCAAGTATCCTCTACCAAGGGATCTTGGAAAGTGCGCTGACCCTCTTCATCTACTGGTTAGCTCGTCAATGGTACCACCAAGAAAACTTGGCCGAAACCATGGCCTTTGCGACCTTAGGTTTGATTCAACTCTTCCATGCTTTCAACGTCAAGTATGTCTTCACTTCTCTCTTCACAGGGAAAGCCTTCGATAACAAGTTCCTTAACGGCGCAGCCCTCTTGTCGGCTGTCATGTTACTAGGCGTTATCGTTATTCCAGGCATCAACGACTTCTTCGACGTGACCGCGCCTACCTTGCCACAATGGGGCTTGGTACTAGCTGTATCCTTCAGCATCATCGTGCTAGTCGAACTCATCAAGTGGGGCCTACGCACTAGTGGCCTAGCTGACAAGTTAAGCAAACAAGAAACCAAATAA\n",
      ">OMX_gene_50652bb950645af9275b5378bc8b6408|Dihydrolipoyl dehydrogenase\n",
      "ATGGTAGTAGGAGATTTCGCAATTGAACTCGACACAGTCGTGATTGGTTCTGGCCCTGGTGGGTATGTAGCAGCTATTCGTGCTGCTCAACTCGGCCAAAAAGTTGCCATCATTGAAAAAGACTACATCGGGGGGACCTGCTTGAACGTAGGCTGTATCCCTTCTAAGGCTTTGATCAACGCTGGCCACACCTACCACAATGCTAAACACGGTGACCACTTTGGGGTTATTGCCAAAGATATCACTGTGGACTTCAAACGTACCCAAGAATGGAAAGACAAAGAAGTTGTTGCTAAGTTAACCGGCGGGATTCGCATGTTGCTTAAGAAGAACAAGGTAGAGATTATCGAAGGGGAAGCTTTCTTCGTAGATGACCATACTTTACGTGTTGTCAAAGAAGATTCAGCTCAAACTTACAGCTTCAACAATGCCATCGTGGCAACTGGTAGCCGCCCAATCGAAATCAAAGGCTTCAAGTACAGCGACCGCGTGATTGACTCTACTGGTGCTTTGGCCCTAGACCACATTCCATCTTCTATGGTGGTAATCGGTGGGGGTTACATCGGTTCAGAATTAGCAGGTGCTTTCGCTAACTTCGGGACTAAGATTACAATCTTGGAAGGTTCTAACCAAATCATCCCAACTTTTGAAAAAGACATGGTTAAATTAGTGGAAAATGAATTCGCTAAGAAGGGTGTAGACATCATCACCAACGCTATGGCTTTGAACTCAGAAGTAAAAGACAAGTCTGTTGTAGTTACTTATGAAGTAGGGGGCAAACAACACACCGTTGAAGCTGAATACTGCTTAGTAACAGTTGGTCGCCGTCCTAACACCGATAACTGCGGCTTGGAAGTTGCTGGGGTTATCGTGGGCGAACGTGGTTTGATCAACGTTGACAAACAAGGTCGCACTAACAAACCAAACATCTTCGCCATCGGTGACGCTGTTCCAGGTGCAGCCTTAGCCCACAAAGCAAGCTACGAAGCTAAGGTTGCTGCTGAAGCAATCGCTGGGCAAGCATCTGAAGTTGACTACGTGGCAATGCCAGCAGTCTGCTTCACTGACCCAGAATTATCTTCTGTAGGCTACACTGTAGACCAAGCTAAAGAAGCTGGTTTGAATGCTAAAGCTGTTAAATTCCCATTAGCTGGGAACGGTCGTGCCTTGTCCTTGAATGCAACTGAAGGGTTTGTACGTTTAGTTGTTGATAAGGAAGACAACACCATCTTAGGGGCACAAGTCGCAGGGGTTAACGCTTCTGACATCATTGCTGAATTGACCTTGGCAGTTGAAGGCGGCTTGAACGCTGAAGACATCGCCTTGACAATCCACTCACACCCATCCTTAGCTGAAACAGTTATGGATGCTGCTGAGTTGGCTTTAGGTCACCCAATTCACGTCTAA\n"
     ]
    }
   ],
   "source": [
    "gene_results_fasta = genes.results(type='fasta')\n",
    "print(gene_results_fasta)"
   ]
  },
  {
   "cell_type": "markdown",
   "metadata": {
    "colab_type": "text",
    "id": "ccFSaDiIk5qh"
   },
   "source": [
    "### Get GO-terms and IPR-codes by Gene"
   ]
  },
  {
   "cell_type": "code",
   "execution_count": 10,
   "metadata": {
    "colab": {
     "base_uri": "https://localhost:8080/",
     "height": 515
    },
    "colab_type": "code",
    "id": "iUXH8rwNk6Qg",
    "outputId": "c885ae54-21ae-4d72-91a3-3da2b7ddb46e"
   },
   "outputs": [
    {
     "data": {
      "text/html": [
       "<div>\n",
       "<style scoped>\n",
       "    .dataframe tbody tr th:only-of-type {\n",
       "        vertical-align: middle;\n",
       "    }\n",
       "\n",
       "    .dataframe tbody tr th {\n",
       "        vertical-align: top;\n",
       "    }\n",
       "\n",
       "    .dataframe thead th {\n",
       "        text-align: right;\n",
       "    }\n",
       "</style>\n",
       "<table border=\"1\" class=\"dataframe\">\n",
       "  <thead>\n",
       "    <tr style=\"text-align: right;\">\n",
       "      <th></th>\n",
       "      <th>category</th>\n",
       "      <th>id</th>\n",
       "      <th>name</th>\n",
       "      <th>type</th>\n",
       "    </tr>\n",
       "  </thead>\n",
       "  <tbody>\n",
       "    <tr>\n",
       "      <th>0</th>\n",
       "      <td>BIOLOGICAL_PROCESS</td>\n",
       "      <td>GO:0006807</td>\n",
       "      <td>nitrogen compound metabolic process</td>\n",
       "      <td>go</td>\n",
       "    </tr>\n",
       "    <tr>\n",
       "      <th>1</th>\n",
       "      <td>CELLULAR_COMPONENT</td>\n",
       "      <td>GO:0005737</td>\n",
       "      <td>cytoplasm</td>\n",
       "      <td>go</td>\n",
       "    </tr>\n",
       "    <tr>\n",
       "      <th>2</th>\n",
       "      <td>MOLECULAR_FUNCTION</td>\n",
       "      <td>GO:0003824</td>\n",
       "      <td>catalytic activity</td>\n",
       "      <td>go</td>\n",
       "    </tr>\n",
       "    <tr>\n",
       "      <th>3</th>\n",
       "      <td>BIOLOGICAL_PROCESS</td>\n",
       "      <td>GO:0006542</td>\n",
       "      <td>glutamine biosynthetic process</td>\n",
       "      <td>go</td>\n",
       "    </tr>\n",
       "    <tr>\n",
       "      <th>4</th>\n",
       "      <td>BIOLOGICAL_PROCESS</td>\n",
       "      <td>GO:0009399</td>\n",
       "      <td>nitrogen fixation</td>\n",
       "      <td>go</td>\n",
       "    </tr>\n",
       "    <tr>\n",
       "      <th>5</th>\n",
       "      <td>MOLECULAR_FUNCTION</td>\n",
       "      <td>GO:0004356</td>\n",
       "      <td>glutamate-ammonia ligase activity</td>\n",
       "      <td>go</td>\n",
       "    </tr>\n",
       "  </tbody>\n",
       "</table>\n",
       "</div>"
      ],
      "text/plain": [
       "             category          id                                 name type\n",
       "0  BIOLOGICAL_PROCESS  GO:0006807  nitrogen compound metabolic process   go\n",
       "1  CELLULAR_COMPONENT  GO:0005737                            cytoplasm   go\n",
       "2  MOLECULAR_FUNCTION  GO:0003824                   catalytic activity   go\n",
       "3  BIOLOGICAL_PROCESS  GO:0006542       glutamine biosynthetic process   go\n",
       "4  BIOLOGICAL_PROCESS  GO:0009399                    nitrogen fixation   go\n",
       "5  MOLECULAR_FUNCTION  GO:0004356    glutamate-ammonia ligase activity   go"
      ]
     },
     "metadata": {},
     "output_type": "display_data"
    },
    {
     "data": {
      "text/html": [
       "<div>\n",
       "<style scoped>\n",
       "    .dataframe tbody tr th:only-of-type {\n",
       "        vertical-align: middle;\n",
       "    }\n",
       "\n",
       "    .dataframe tbody tr th {\n",
       "        vertical-align: top;\n",
       "    }\n",
       "\n",
       "    .dataframe thead th {\n",
       "        text-align: right;\n",
       "    }\n",
       "</style>\n",
       "<table border=\"1\" class=\"dataframe\">\n",
       "  <thead>\n",
       "    <tr style=\"text-align: right;\">\n",
       "      <th></th>\n",
       "      <th>category</th>\n",
       "      <th>description</th>\n",
       "      <th>id</th>\n",
       "      <th>name</th>\n",
       "      <th>type</th>\n",
       "    </tr>\n",
       "  </thead>\n",
       "  <tbody>\n",
       "    <tr>\n",
       "      <th>0</th>\n",
       "      <td>DOMAIN</td>\n",
       "      <td>Glutamine synthetase, beta-Grasp domain</td>\n",
       "      <td>IPR008147</td>\n",
       "      <td>Gln_synt_b-grasp</td>\n",
       "      <td>ipr</td>\n",
       "    </tr>\n",
       "    <tr>\n",
       "      <th>1</th>\n",
       "      <td>CONSERVED_SITE</td>\n",
       "      <td>Glutamine synthetase class-I, adenylation site</td>\n",
       "      <td>IPR001637</td>\n",
       "      <td>Gln_synth_I_adenylation_site</td>\n",
       "      <td>ipr</td>\n",
       "    </tr>\n",
       "    <tr>\n",
       "      <th>2</th>\n",
       "      <td>DOMAIN</td>\n",
       "      <td>Glutamine synthetase, catalytic domain</td>\n",
       "      <td>IPR008146</td>\n",
       "      <td>Gln_synth_cat_dom</td>\n",
       "      <td>ipr</td>\n",
       "    </tr>\n",
       "    <tr>\n",
       "      <th>3</th>\n",
       "      <td>HOMOLOGOUS_SUPERFAMILY</td>\n",
       "      <td>Glutamine synthetase/guanido kinase, catalytic...</td>\n",
       "      <td>IPR014746</td>\n",
       "      <td>Gln_synth/guanido_kin_cat_dom</td>\n",
       "      <td>ipr</td>\n",
       "    </tr>\n",
       "    <tr>\n",
       "      <th>4</th>\n",
       "      <td>CONSERVED_SITE</td>\n",
       "      <td>Glutamine synthetase, N-terminal conserved site</td>\n",
       "      <td>IPR027302</td>\n",
       "      <td>Gln_synth_N_conserv_site</td>\n",
       "      <td>ipr</td>\n",
       "    </tr>\n",
       "    <tr>\n",
       "      <th>5</th>\n",
       "      <td>HOMOLOGOUS_SUPERFAMILY</td>\n",
       "      <td>Glutamine synthetase, N-terminal domain superf...</td>\n",
       "      <td>IPR036651</td>\n",
       "      <td>Gln_synt_N</td>\n",
       "      <td>ipr</td>\n",
       "    </tr>\n",
       "    <tr>\n",
       "      <th>6</th>\n",
       "      <td>FAMILY</td>\n",
       "      <td>Glutamine synthetase type I</td>\n",
       "      <td>IPR004809</td>\n",
       "      <td>Gln_synth_I</td>\n",
       "      <td>ipr</td>\n",
       "    </tr>\n",
       "    <tr>\n",
       "      <th>7</th>\n",
       "      <td>CONSERVED_SITE</td>\n",
       "      <td>Glutamine synthetase, glycine-rich site</td>\n",
       "      <td>IPR027303</td>\n",
       "      <td>Gln_synth_gly_rich_site</td>\n",
       "      <td>ipr</td>\n",
       "    </tr>\n",
       "  </tbody>\n",
       "</table>\n",
       "</div>"
      ],
      "text/plain": [
       "                 category                                        description  \\\n",
       "0                  DOMAIN            Glutamine synthetase, beta-Grasp domain   \n",
       "1          CONSERVED_SITE     Glutamine synthetase class-I, adenylation site   \n",
       "2                  DOMAIN             Glutamine synthetase, catalytic domain   \n",
       "3  HOMOLOGOUS_SUPERFAMILY  Glutamine synthetase/guanido kinase, catalytic...   \n",
       "4          CONSERVED_SITE    Glutamine synthetase, N-terminal conserved site   \n",
       "5  HOMOLOGOUS_SUPERFAMILY  Glutamine synthetase, N-terminal domain superf...   \n",
       "6                  FAMILY                        Glutamine synthetase type I   \n",
       "7          CONSERVED_SITE            Glutamine synthetase, glycine-rich site   \n",
       "\n",
       "          id                           name type  \n",
       "0  IPR008147               Gln_synt_b-grasp  ipr  \n",
       "1  IPR001637   Gln_synth_I_adenylation_site  ipr  \n",
       "2  IPR008146              Gln_synth_cat_dom  ipr  \n",
       "3  IPR014746  Gln_synth/guanido_kin_cat_dom  ipr  \n",
       "4  IPR027302       Gln_synth_N_conserv_site  ipr  \n",
       "5  IPR036651                     Gln_synt_N  ipr  \n",
       "6  IPR004809                    Gln_synth_I  ipr  \n",
       "7  IPR027303        Gln_synth_gly_rich_site  ipr  "
      ]
     },
     "metadata": {},
     "output_type": "display_data"
    }
   ],
   "source": [
    "genes = omx.genes(ids='921db25406f80e09c8f78dd915f355aa')\n",
    "genes = genes.results()\n",
    "\n",
    "gene = genes[0]\n",
    "# print(gene)\n",
    "\n",
    "display(gene.go().results(type='df'))\n",
    "display(gene.ipr().results(type='df'))"
   ]
  },
  {
   "cell_type": "markdown",
   "metadata": {
    "colab_type": "text",
    "id": "T811yNvZk-0e"
   },
   "source": [
    "### Get Genome Assembly file"
   ]
  },
  {
   "cell_type": "code",
   "execution_count": 12,
   "metadata": {
    "colab": {
     "base_uri": "https://localhost:8080/",
     "height": 34
    },
    "colab_type": "code",
    "id": "b9GQt9Ugk_Sa",
    "outputId": "10c8a29b-6ab2-44a4-e1ce-09477acfa5c6"
   },
   "outputs": [
    {
     "data": {
      "text/plain": [
       "'./omxware_collaborative_work/data/getting_started/SRR1922824.txt'"
      ]
     },
     "execution_count": 12,
     "metadata": {},
     "output_type": "execute_result"
    }
   ],
   "source": [
    "output_file_path = './omxware_collaborative_work/data/getting_started/' + genome.id() + '.txt'\n",
    "# update above for your file system\n",
    "\n",
    "genome.file(output_file_path=output_file_path)"
   ]
  },
  {
   "cell_type": "markdown",
   "metadata": {
    "colab_type": "text",
    "id": "oaVJXCnGlDsY"
   },
   "source": [
    "### Get 'biosample' metadata for the Genome"
   ]
  },
  {
   "cell_type": "code",
   "execution_count": 25,
   "metadata": {
    "colab": {
     "base_uri": "https://localhost:8080/",
     "height": 697
    },
    "colab_type": "code",
    "id": "t4-aDqoklEwN",
    "outputId": "d834e3bf-9870-4544-c51d-63dc3415a801"
   },
   "outputs": [
    {
     "name": "stdout",
     "output_type": "stream",
     "text": [
      "{\n",
      "    \"access\": \"public\",\n",
      "    \"accession\": \"SAMN03436211\",\n",
      "    \"biosample_id\": \"SAMN03436211\",\n",
      "    \"description\": \"Sample from Abiotrophia sp. HMSC24B09\",\n",
      "    \"id\": \"3436211\",\n",
      "    \"isolationsource\": \"respiratory\",\n",
      "    \"last_status_checked\": \"2016-02-26T17:00:15\",\n",
      "    \"last_update\": \"2016-02-26T17:00:15.160\",\n",
      "    \"links\": [\n",
      "        {\n",
      "            \"label\": \"PRJNA269830\",\n",
      "            \"target\": \"bioproject\",\n",
      "            \"type\": \"entrez\",\n",
      "            \"value\": {\n",
      "                \"#text\": \"269830\",\n",
      "                \"@label\": \"PRJNA269830\",\n",
      "                \"@target\": \"bioproject\",\n",
      "                \"@type\": \"entrez\"\n",
      "            }\n",
      "        }\n",
      "    ],\n",
      "    \"nathost\": \"Homo sapiens\",\n",
      "    \"organism_name\": null,\n",
      "    \"owner_contacts\": [\n",
      "        {\n",
      "            \"email\": \"lims@genome.wustl.edu\"\n",
      "        }\n",
      "    ],\n",
      "    \"owner_name\": \"Washington University, Genome Sequencing Center\",\n",
      "    \"package_name\": \"Generic\",\n",
      "    \"publication_date\": \"2015-03-20T18:05:07.547\",\n",
      "    \"sample_name\": \"462509\",\n",
      "    \"sra_id\": \"SRS878470\",\n",
      "    \"status\": \"live\",\n",
      "    \"strain\": \"HMSC24B09\",\n",
      "    \"submission_date\": \"2015-03-20T18:05:07.547\",\n",
      "    \"taxonomy_id\": \"1581061\",\n",
      "    \"taxonomy_name\": \"Abiotrophia sp. HMSC24B09\"\n",
      "}\n"
     ]
    }
   ],
   "source": [
    "metadata_json = genome.metadata(type='biosample')\n",
    "print(json.dumps(metadata_json, indent=4, sort_keys=True))"
   ]
  },
  {
   "cell_type": "code",
   "execution_count": 8,
   "metadata": {},
   "outputs": [
    {
     "data": {
      "text/html": [
       "<div>\n",
       "<style scoped>\n",
       "    .dataframe tbody tr th:only-of-type {\n",
       "        vertical-align: middle;\n",
       "    }\n",
       "\n",
       "    .dataframe tbody tr th {\n",
       "        vertical-align: top;\n",
       "    }\n",
       "\n",
       "    .dataframe thead th {\n",
       "        text-align: right;\n",
       "    }\n",
       "</style>\n",
       "<table border=\"1\" class=\"dataframe\">\n",
       "  <thead>\n",
       "    <tr style=\"text-align: right;\">\n",
       "      <th></th>\n",
       "      <th>genera</th>\n",
       "      <th>genome_type</th>\n",
       "      <th>id</th>\n",
       "      <th>taxid</th>\n",
       "      <th>metadata</th>\n",
       "    </tr>\n",
       "  </thead>\n",
       "  <tbody>\n",
       "    <tr>\n",
       "      <th>0</th>\n",
       "      <td>[abiotrophia]</td>\n",
       "      <td>SRA</td>\n",
       "      <td>SRR1922824</td>\n",
       "      <td>46123</td>\n",
       "      <td>{'biosample': {'strain': 'HMSC24B09', 'access'...</td>\n",
       "    </tr>\n",
       "    <tr>\n",
       "      <th>1</th>\n",
       "      <td>[abiotrophia]</td>\n",
       "      <td>SRA</td>\n",
       "      <td>DRR015936</td>\n",
       "      <td>46123</td>\n",
       "      <td>{'biosample': {'access': 'public', 'sra_id': '...</td>\n",
       "    </tr>\n",
       "  </tbody>\n",
       "</table>\n",
       "</div>"
      ],
      "text/plain": [
       "          genera genome_type          id  taxid  \\\n",
       "0  [abiotrophia]         SRA  SRR1922824  46123   \n",
       "1  [abiotrophia]         SRA   DRR015936  46123   \n",
       "\n",
       "                                            metadata  \n",
       "0  {'biosample': {'strain': 'HMSC24B09', 'access'...  \n",
       "1  {'biosample': {'access': 'public', 'sra_id': '...  "
      ]
     },
     "metadata": {},
     "output_type": "display_data"
    }
   ],
   "source": [
    "# Get Genus object for genus_name = 'abiotrophia'\n",
    "genus = omx.genus(genus_names='abiotrophia').results()[0]\n",
    "\n",
    "# Get Genomes for the Genus ^^^^^^^^\n",
    "genomes_for_genus = genus.genomes()\n",
    "g4gdf = genomes_for_genus.results(type='df')[['genera','genome_type','id','taxid', 'metadata']]\n",
    "\n",
    "display(g4gdf)"
   ]
  },
  {
   "cell_type": "code",
   "execution_count": null,
   "metadata": {},
   "outputs": [],
   "source": []
  }
 ],
 "metadata": {
  "colab": {
   "name": "Getting Started with OMXware.ipynb",
   "provenance": [],
   "version": "0.3.2"
  },
  "kernelspec": {
   "display_name": "Python 3",
   "language": "python",
   "name": "python3"
  },
  "language_info": {
   "codemirror_mode": {
    "name": "ipython",
    "version": 3
   },
   "file_extension": ".py",
   "mimetype": "text/x-python",
   "name": "python",
   "nbconvert_exporter": "python",
   "pygments_lexer": "ipython3",
   "version": "3.7.1"
  }
 },
 "nbformat": 4,
 "nbformat_minor": 1
}
